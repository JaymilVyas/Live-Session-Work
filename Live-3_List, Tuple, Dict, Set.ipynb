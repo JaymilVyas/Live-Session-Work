{
 "cells": [
  {
   "cell_type": "code",
   "execution_count": 1,
   "id": "854b761a",
   "metadata": {},
   "outputs": [],
   "source": [
    "l=[1,2,3,4,5,\"Jimmy\",89.19,True]"
   ]
  },
  {
   "cell_type": "code",
   "execution_count": 2,
   "id": "f40c7dd4",
   "metadata": {},
   "outputs": [
    {
     "data": {
      "text/plain": [
       "[1, 2, 3, 4, 5, 'Jimmy', 89.19, True]"
      ]
     },
     "execution_count": 2,
     "metadata": {},
     "output_type": "execute_result"
    }
   ],
   "source": [
    "l"
   ]
  },
  {
   "cell_type": "code",
   "execution_count": 3,
   "id": "c5f78241",
   "metadata": {},
   "outputs": [
    {
     "data": {
      "text/plain": [
       "1"
      ]
     },
     "execution_count": 3,
     "metadata": {},
     "output_type": "execute_result"
    }
   ],
   "source": [
    "l[0]"
   ]
  },
  {
   "cell_type": "code",
   "execution_count": 4,
   "id": "d1b91225",
   "metadata": {},
   "outputs": [
    {
     "data": {
      "text/plain": [
       "'Jimmy'"
      ]
     },
     "execution_count": 4,
     "metadata": {},
     "output_type": "execute_result"
    }
   ],
   "source": [
    "l[5]"
   ]
  },
  {
   "cell_type": "code",
   "execution_count": 5,
   "id": "d4d9499f",
   "metadata": {},
   "outputs": [
    {
     "data": {
      "text/plain": [
       "True"
      ]
     },
     "execution_count": 5,
     "metadata": {},
     "output_type": "execute_result"
    }
   ],
   "source": [
    "l[-1]"
   ]
  },
  {
   "cell_type": "code",
   "execution_count": 6,
   "id": "f9bbc8e5",
   "metadata": {},
   "outputs": [
    {
     "data": {
      "text/plain": [
       "[1, 2, 3, 4, 5, 'Jimmy', 89.19, True]"
      ]
     },
     "execution_count": 6,
     "metadata": {},
     "output_type": "execute_result"
    }
   ],
   "source": [
    "l[::]"
   ]
  },
  {
   "cell_type": "code",
   "execution_count": 7,
   "id": "0bba5765",
   "metadata": {},
   "outputs": [
    {
     "data": {
      "text/plain": [
       "[3, 4, 5]"
      ]
     },
     "execution_count": 7,
     "metadata": {},
     "output_type": "execute_result"
    }
   ],
   "source": [
    "l[2:5]"
   ]
  },
  {
   "cell_type": "code",
   "execution_count": 8,
   "id": "598d1e6e",
   "metadata": {},
   "outputs": [
    {
     "data": {
      "text/plain": [
       "8"
      ]
     },
     "execution_count": 8,
     "metadata": {},
     "output_type": "execute_result"
    }
   ],
   "source": [
    "len(l)"
   ]
  },
  {
   "cell_type": "code",
   "execution_count": 9,
   "id": "99224b90",
   "metadata": {},
   "outputs": [
    {
     "data": {
      "text/plain": [
       "[1, 3, 5]"
      ]
     },
     "execution_count": 9,
     "metadata": {},
     "output_type": "execute_result"
    }
   ],
   "source": [
    "l[0:5:2]"
   ]
  },
  {
   "cell_type": "code",
   "execution_count": 10,
   "id": "9b67ac35",
   "metadata": {},
   "outputs": [
    {
     "data": {
      "text/plain": [
       "[89.19, 5, 3, 1]"
      ]
     },
     "execution_count": 10,
     "metadata": {},
     "output_type": "execute_result"
    }
   ],
   "source": [
    "l[-2:-10:-2]"
   ]
  },
  {
   "cell_type": "code",
   "execution_count": 13,
   "id": "cead84d3",
   "metadata": {},
   "outputs": [
    {
     "data": {
      "text/plain": [
       "2"
      ]
     },
     "execution_count": 13,
     "metadata": {},
     "output_type": "execute_result"
    }
   ],
   "source": [
    "l.count(1)"
   ]
  },
  {
   "cell_type": "code",
   "execution_count": 14,
   "id": "cfb8fd7a",
   "metadata": {},
   "outputs": [
    {
     "data": {
      "text/plain": [
       "[1, 2, 3, 4, 5, 'Jimmy', 89.19, True]"
      ]
     },
     "execution_count": 14,
     "metadata": {},
     "output_type": "execute_result"
    }
   ],
   "source": [
    "l"
   ]
  },
  {
   "cell_type": "code",
   "execution_count": 15,
   "id": "9e5515f7",
   "metadata": {},
   "outputs": [
    {
     "data": {
      "text/plain": [
       "[True, 89.19, 'Jimmy', 5, 4, 3, 2, 1]"
      ]
     },
     "execution_count": 15,
     "metadata": {},
     "output_type": "execute_result"
    }
   ],
   "source": [
    "l[::-1]"
   ]
  },
  {
   "cell_type": "code",
   "execution_count": 17,
   "id": "b83ee71c",
   "metadata": {},
   "outputs": [
    {
     "data": {
      "text/plain": [
       "[1, 3, 5, 89.19]"
      ]
     },
     "execution_count": 17,
     "metadata": {},
     "output_type": "execute_result"
    }
   ],
   "source": [
    "l[0:100:2]"
   ]
  },
  {
   "cell_type": "code",
   "execution_count": 18,
   "id": "f53bdea7",
   "metadata": {},
   "outputs": [
    {
     "data": {
      "text/plain": [
       "[1, 2, 3, 4, 5, 'Jimmy', 89.19, True]"
      ]
     },
     "execution_count": 18,
     "metadata": {},
     "output_type": "execute_result"
    }
   ],
   "source": [
    "l"
   ]
  },
  {
   "cell_type": "code",
   "execution_count": 19,
   "id": "c2615a5c",
   "metadata": {},
   "outputs": [
    {
     "data": {
      "text/plain": [
       "[]"
      ]
     },
     "execution_count": 19,
     "metadata": {},
     "output_type": "execute_result"
    }
   ],
   "source": [
    "l[0:8:-1]"
   ]
  },
  {
   "cell_type": "code",
   "execution_count": 20,
   "id": "7b8f6195",
   "metadata": {},
   "outputs": [
    {
     "data": {
      "text/plain": [
       "[1, 2, 3]"
      ]
     },
     "execution_count": 20,
     "metadata": {},
     "output_type": "execute_result"
    }
   ],
   "source": [
    "l[:3]"
   ]
  },
  {
   "cell_type": "code",
   "execution_count": 22,
   "id": "05b57da9",
   "metadata": {},
   "outputs": [
    {
     "data": {
      "text/plain": [
       "[1, 2, 3, 4, 5, 'Jimmy', 89.19, True, 'Jimmy']"
      ]
     },
     "execution_count": 22,
     "metadata": {},
     "output_type": "execute_result"
    }
   ],
   "source": [
    "l+[\"Jimmy\"]"
   ]
  },
  {
   "cell_type": "code",
   "execution_count": 24,
   "id": "a47ae620",
   "metadata": {},
   "outputs": [
    {
     "data": {
      "text/plain": [
       "[1, 2, 3, 4, 5, 'Jimmy', 89.19, True, 1, 2, 3, 4, 5, 'Jimmy', 89.19, True]"
      ]
     },
     "execution_count": 24,
     "metadata": {},
     "output_type": "execute_result"
    }
   ],
   "source": [
    "l*2"
   ]
  },
  {
   "cell_type": "code",
   "execution_count": 26,
   "id": "37abb3ec",
   "metadata": {},
   "outputs": [
    {
     "data": {
      "text/plain": [
       "True"
      ]
     },
     "execution_count": 26,
     "metadata": {},
     "output_type": "execute_result"
    }
   ],
   "source": [
    "1 in l"
   ]
  },
  {
   "cell_type": "code",
   "execution_count": 28,
   "id": "dc44f121",
   "metadata": {},
   "outputs": [],
   "source": [
    "l1=[1,2,3,4,5]"
   ]
  },
  {
   "cell_type": "code",
   "execution_count": 29,
   "id": "9a6a049f",
   "metadata": {},
   "outputs": [
    {
     "data": {
      "text/plain": [
       "5"
      ]
     },
     "execution_count": 29,
     "metadata": {},
     "output_type": "execute_result"
    }
   ],
   "source": [
    "max(l1)"
   ]
  },
  {
   "cell_type": "code",
   "execution_count": 30,
   "id": "b49a4a2e",
   "metadata": {},
   "outputs": [],
   "source": [
    "l2=[\"Jimmy\",\"Vyas\",\"Best\"]"
   ]
  },
  {
   "cell_type": "code",
   "execution_count": 31,
   "id": "663a7c04",
   "metadata": {},
   "outputs": [
    {
     "data": {
      "text/plain": [
       "'Vyas'"
      ]
     },
     "execution_count": 31,
     "metadata": {},
     "output_type": "execute_result"
    }
   ],
   "source": [
    "max(l2)"
   ]
  },
  {
   "cell_type": "code",
   "execution_count": 32,
   "id": "0147c6dc",
   "metadata": {},
   "outputs": [
    {
     "data": {
      "text/plain": [
       "list"
      ]
     },
     "execution_count": 32,
     "metadata": {},
     "output_type": "execute_result"
    }
   ],
   "source": [
    "type(l1)"
   ]
  },
  {
   "cell_type": "code",
   "execution_count": 33,
   "id": "5b238e8b",
   "metadata": {},
   "outputs": [
    {
     "data": {
      "text/plain": [
       "list"
      ]
     },
     "execution_count": 33,
     "metadata": {},
     "output_type": "execute_result"
    }
   ],
   "source": [
    "type(l2)"
   ]
  },
  {
   "cell_type": "code",
   "execution_count": 34,
   "id": "58390583",
   "metadata": {},
   "outputs": [
    {
     "data": {
      "text/plain": [
       "'Best'"
      ]
     },
     "execution_count": 34,
     "metadata": {},
     "output_type": "execute_result"
    }
   ],
   "source": [
    "min(l2)"
   ]
  },
  {
   "cell_type": "code",
   "execution_count": 36,
   "id": "400293e4",
   "metadata": {},
   "outputs": [
    {
     "data": {
      "text/plain": [
       "1"
      ]
     },
     "execution_count": 36,
     "metadata": {},
     "output_type": "execute_result"
    }
   ],
   "source": [
    "min(l1)"
   ]
  },
  {
   "cell_type": "code",
   "execution_count": 37,
   "id": "10b45924",
   "metadata": {},
   "outputs": [],
   "source": [
    "l.append(l1)"
   ]
  },
  {
   "cell_type": "code",
   "execution_count": 38,
   "id": "126ad20a",
   "metadata": {},
   "outputs": [
    {
     "data": {
      "text/plain": [
       "[1, 2, 3, 4, 5, 'Jimmy', 89.19, True, [1, 2, 3, 4, 5]]"
      ]
     },
     "execution_count": 38,
     "metadata": {},
     "output_type": "execute_result"
    }
   ],
   "source": [
    "l"
   ]
  },
  {
   "cell_type": "code",
   "execution_count": 39,
   "id": "427b7c9f",
   "metadata": {},
   "outputs": [
    {
     "data": {
      "text/plain": [
       "[1, 2, 3, 4, 5, 'Jimmy', 89.19, True, [1, 2, 3, 4, 5]]"
      ]
     },
     "execution_count": 39,
     "metadata": {},
     "output_type": "execute_result"
    }
   ],
   "source": [
    "l"
   ]
  },
  {
   "cell_type": "code",
   "execution_count": 40,
   "id": "7aa6ec57",
   "metadata": {},
   "outputs": [
    {
     "data": {
      "text/plain": [
       "[1, 2, 3, 4, 5]"
      ]
     },
     "execution_count": 40,
     "metadata": {},
     "output_type": "execute_result"
    }
   ],
   "source": [
    "l1"
   ]
  },
  {
   "cell_type": "code",
   "execution_count": 41,
   "id": "77d979f6",
   "metadata": {},
   "outputs": [
    {
     "data": {
      "text/plain": [
       "['Jimmy', 'Vyas', 'Best']"
      ]
     },
     "execution_count": 41,
     "metadata": {},
     "output_type": "execute_result"
    }
   ],
   "source": [
    "l2"
   ]
  },
  {
   "cell_type": "code",
   "execution_count": 42,
   "id": "9bdd7c00",
   "metadata": {},
   "outputs": [
    {
     "data": {
      "text/plain": [
       "[1, 2, 3, 4, 5, 'Jimmy', 89.19, True, [1, 2, 3, 4, 5]]"
      ]
     },
     "execution_count": 42,
     "metadata": {},
     "output_type": "execute_result"
    }
   ],
   "source": [
    "l"
   ]
  },
  {
   "cell_type": "code",
   "execution_count": 43,
   "id": "dc6786e3",
   "metadata": {},
   "outputs": [],
   "source": [
    "l.append(l2)"
   ]
  },
  {
   "cell_type": "code",
   "execution_count": 44,
   "id": "9070d18b",
   "metadata": {},
   "outputs": [
    {
     "data": {
      "text/plain": [
       "[1,\n",
       " 2,\n",
       " 3,\n",
       " 4,\n",
       " 5,\n",
       " 'Jimmy',\n",
       " 89.19,\n",
       " True,\n",
       " [1, 2, 3, 4, 5],\n",
       " ['Jimmy', 'Vyas', 'Best']]"
      ]
     },
     "execution_count": 44,
     "metadata": {},
     "output_type": "execute_result"
    }
   ],
   "source": [
    "l"
   ]
  },
  {
   "cell_type": "code",
   "execution_count": 46,
   "id": "34fe93c3",
   "metadata": {},
   "outputs": [],
   "source": [
    "l.append(\"Dinka Chika\")"
   ]
  },
  {
   "cell_type": "code",
   "execution_count": 47,
   "id": "483b9470",
   "metadata": {},
   "outputs": [
    {
     "data": {
      "text/plain": [
       "[1,\n",
       " 2,\n",
       " 3,\n",
       " 4,\n",
       " 5,\n",
       " 'Jimmy',\n",
       " 89.19,\n",
       " True,\n",
       " [1, 2, 3, 4, 5],\n",
       " ['Jimmy', 'Vyas', 'Best'],\n",
       " 'Dinka Chika']"
      ]
     },
     "execution_count": 47,
     "metadata": {},
     "output_type": "execute_result"
    }
   ],
   "source": [
    "l"
   ]
  },
  {
   "cell_type": "code",
   "execution_count": 49,
   "id": "ba1cb50b",
   "metadata": {},
   "outputs": [],
   "source": [
    "l.append(\"Password\")"
   ]
  },
  {
   "cell_type": "code",
   "execution_count": 50,
   "id": "3206d99f",
   "metadata": {},
   "outputs": [
    {
     "data": {
      "text/plain": [
       "[1,\n",
       " 2,\n",
       " 3,\n",
       " 4,\n",
       " 5,\n",
       " 'Jimmy',\n",
       " 89.19,\n",
       " True,\n",
       " [1, 2, 3, 4, 5],\n",
       " ['Jimmy', 'Vyas', 'Best'],\n",
       " 'Dinka Chika',\n",
       " 'Password']"
      ]
     },
     "execution_count": 50,
     "metadata": {},
     "output_type": "execute_result"
    }
   ],
   "source": [
    "l"
   ]
  },
  {
   "cell_type": "code",
   "execution_count": 51,
   "id": "5d954712",
   "metadata": {},
   "outputs": [],
   "source": [
    "l.append(77.88)"
   ]
  },
  {
   "cell_type": "code",
   "execution_count": 52,
   "id": "25fbcd9c",
   "metadata": {},
   "outputs": [
    {
     "data": {
      "text/plain": [
       "[1,\n",
       " 2,\n",
       " 3,\n",
       " 4,\n",
       " 5,\n",
       " 'Jimmy',\n",
       " 89.19,\n",
       " True,\n",
       " [1, 2, 3, 4, 5],\n",
       " ['Jimmy', 'Vyas', 'Best'],\n",
       " 'Dinka Chika',\n",
       " 'Password',\n",
       " 77.88]"
      ]
     },
     "execution_count": 52,
     "metadata": {},
     "output_type": "execute_result"
    }
   ],
   "source": [
    "l"
   ]
  },
  {
   "cell_type": "code",
   "execution_count": 54,
   "id": "02269b5c",
   "metadata": {},
   "outputs": [
    {
     "data": {
      "text/plain": [
       "1"
      ]
     },
     "execution_count": 54,
     "metadata": {},
     "output_type": "execute_result"
    }
   ],
   "source": [
    "l.pop(0)"
   ]
  },
  {
   "cell_type": "code",
   "execution_count": 55,
   "id": "c494856c",
   "metadata": {
    "scrolled": true
   },
   "outputs": [
    {
     "data": {
      "text/plain": [
       "[2,\n",
       " 3,\n",
       " 4,\n",
       " 5,\n",
       " 'Jimmy',\n",
       " 89.19,\n",
       " True,\n",
       " [1, 2, 3, 4, 5],\n",
       " ['Jimmy', 'Vyas', 'Best'],\n",
       " 'Dinka Chika',\n",
       " 'Password',\n",
       " 77.88,\n",
       " 99.66]"
      ]
     },
     "execution_count": 55,
     "metadata": {},
     "output_type": "execute_result"
    }
   ],
   "source": [
    "l"
   ]
  },
  {
   "cell_type": "code",
   "execution_count": 56,
   "id": "b8ea2c04",
   "metadata": {},
   "outputs": [
    {
     "data": {
      "text/plain": [
       "99.66"
      ]
     },
     "execution_count": 56,
     "metadata": {},
     "output_type": "execute_result"
    }
   ],
   "source": [
    "l.pop()"
   ]
  },
  {
   "cell_type": "code",
   "execution_count": 58,
   "id": "90ea3806",
   "metadata": {},
   "outputs": [
    {
     "data": {
      "text/plain": [
       "[2,\n",
       " 3,\n",
       " 4,\n",
       " 5,\n",
       " 'Jimmy',\n",
       " 89.19,\n",
       " True,\n",
       " [1, 2, 3, 4, 5],\n",
       " ['Jimmy', 'Vyas', 'Best'],\n",
       " 'Dinka Chika',\n",
       " 'Password',\n",
       " 77.88]"
      ]
     },
     "execution_count": 58,
     "metadata": {},
     "output_type": "execute_result"
    }
   ],
   "source": [
    "l"
   ]
  },
  {
   "cell_type": "code",
   "execution_count": 59,
   "id": "0473da56",
   "metadata": {},
   "outputs": [],
   "source": [
    "l.reverse()"
   ]
  },
  {
   "cell_type": "code",
   "execution_count": 60,
   "id": "bb89e85b",
   "metadata": {},
   "outputs": [
    {
     "data": {
      "text/plain": [
       "[77.88,\n",
       " 'Password',\n",
       " 'Dinka Chika',\n",
       " ['Jimmy', 'Vyas', 'Best'],\n",
       " [1, 2, 3, 4, 5],\n",
       " True,\n",
       " 89.19,\n",
       " 'Jimmy',\n",
       " 5,\n",
       " 4,\n",
       " 3,\n",
       " 2]"
      ]
     },
     "execution_count": 60,
     "metadata": {},
     "output_type": "execute_result"
    }
   ],
   "source": [
    "l"
   ]
  },
  {
   "cell_type": "code",
   "execution_count": 62,
   "id": "c0f6a45c",
   "metadata": {},
   "outputs": [
    {
     "data": {
      "text/plain": [
       "[2,\n",
       " 3,\n",
       " 4,\n",
       " 5,\n",
       " 'Jimmy',\n",
       " 89.19,\n",
       " True,\n",
       " [1, 2, 3, 4, 5],\n",
       " ['Jimmy', 'Vyas', 'Best'],\n",
       " 'Dinka Chika',\n",
       " 'Password',\n",
       " 77.88]"
      ]
     },
     "execution_count": 62,
     "metadata": {},
     "output_type": "execute_result"
    }
   ],
   "source": [
    "l[::-1]"
   ]
  },
  {
   "cell_type": "code",
   "execution_count": 64,
   "id": "07f6f822",
   "metadata": {},
   "outputs": [],
   "source": [
    "l.reverse()"
   ]
  },
  {
   "cell_type": "code",
   "execution_count": 65,
   "id": "5bb379f7",
   "metadata": {},
   "outputs": [
    {
     "data": {
      "text/plain": [
       "[2,\n",
       " 3,\n",
       " 4,\n",
       " 5,\n",
       " 'Jimmy',\n",
       " 89.19,\n",
       " True,\n",
       " [1, 2, 3, 4, 5],\n",
       " ['Jimmy', 'Vyas', 'Best'],\n",
       " 'Dinka Chika',\n",
       " 'Password',\n",
       " 77.88]"
      ]
     },
     "execution_count": 65,
     "metadata": {},
     "output_type": "execute_result"
    }
   ],
   "source": [
    "l"
   ]
  },
  {
   "cell_type": "code",
   "execution_count": 66,
   "id": "738cf563",
   "metadata": {},
   "outputs": [
    {
     "data": {
      "text/plain": [
       "[1, 2, 3, 4, 5]"
      ]
     },
     "execution_count": 66,
     "metadata": {},
     "output_type": "execute_result"
    }
   ],
   "source": [
    "l1"
   ]
  },
  {
   "cell_type": "code",
   "execution_count": 67,
   "id": "d4de865f",
   "metadata": {},
   "outputs": [],
   "source": [
    "l1.sort()"
   ]
  },
  {
   "cell_type": "code",
   "execution_count": 68,
   "id": "a96069f8",
   "metadata": {},
   "outputs": [
    {
     "data": {
      "text/plain": [
       "[1, 2, 3, 4, 5]"
      ]
     },
     "execution_count": 68,
     "metadata": {},
     "output_type": "execute_result"
    }
   ],
   "source": [
    "l1"
   ]
  },
  {
   "cell_type": "code",
   "execution_count": 69,
   "id": "75406fd2",
   "metadata": {},
   "outputs": [
    {
     "data": {
      "text/plain": [
       "[2,\n",
       " 3,\n",
       " 4,\n",
       " 5,\n",
       " 'Jimmy',\n",
       " 89.19,\n",
       " True,\n",
       " [1, 2, 3, 4, 5],\n",
       " ['Jimmy', 'Vyas', 'Best'],\n",
       " 'Dinka Chika',\n",
       " 'Password',\n",
       " 77.88]"
      ]
     },
     "execution_count": 69,
     "metadata": {},
     "output_type": "execute_result"
    }
   ],
   "source": [
    "l"
   ]
  },
  {
   "cell_type": "code",
   "execution_count": 70,
   "id": "7c042129",
   "metadata": {},
   "outputs": [
    {
     "ename": "TypeError",
     "evalue": "'<' not supported between instances of 'str' and 'int'",
     "output_type": "error",
     "traceback": [
      "\u001b[1;31m---------------------------------------------------------------------------\u001b[0m",
      "\u001b[1;31mTypeError\u001b[0m                                 Traceback (most recent call last)",
      "Input \u001b[1;32mIn [70]\u001b[0m, in \u001b[0;36m<cell line: 1>\u001b[1;34m()\u001b[0m\n\u001b[1;32m----> 1\u001b[0m \u001b[43ml\u001b[49m\u001b[38;5;241;43m.\u001b[39;49m\u001b[43msort\u001b[49m\u001b[43m(\u001b[49m\u001b[43m)\u001b[49m\n",
      "\u001b[1;31mTypeError\u001b[0m: '<' not supported between instances of 'str' and 'int'"
     ]
    }
   ],
   "source": [
    "l.sort()"
   ]
  },
  {
   "cell_type": "code",
   "execution_count": 71,
   "id": "cd9025e5",
   "metadata": {},
   "outputs": [
    {
     "data": {
      "text/plain": [
       "[2,\n",
       " 3,\n",
       " 4,\n",
       " 5,\n",
       " 'Jimmy',\n",
       " 89.19,\n",
       " True,\n",
       " [1, 2, 3, 4, 5],\n",
       " ['Jimmy', 'Vyas', 'Best'],\n",
       " 'Dinka Chika',\n",
       " 'Password',\n",
       " 77.88]"
      ]
     },
     "execution_count": 71,
     "metadata": {},
     "output_type": "execute_result"
    }
   ],
   "source": [
    "l"
   ]
  },
  {
   "cell_type": "code",
   "execution_count": 72,
   "id": "80c44859",
   "metadata": {},
   "outputs": [
    {
     "data": {
      "text/plain": [
       "[1, 2, 3, 4, 5]"
      ]
     },
     "execution_count": 72,
     "metadata": {},
     "output_type": "execute_result"
    }
   ],
   "source": [
    "l1"
   ]
  },
  {
   "cell_type": "code",
   "execution_count": 73,
   "id": "8bb0bd1f",
   "metadata": {},
   "outputs": [],
   "source": [
    "l1.sort(reverse=True)"
   ]
  },
  {
   "cell_type": "code",
   "execution_count": 74,
   "id": "e347ba18",
   "metadata": {},
   "outputs": [
    {
     "data": {
      "text/plain": [
       "[5, 4, 3, 2, 1]"
      ]
     },
     "execution_count": 74,
     "metadata": {},
     "output_type": "execute_result"
    }
   ],
   "source": [
    "l1"
   ]
  },
  {
   "cell_type": "code",
   "execution_count": 75,
   "id": "ae168dfb",
   "metadata": {},
   "outputs": [
    {
     "data": {
      "text/plain": [
       "['Jimmy', 'Vyas', 'Best']"
      ]
     },
     "execution_count": 75,
     "metadata": {},
     "output_type": "execute_result"
    }
   ],
   "source": [
    "l2"
   ]
  },
  {
   "cell_type": "code",
   "execution_count": 76,
   "id": "f14d7037",
   "metadata": {},
   "outputs": [],
   "source": [
    "l2.sort()"
   ]
  },
  {
   "cell_type": "code",
   "execution_count": 77,
   "id": "688dfaab",
   "metadata": {},
   "outputs": [
    {
     "data": {
      "text/plain": [
       "['Best', 'Jimmy', 'Vyas']"
      ]
     },
     "execution_count": 77,
     "metadata": {},
     "output_type": "execute_result"
    }
   ],
   "source": [
    "l2"
   ]
  },
  {
   "cell_type": "code",
   "execution_count": 78,
   "id": "9f9bb753",
   "metadata": {},
   "outputs": [],
   "source": [
    "l1=[2,3,4]"
   ]
  },
  {
   "cell_type": "code",
   "execution_count": 79,
   "id": "4fda1c3c",
   "metadata": {},
   "outputs": [],
   "source": [
    "l2=[6,7,8]"
   ]
  },
  {
   "cell_type": "code",
   "execution_count": 80,
   "id": "9d05f558",
   "metadata": {},
   "outputs": [],
   "source": [
    "l3=[3,2,4]"
   ]
  },
  {
   "cell_type": "code",
   "execution_count": 81,
   "id": "cab8710c",
   "metadata": {},
   "outputs": [],
   "source": [
    "l4=[l1,l2,l3]"
   ]
  },
  {
   "cell_type": "code",
   "execution_count": 82,
   "id": "cc5c7e8f",
   "metadata": {},
   "outputs": [
    {
     "data": {
      "text/plain": [
       "[[2, 3, 4], [6, 7, 8], [3, 2, 4]]"
      ]
     },
     "execution_count": 82,
     "metadata": {},
     "output_type": "execute_result"
    }
   ],
   "source": [
    "l4"
   ]
  },
  {
   "cell_type": "code",
   "execution_count": 87,
   "id": "939a06c3",
   "metadata": {},
   "outputs": [
    {
     "data": {
      "text/plain": [
       "2"
      ]
     },
     "execution_count": 87,
     "metadata": {},
     "output_type": "execute_result"
    }
   ],
   "source": [
    "l4[2][1]"
   ]
  },
  {
   "cell_type": "code",
   "execution_count": 88,
   "id": "3f93499e",
   "metadata": {},
   "outputs": [
    {
     "data": {
      "text/plain": [
       "[[2], [6, 7, 8], [3, 2, 4]]"
      ]
     },
     "execution_count": 88,
     "metadata": {},
     "output_type": "execute_result"
    }
   ],
   "source": [
    "l4"
   ]
  },
  {
   "cell_type": "code",
   "execution_count": 89,
   "id": "e5a813e7",
   "metadata": {},
   "outputs": [
    {
     "data": {
      "text/plain": [
       "[2,\n",
       " 3,\n",
       " 4,\n",
       " 5,\n",
       " 'Jimmy',\n",
       " 89.19,\n",
       " True,\n",
       " [5, 4, 3, 2, 1],\n",
       " ['Best', 'Jimmy', 'Vyas'],\n",
       " 'Dinka Chika',\n",
       " 'Password',\n",
       " 77.88]"
      ]
     },
     "execution_count": 89,
     "metadata": {},
     "output_type": "execute_result"
    }
   ],
   "source": [
    "l"
   ]
  },
  {
   "cell_type": "code",
   "execution_count": 90,
   "id": "d4fd2458",
   "metadata": {},
   "outputs": [
    {
     "data": {
      "text/plain": [
       "1"
      ]
     },
     "execution_count": 90,
     "metadata": {},
     "output_type": "execute_result"
    }
   ],
   "source": [
    "l.count(2)"
   ]
  },
  {
   "cell_type": "code",
   "execution_count": 91,
   "id": "fe5a81ec",
   "metadata": {},
   "outputs": [
    {
     "data": {
      "text/plain": [
       "[2,\n",
       " 3,\n",
       " 4,\n",
       " 5,\n",
       " 'Jimmy',\n",
       " 89.19,\n",
       " True,\n",
       " [5, 4, 3, 2, 1],\n",
       " ['Best', 'Jimmy', 'Vyas'],\n",
       " 'Dinka Chika',\n",
       " 'Password',\n",
       " 77.88]"
      ]
     },
     "execution_count": 91,
     "metadata": {},
     "output_type": "execute_result"
    }
   ],
   "source": [
    "l"
   ]
  },
  {
   "cell_type": "code",
   "execution_count": 92,
   "id": "75490a61",
   "metadata": {},
   "outputs": [
    {
     "data": {
      "text/plain": [
       "1"
      ]
     },
     "execution_count": 92,
     "metadata": {},
     "output_type": "execute_result"
    }
   ],
   "source": [
    "l.count('Jimmy')"
   ]
  },
  {
   "cell_type": "code",
   "execution_count": 93,
   "id": "87520608",
   "metadata": {},
   "outputs": [
    {
     "data": {
      "text/plain": [
       "[2,\n",
       " 3,\n",
       " 4,\n",
       " 5,\n",
       " 'Jimmy',\n",
       " 89.19,\n",
       " True,\n",
       " [5, 4, 3, 2, 1],\n",
       " ['Best', 'Jimmy', 'Vyas'],\n",
       " 'Dinka Chika',\n",
       " 'Password',\n",
       " 77.88]"
      ]
     },
     "execution_count": 93,
     "metadata": {},
     "output_type": "execute_result"
    }
   ],
   "source": [
    "l"
   ]
  },
  {
   "cell_type": "code",
   "execution_count": 94,
   "id": "61f7423e",
   "metadata": {},
   "outputs": [
    {
     "data": {
      "text/plain": [
       "[2,\n",
       " 3,\n",
       " 4,\n",
       " 5,\n",
       " 'Jimmy',\n",
       " 89.19,\n",
       " True,\n",
       " [5, 4, 3, 2, 1],\n",
       " ['Best', 'Jimmy', 'Vyas'],\n",
       " 'Dinka Chika',\n",
       " 'Password',\n",
       " 77.88]"
      ]
     },
     "execution_count": 94,
     "metadata": {},
     "output_type": "execute_result"
    }
   ],
   "source": [
    "l"
   ]
  },
  {
   "cell_type": "code",
   "execution_count": 98,
   "id": "d1c47c30",
   "metadata": {},
   "outputs": [
    {
     "ename": "TypeError",
     "evalue": "'float' object is not subscriptable",
     "output_type": "error",
     "traceback": [
      "\u001b[1;31m---------------------------------------------------------------------------\u001b[0m",
      "\u001b[1;31mTypeError\u001b[0m                                 Traceback (most recent call last)",
      "Input \u001b[1;32mIn [98]\u001b[0m, in \u001b[0;36m<cell line: 1>\u001b[1;34m()\u001b[0m\n\u001b[1;32m----> 1\u001b[0m \u001b[43ml\u001b[49m\u001b[43m[\u001b[49m\u001b[38;5;241;43m5\u001b[39;49m\u001b[43m]\u001b[49m\u001b[43m[\u001b[49m\u001b[38;5;241;43m1\u001b[39;49m\u001b[43m]\u001b[49m\n",
      "\u001b[1;31mTypeError\u001b[0m: 'float' object is not subscriptable"
     ]
    }
   ],
   "source": [
    "l[5][1]"
   ]
  },
  {
   "cell_type": "code",
   "execution_count": 99,
   "id": "d1f28c94",
   "metadata": {},
   "outputs": [],
   "source": [
    "l.append(\"Insert\")"
   ]
  },
  {
   "cell_type": "code",
   "execution_count": 100,
   "id": "889c1fb5",
   "metadata": {},
   "outputs": [
    {
     "data": {
      "text/plain": [
       "[2,\n",
       " 3,\n",
       " 4,\n",
       " 5,\n",
       " 'Jimmy',\n",
       " 89.19,\n",
       " True,\n",
       " [5, 4, 3, 2, 1],\n",
       " ['Best', 'Jimmy', 'Vyas'],\n",
       " 'Dinka Chika',\n",
       " 'Password',\n",
       " 77.88,\n",
       " 'Insert']"
      ]
     },
     "execution_count": 100,
     "metadata": {},
     "output_type": "execute_result"
    }
   ],
   "source": [
    "l"
   ]
  },
  {
   "cell_type": "code",
   "execution_count": 101,
   "id": "48846cd3",
   "metadata": {},
   "outputs": [],
   "source": [
    "l.append([4,56,\"Awesome\"])"
   ]
  },
  {
   "cell_type": "code",
   "execution_count": 102,
   "id": "7497ebdb",
   "metadata": {},
   "outputs": [
    {
     "data": {
      "text/plain": [
       "[2,\n",
       " 3,\n",
       " 4,\n",
       " 5,\n",
       " 'Jimmy',\n",
       " 89.19,\n",
       " True,\n",
       " [5, 4, 3, 2, 1],\n",
       " ['Best', 'Jimmy', 'Vyas'],\n",
       " 'Dinka Chika',\n",
       " 'Password',\n",
       " 77.88,\n",
       " 'Insert',\n",
       " [4, 56, 'Awesome']]"
      ]
     },
     "execution_count": 102,
     "metadata": {},
     "output_type": "execute_result"
    }
   ],
   "source": [
    "l"
   ]
  },
  {
   "cell_type": "code",
   "execution_count": 103,
   "id": "58e56d09",
   "metadata": {},
   "outputs": [],
   "source": [
    "l.extend(\"List\")"
   ]
  },
  {
   "cell_type": "code",
   "execution_count": 104,
   "id": "47b796eb",
   "metadata": {},
   "outputs": [
    {
     "data": {
      "text/plain": [
       "[2,\n",
       " 3,\n",
       " 4,\n",
       " 5,\n",
       " 'Jimmy',\n",
       " 89.19,\n",
       " True,\n",
       " [5, 4, 3, 2, 1],\n",
       " ['Best', 'Jimmy', 'Vyas'],\n",
       " 'Dinka Chika',\n",
       " 'Password',\n",
       " 77.88,\n",
       " 'Insert',\n",
       " [4, 56, 'Awesome'],\n",
       " 'L',\n",
       " 'i',\n",
       " 's',\n",
       " 't']"
      ]
     },
     "execution_count": 104,
     "metadata": {},
     "output_type": "execute_result"
    }
   ],
   "source": [
    "l"
   ]
  },
  {
   "cell_type": "code",
   "execution_count": 105,
   "id": "9b8481bb",
   "metadata": {},
   "outputs": [
    {
     "data": {
      "text/plain": [
       "[[2], [6, 7, 8], [3, 2, 4]]"
      ]
     },
     "execution_count": 105,
     "metadata": {},
     "output_type": "execute_result"
    }
   ],
   "source": [
    "l4"
   ]
  },
  {
   "cell_type": "code",
   "execution_count": 107,
   "id": "5acd6925",
   "metadata": {},
   "outputs": [],
   "source": [
    "l5=[1,2,9,8,\"44.66\",\"Vyas\"]"
   ]
  },
  {
   "cell_type": "code",
   "execution_count": 108,
   "id": "76e2b87f",
   "metadata": {},
   "outputs": [
    {
     "data": {
      "text/plain": [
       "[1, 2, 9, 8, '44.66', 'Vyas']"
      ]
     },
     "execution_count": 108,
     "metadata": {},
     "output_type": "execute_result"
    }
   ],
   "source": [
    "l5"
   ]
  },
  {
   "cell_type": "code",
   "execution_count": 109,
   "id": "496171f6",
   "metadata": {},
   "outputs": [
    {
     "ename": "TypeError",
     "evalue": "'int' object is not iterable",
     "output_type": "error",
     "traceback": [
      "\u001b[1;31m---------------------------------------------------------------------------\u001b[0m",
      "\u001b[1;31mTypeError\u001b[0m                                 Traceback (most recent call last)",
      "Input \u001b[1;32mIn [109]\u001b[0m, in \u001b[0;36m<cell line: 1>\u001b[1;34m()\u001b[0m\n\u001b[1;32m----> 1\u001b[0m \u001b[43ml5\u001b[49m\u001b[38;5;241;43m.\u001b[39;49m\u001b[43mextend\u001b[49m\u001b[43m(\u001b[49m\u001b[38;5;241;43m77\u001b[39;49m\u001b[43m)\u001b[49m\n",
      "\u001b[1;31mTypeError\u001b[0m: 'int' object is not iterable"
     ]
    }
   ],
   "source": [
    "l5.extend(77)"
   ]
  },
  {
   "cell_type": "code",
   "execution_count": 110,
   "id": "88fc7fff",
   "metadata": {},
   "outputs": [],
   "source": [
    "l5.append(45)"
   ]
  },
  {
   "cell_type": "code",
   "execution_count": 111,
   "id": "1c556014",
   "metadata": {},
   "outputs": [
    {
     "data": {
      "text/plain": [
       "[1, 2, 9, 8, '44.66', 'Vyas', 45]"
      ]
     },
     "execution_count": 111,
     "metadata": {},
     "output_type": "execute_result"
    }
   ],
   "source": [
    "l5"
   ]
  },
  {
   "cell_type": "code",
   "execution_count": 112,
   "id": "5fc612bd",
   "metadata": {},
   "outputs": [],
   "source": [
    "l5.extend([56,34,21])"
   ]
  },
  {
   "cell_type": "code",
   "execution_count": 113,
   "id": "94f5074c",
   "metadata": {},
   "outputs": [
    {
     "data": {
      "text/plain": [
       "[1, 2, 9, 8, '44.66', 'Vyas', 45, 56, 34, 21]"
      ]
     },
     "execution_count": 113,
     "metadata": {},
     "output_type": "execute_result"
    }
   ],
   "source": [
    "l5"
   ]
  },
  {
   "cell_type": "code",
   "execution_count": 115,
   "id": "1fdf1082",
   "metadata": {},
   "outputs": [],
   "source": [
    "l5.append([11,22])"
   ]
  },
  {
   "cell_type": "code",
   "execution_count": 116,
   "id": "f242a328",
   "metadata": {},
   "outputs": [
    {
     "data": {
      "text/plain": [
       "[1, 2, 9, 8, '44.66', 'Vyas', 45, 56, 34, 21, [11, 22]]"
      ]
     },
     "execution_count": 116,
     "metadata": {},
     "output_type": "execute_result"
    }
   ],
   "source": [
    "l5"
   ]
  },
  {
   "cell_type": "code",
   "execution_count": 117,
   "id": "f8045656",
   "metadata": {},
   "outputs": [
    {
     "data": {
      "text/plain": [
       "[1, 2, 9, 8, '44.66', 'Vyas', 45, 56, 34, 21, [11, 22]]"
      ]
     },
     "execution_count": 117,
     "metadata": {},
     "output_type": "execute_result"
    }
   ],
   "source": [
    "l5"
   ]
  },
  {
   "cell_type": "code",
   "execution_count": 120,
   "id": "da0d21c8",
   "metadata": {},
   "outputs": [
    {
     "data": {
      "text/plain": [
       "[1, 2, 9, 8, '44.66', 'Vyas', 45, 56, 34, 21, [11, 22]]"
      ]
     },
     "execution_count": 120,
     "metadata": {},
     "output_type": "execute_result"
    }
   ],
   "source": [
    "l5"
   ]
  },
  {
   "cell_type": "code",
   "execution_count": 123,
   "id": "725c0fb8",
   "metadata": {},
   "outputs": [
    {
     "ename": "SyntaxError",
     "evalue": "invalid syntax (1059747117.py, line 1)",
     "output_type": "error",
     "traceback": [
      "\u001b[1;36m  Input \u001b[1;32mIn [123]\u001b[1;36m\u001b[0m\n\u001b[1;33m    l5.extend(\"Jimmy\"l5)\u001b[0m\n\u001b[1;37m                     ^\u001b[0m\n\u001b[1;31mSyntaxError\u001b[0m\u001b[1;31m:\u001b[0m invalid syntax\n"
     ]
    }
   ],
   "source": [
    "l5.extend(\"Jimmy\"l5)"
   ]
  },
  {
   "cell_type": "code",
   "execution_count": 122,
   "id": "40e77e36",
   "metadata": {},
   "outputs": [
    {
     "data": {
      "text/plain": [
       "[1,\n",
       " 2,\n",
       " 9,\n",
       " 8,\n",
       " '44.66',\n",
       " 'Vyas',\n",
       " 45,\n",
       " 56,\n",
       " 34,\n",
       " 21,\n",
       " [11, 22],\n",
       " 'J',\n",
       " 'i',\n",
       " 'm',\n",
       " 'm',\n",
       " 'y']"
      ]
     },
     "execution_count": 122,
     "metadata": {},
     "output_type": "execute_result"
    }
   ],
   "source": [
    "l5"
   ]
  },
  {
   "cell_type": "code",
   "execution_count": 126,
   "id": "019518b0",
   "metadata": {},
   "outputs": [
    {
     "ename": "TypeError",
     "evalue": "list.extend() takes exactly one argument (2 given)",
     "output_type": "error",
     "traceback": [
      "\u001b[1;31m---------------------------------------------------------------------------\u001b[0m",
      "\u001b[1;31mTypeError\u001b[0m                                 Traceback (most recent call last)",
      "Input \u001b[1;32mIn [126]\u001b[0m, in \u001b[0;36m<cell line: 1>\u001b[1;34m()\u001b[0m\n\u001b[1;32m----> 1\u001b[0m \u001b[43ml5\u001b[49m\u001b[38;5;241;43m.\u001b[39;49m\u001b[43mextend\u001b[49m\u001b[43m(\u001b[49m\u001b[38;5;124;43m\"\u001b[39;49m\u001b[38;5;124;43mKalakar\u001b[39;49m\u001b[38;5;124;43m\"\u001b[39;49m\u001b[43m,\u001b[49m\u001b[38;5;124;43m\"\u001b[39;49m\u001b[38;5;124;43m123\u001b[39;49m\u001b[38;5;124;43m\"\u001b[39;49m\u001b[43m)\u001b[49m\n",
      "\u001b[1;31mTypeError\u001b[0m: list.extend() takes exactly one argument (2 given)"
     ]
    }
   ],
   "source": [
    "l5.extend(\"Kalakar\",\"123\")"
   ]
  },
  {
   "cell_type": "code",
   "execution_count": 125,
   "id": "dc782281",
   "metadata": {},
   "outputs": [
    {
     "data": {
      "text/plain": [
       "[1,\n",
       " 2,\n",
       " 9,\n",
       " 8,\n",
       " '44.66',\n",
       " 'Vyas',\n",
       " 45,\n",
       " 56,\n",
       " 34,\n",
       " 21,\n",
       " [11, 22],\n",
       " 'J',\n",
       " 'i',\n",
       " 'm',\n",
       " 'm',\n",
       " 'y',\n",
       " 'K',\n",
       " 'a',\n",
       " 'l',\n",
       " 'a',\n",
       " 'k',\n",
       " 'a',\n",
       " 'r']"
      ]
     },
     "execution_count": 125,
     "metadata": {},
     "output_type": "execute_result"
    }
   ],
   "source": [
    "l5"
   ]
  },
  {
   "cell_type": "code",
   "execution_count": 127,
   "id": "aebf166c",
   "metadata": {},
   "outputs": [
    {
     "data": {
      "text/plain": [
       "[1,\n",
       " 2,\n",
       " 9,\n",
       " 8,\n",
       " '44.66',\n",
       " 'Vyas',\n",
       " 45,\n",
       " 56,\n",
       " 34,\n",
       " 21,\n",
       " [11, 22],\n",
       " 'J',\n",
       " 'i',\n",
       " 'm',\n",
       " 'm',\n",
       " 'y',\n",
       " 'K',\n",
       " 'a',\n",
       " 'l',\n",
       " 'a',\n",
       " 'k',\n",
       " 'a',\n",
       " 'r']"
      ]
     },
     "execution_count": 127,
     "metadata": {},
     "output_type": "execute_result"
    }
   ],
   "source": [
    "l5"
   ]
  },
  {
   "cell_type": "code",
   "execution_count": 128,
   "id": "ddb38471",
   "metadata": {},
   "outputs": [
    {
     "data": {
      "text/plain": [
       "0"
      ]
     },
     "execution_count": 128,
     "metadata": {},
     "output_type": "execute_result"
    }
   ],
   "source": [
    "l5.index(1)"
   ]
  },
  {
   "cell_type": "code",
   "execution_count": 129,
   "id": "79c6f523",
   "metadata": {},
   "outputs": [
    {
     "data": {
      "text/plain": [
       "11"
      ]
     },
     "execution_count": 129,
     "metadata": {},
     "output_type": "execute_result"
    }
   ],
   "source": [
    "l5.index(\"J\")"
   ]
  },
  {
   "cell_type": "code",
   "execution_count": 136,
   "id": "8ceecafe",
   "metadata": {},
   "outputs": [],
   "source": [
    "l6=[1,2,3,44,5,66,66,6,7]"
   ]
  },
  {
   "cell_type": "code",
   "execution_count": 131,
   "id": "72b04742",
   "metadata": {},
   "outputs": [
    {
     "data": {
      "text/plain": [
       "[1, 2, 3, 44, 5, 66, 6, 7]"
      ]
     },
     "execution_count": 131,
     "metadata": {},
     "output_type": "execute_result"
    }
   ],
   "source": [
    "l6"
   ]
  },
  {
   "cell_type": "code",
   "execution_count": 132,
   "id": "ff43daa8",
   "metadata": {},
   "outputs": [
    {
     "data": {
      "text/plain": [
       "6"
      ]
     },
     "execution_count": 132,
     "metadata": {},
     "output_type": "execute_result"
    }
   ],
   "source": [
    "l6.index(6)"
   ]
  },
  {
   "cell_type": "code",
   "execution_count": 137,
   "id": "1b02e461",
   "metadata": {},
   "outputs": [
    {
     "data": {
      "text/plain": [
       "2"
      ]
     },
     "execution_count": 137,
     "metadata": {},
     "output_type": "execute_result"
    }
   ],
   "source": [
    "l6.count(66)"
   ]
  },
  {
   "cell_type": "code",
   "execution_count": 138,
   "id": "9b93ecd2",
   "metadata": {},
   "outputs": [],
   "source": [
    "l6.append(99)"
   ]
  },
  {
   "cell_type": "code",
   "execution_count": 139,
   "id": "fe974c94",
   "metadata": {},
   "outputs": [
    {
     "data": {
      "text/plain": [
       "[1, 2, 3, 44, 5, 66, 66, 6, 7, 99]"
      ]
     },
     "execution_count": 139,
     "metadata": {},
     "output_type": "execute_result"
    }
   ],
   "source": [
    "l6"
   ]
  },
  {
   "cell_type": "code",
   "execution_count": 140,
   "id": "91e28489",
   "metadata": {},
   "outputs": [],
   "source": [
    "l6.insert(1,[1,2,3,4])"
   ]
  },
  {
   "cell_type": "code",
   "execution_count": 141,
   "id": "8a59d94e",
   "metadata": {},
   "outputs": [
    {
     "data": {
      "text/plain": [
       "[1, [1, 2, 3, 4], 2, 3, 44, 5, 66, 66, 6, 7, 99]"
      ]
     },
     "execution_count": 141,
     "metadata": {},
     "output_type": "execute_result"
    }
   ],
   "source": [
    "l6"
   ]
  },
  {
   "cell_type": "code",
   "execution_count": 142,
   "id": "f2fde600",
   "metadata": {},
   "outputs": [],
   "source": [
    "l6.insert(4,\"Singham\")"
   ]
  },
  {
   "cell_type": "code",
   "execution_count": 143,
   "id": "0370caed",
   "metadata": {},
   "outputs": [
    {
     "data": {
      "text/plain": [
       "[1, [1, 2, 3, 4], 2, 3, 'Singham', 44, 5, 66, 66, 6, 7, 99]"
      ]
     },
     "execution_count": 143,
     "metadata": {},
     "output_type": "execute_result"
    }
   ],
   "source": [
    "l6"
   ]
  },
  {
   "cell_type": "code",
   "execution_count": 144,
   "id": "baf9a069",
   "metadata": {},
   "outputs": [
    {
     "data": {
      "text/plain": [
       "99"
      ]
     },
     "execution_count": 144,
     "metadata": {},
     "output_type": "execute_result"
    }
   ],
   "source": [
    "l6.pop()"
   ]
  },
  {
   "cell_type": "code",
   "execution_count": 145,
   "id": "7d172561",
   "metadata": {},
   "outputs": [
    {
     "ename": "ValueError",
     "evalue": "list.remove(x): x not in list",
     "output_type": "error",
     "traceback": [
      "\u001b[1;31m---------------------------------------------------------------------------\u001b[0m",
      "\u001b[1;31mValueError\u001b[0m                                Traceback (most recent call last)",
      "Input \u001b[1;32mIn [145]\u001b[0m, in \u001b[0;36m<cell line: 1>\u001b[1;34m()\u001b[0m\n\u001b[1;32m----> 1\u001b[0m \u001b[43ml6\u001b[49m\u001b[38;5;241;43m.\u001b[39;49m\u001b[43mremove\u001b[49m\u001b[43m(\u001b[49m\u001b[38;5;241;43m100\u001b[39;49m\u001b[43m)\u001b[49m\n",
      "\u001b[1;31mValueError\u001b[0m: list.remove(x): x not in list"
     ]
    }
   ],
   "source": [
    "l6.remove(100)"
   ]
  },
  {
   "cell_type": "code",
   "execution_count": 146,
   "id": "daf8eb1d",
   "metadata": {},
   "outputs": [],
   "source": [
    "l6.remove(1)"
   ]
  },
  {
   "cell_type": "code",
   "execution_count": 147,
   "id": "6fa314b5",
   "metadata": {},
   "outputs": [
    {
     "data": {
      "text/plain": [
       "[[1, 2, 3, 4], 2, 3, 'Singham', 44, 5, 66, 66, 6, 7]"
      ]
     },
     "execution_count": 147,
     "metadata": {},
     "output_type": "execute_result"
    }
   ],
   "source": [
    "l6"
   ]
  },
  {
   "cell_type": "code",
   "execution_count": 148,
   "id": "4490edaf",
   "metadata": {},
   "outputs": [
    {
     "data": {
      "text/plain": [
       "[[1, 2, 3, 4], 2, 3, 'Singham', 44, 5, 66, 66, 6, 7]"
      ]
     },
     "execution_count": 148,
     "metadata": {},
     "output_type": "execute_result"
    }
   ],
   "source": [
    "l6"
   ]
  },
  {
   "cell_type": "code",
   "execution_count": 149,
   "id": "26290d6a",
   "metadata": {},
   "outputs": [],
   "source": [
    "l6.remove(\"Singham\")"
   ]
  },
  {
   "cell_type": "code",
   "execution_count": 150,
   "id": "2324123c",
   "metadata": {},
   "outputs": [
    {
     "data": {
      "text/plain": [
       "[[1, 2, 3, 4], 2, 3, 44, 5, 66, 66, 6, 7]"
      ]
     },
     "execution_count": 150,
     "metadata": {},
     "output_type": "execute_result"
    }
   ],
   "source": [
    "l6"
   ]
  },
  {
   "cell_type": "code",
   "execution_count": 152,
   "id": "916acbb7",
   "metadata": {},
   "outputs": [
    {
     "ename": "TypeError",
     "evalue": "'<' not supported between instances of 'int' and 'list'",
     "output_type": "error",
     "traceback": [
      "\u001b[1;31m---------------------------------------------------------------------------\u001b[0m",
      "\u001b[1;31mTypeError\u001b[0m                                 Traceback (most recent call last)",
      "Input \u001b[1;32mIn [152]\u001b[0m, in \u001b[0;36m<cell line: 1>\u001b[1;34m()\u001b[0m\n\u001b[1;32m----> 1\u001b[0m \u001b[43ml6\u001b[49m\u001b[38;5;241;43m.\u001b[39;49m\u001b[43msort\u001b[49m\u001b[43m(\u001b[49m\u001b[43m)\u001b[49m\n",
      "\u001b[1;31mTypeError\u001b[0m: '<' not supported between instances of 'int' and 'list'"
     ]
    }
   ],
   "source": [
    "l6.sort()"
   ]
  },
  {
   "cell_type": "code",
   "execution_count": 153,
   "id": "f9103340",
   "metadata": {},
   "outputs": [
    {
     "data": {
      "text/plain": [
       "[[1, 2, 3, 4], 2, 3, 44, 5, 66, 66, 6, 7]"
      ]
     },
     "execution_count": 153,
     "metadata": {},
     "output_type": "execute_result"
    }
   ],
   "source": [
    "l6"
   ]
  },
  {
   "cell_type": "code",
   "execution_count": 155,
   "id": "885a644d",
   "metadata": {},
   "outputs": [],
   "source": [
    "l6[4]=\"ReplacedItem\""
   ]
  },
  {
   "cell_type": "code",
   "execution_count": 156,
   "id": "097c4023",
   "metadata": {},
   "outputs": [
    {
     "data": {
      "text/plain": [
       "[[1, 2, 3, 4], 2, 3, 44, 'ReplacedItem', 66, 66, 6, 7]"
      ]
     },
     "execution_count": 156,
     "metadata": {},
     "output_type": "execute_result"
    }
   ],
   "source": [
    "l6"
   ]
  },
  {
   "cell_type": "code",
   "execution_count": 157,
   "id": "67c240fc",
   "metadata": {},
   "outputs": [],
   "source": [
    "s=\"Jimmy\""
   ]
  },
  {
   "cell_type": "code",
   "execution_count": 158,
   "id": "679e7231",
   "metadata": {},
   "outputs": [
    {
     "data": {
      "text/plain": [
       "'Jimmy'"
      ]
     },
     "execution_count": 158,
     "metadata": {},
     "output_type": "execute_result"
    }
   ],
   "source": [
    "s"
   ]
  },
  {
   "cell_type": "code",
   "execution_count": 159,
   "id": "75987046",
   "metadata": {},
   "outputs": [
    {
     "data": {
      "text/plain": [
       "'m'"
      ]
     },
     "execution_count": 159,
     "metadata": {},
     "output_type": "execute_result"
    }
   ],
   "source": [
    "s[2]"
   ]
  },
  {
   "cell_type": "code",
   "execution_count": 160,
   "id": "8fe781f5",
   "metadata": {},
   "outputs": [
    {
     "ename": "TypeError",
     "evalue": "'str' object does not support item assignment",
     "output_type": "error",
     "traceback": [
      "\u001b[1;31m---------------------------------------------------------------------------\u001b[0m",
      "\u001b[1;31mTypeError\u001b[0m                                 Traceback (most recent call last)",
      "Input \u001b[1;32mIn [160]\u001b[0m, in \u001b[0;36m<cell line: 1>\u001b[1;34m()\u001b[0m\n\u001b[1;32m----> 1\u001b[0m s[\u001b[38;5;241m2\u001b[39m]\u001b[38;5;241m=\u001b[39m\u001b[38;5;124m\"\u001b[39m\u001b[38;5;124mK\u001b[39m\u001b[38;5;124m\"\u001b[39m\n",
      "\u001b[1;31mTypeError\u001b[0m: 'str' object does not support item assignment"
     ]
    }
   ],
   "source": [
    "s[2]=\"K\""
   ]
  },
  {
   "cell_type": "code",
   "execution_count": 169,
   "id": "eee5f402",
   "metadata": {},
   "outputs": [],
   "source": [
    "t=(7,8,9,9,9,\"Jimmy\",\"Swati\",\"Gardenia\",True,19.89)"
   ]
  },
  {
   "cell_type": "code",
   "execution_count": 162,
   "id": "b3c025ab",
   "metadata": {},
   "outputs": [
    {
     "data": {
      "text/plain": [
       "tuple"
      ]
     },
     "execution_count": 162,
     "metadata": {},
     "output_type": "execute_result"
    }
   ],
   "source": [
    "type(t)"
   ]
  },
  {
   "cell_type": "code",
   "execution_count": 163,
   "id": "7d190325",
   "metadata": {},
   "outputs": [
    {
     "data": {
      "text/plain": [
       "(7, 8, 9, 'Jimmy', 'Swati', 'Gardenia', True, 19.89)"
      ]
     },
     "execution_count": 163,
     "metadata": {},
     "output_type": "execute_result"
    }
   ],
   "source": [
    "t"
   ]
  },
  {
   "cell_type": "code",
   "execution_count": 164,
   "id": "52c8fb81",
   "metadata": {},
   "outputs": [
    {
     "data": {
      "text/plain": [
       "7"
      ]
     },
     "execution_count": 164,
     "metadata": {},
     "output_type": "execute_result"
    }
   ],
   "source": [
    "t[0]"
   ]
  },
  {
   "cell_type": "code",
   "execution_count": 165,
   "id": "d64b6898",
   "metadata": {},
   "outputs": [
    {
     "data": {
      "text/plain": [
       "19.89"
      ]
     },
     "execution_count": 165,
     "metadata": {},
     "output_type": "execute_result"
    }
   ],
   "source": [
    "t[-1]"
   ]
  },
  {
   "cell_type": "code",
   "execution_count": 166,
   "id": "d0211b32",
   "metadata": {},
   "outputs": [
    {
     "data": {
      "text/plain": [
       "(7, 8, 9, 'Jimmy', 'Swati', 'Gardenia', True, 19.89)"
      ]
     },
     "execution_count": 166,
     "metadata": {},
     "output_type": "execute_result"
    }
   ],
   "source": [
    "t[:10]"
   ]
  },
  {
   "cell_type": "code",
   "execution_count": 167,
   "id": "df9372ee",
   "metadata": {},
   "outputs": [
    {
     "data": {
      "text/plain": [
       "('Jimmy', 'Gardenia', 19.89)"
      ]
     },
     "execution_count": 167,
     "metadata": {},
     "output_type": "execute_result"
    }
   ],
   "source": [
    "t[3:15:2]"
   ]
  },
  {
   "cell_type": "code",
   "execution_count": 170,
   "id": "a0261c0f",
   "metadata": {},
   "outputs": [
    {
     "data": {
      "text/plain": [
       "3"
      ]
     },
     "execution_count": 170,
     "metadata": {},
     "output_type": "execute_result"
    }
   ],
   "source": [
    "t.count(9)"
   ]
  },
  {
   "cell_type": "code",
   "execution_count": 171,
   "id": "1fad0620",
   "metadata": {},
   "outputs": [
    {
     "data": {
      "text/plain": [
       "2"
      ]
     },
     "execution_count": 171,
     "metadata": {},
     "output_type": "execute_result"
    }
   ],
   "source": [
    "t.index(9)"
   ]
  },
  {
   "cell_type": "code",
   "execution_count": 172,
   "id": "8de42d5c",
   "metadata": {},
   "outputs": [
    {
     "data": {
      "text/plain": [
       "()"
      ]
     },
     "execution_count": 172,
     "metadata": {},
     "output_type": "execute_result"
    }
   ],
   "source": [
    "t[0:4:-1]"
   ]
  },
  {
   "cell_type": "code",
   "execution_count": 173,
   "id": "7bfec47d",
   "metadata": {},
   "outputs": [],
   "source": [
    "l=[1,2,3,4,5,6,7,8,9,0]"
   ]
  },
  {
   "cell_type": "code",
   "execution_count": 175,
   "id": "07b2db09",
   "metadata": {},
   "outputs": [],
   "source": [
    "l[2]=33"
   ]
  },
  {
   "cell_type": "code",
   "execution_count": 176,
   "id": "1c54f30f",
   "metadata": {},
   "outputs": [
    {
     "data": {
      "text/plain": [
       "[1, 2, 33, 4, 5, 6, 7, 8, 9, 0]"
      ]
     },
     "execution_count": 176,
     "metadata": {},
     "output_type": "execute_result"
    }
   ],
   "source": [
    "l"
   ]
  },
  {
   "cell_type": "code",
   "execution_count": 177,
   "id": "6cd343c3",
   "metadata": {},
   "outputs": [
    {
     "data": {
      "text/plain": [
       "(7, 8, 9, 9, 9, 'Jimmy', 'Swati', 'Gardenia', True, 19.89)"
      ]
     },
     "execution_count": 177,
     "metadata": {},
     "output_type": "execute_result"
    }
   ],
   "source": [
    "t"
   ]
  },
  {
   "cell_type": "code",
   "execution_count": 178,
   "id": "e98e50e4",
   "metadata": {},
   "outputs": [
    {
     "data": {
      "text/plain": [
       "9"
      ]
     },
     "execution_count": 178,
     "metadata": {},
     "output_type": "execute_result"
    }
   ],
   "source": [
    "t[2]"
   ]
  },
  {
   "cell_type": "code",
   "execution_count": 179,
   "id": "0acaba48",
   "metadata": {},
   "outputs": [
    {
     "ename": "TypeError",
     "evalue": "'tuple' object does not support item assignment",
     "output_type": "error",
     "traceback": [
      "\u001b[1;31m---------------------------------------------------------------------------\u001b[0m",
      "\u001b[1;31mTypeError\u001b[0m                                 Traceback (most recent call last)",
      "Input \u001b[1;32mIn [179]\u001b[0m, in \u001b[0;36m<cell line: 1>\u001b[1;34m()\u001b[0m\n\u001b[1;32m----> 1\u001b[0m t[\u001b[38;5;241m2\u001b[39m]\u001b[38;5;241m=\u001b[39m\u001b[38;5;241m99\u001b[39m\n",
      "\u001b[1;31mTypeError\u001b[0m: 'tuple' object does not support item assignment"
     ]
    }
   ],
   "source": [
    "t[2]=99"
   ]
  },
  {
   "cell_type": "code",
   "execution_count": 180,
   "id": "9c8b7dab",
   "metadata": {},
   "outputs": [
    {
     "data": {
      "text/plain": [
       "(7, 8, 9, 9, 9, 'Jimmy', 'Swati', 'Gardenia', True, 19.89)"
      ]
     },
     "execution_count": 180,
     "metadata": {},
     "output_type": "execute_result"
    }
   ],
   "source": [
    "t"
   ]
  },
  {
   "cell_type": "code",
   "execution_count": 181,
   "id": "69a6e83b",
   "metadata": {},
   "outputs": [],
   "source": [
    "t1=(3,54,5,6)"
   ]
  },
  {
   "cell_type": "code",
   "execution_count": 182,
   "id": "e20dcac9",
   "metadata": {},
   "outputs": [
    {
     "data": {
      "text/plain": [
       "(7, 8, 9, 9, 9, 'Jimmy', 'Swati', 'Gardenia', True, 19.89, 3, 54, 5, 6)"
      ]
     },
     "execution_count": 182,
     "metadata": {},
     "output_type": "execute_result"
    }
   ],
   "source": [
    "t+t1"
   ]
  },
  {
   "cell_type": "code",
   "execution_count": 183,
   "id": "6668f07b",
   "metadata": {},
   "outputs": [
    {
     "ename": "TypeError",
     "evalue": "unsupported operand type(s) for -: 'tuple' and 'tuple'",
     "output_type": "error",
     "traceback": [
      "\u001b[1;31m---------------------------------------------------------------------------\u001b[0m",
      "\u001b[1;31mTypeError\u001b[0m                                 Traceback (most recent call last)",
      "Input \u001b[1;32mIn [183]\u001b[0m, in \u001b[0;36m<cell line: 1>\u001b[1;34m()\u001b[0m\n\u001b[1;32m----> 1\u001b[0m \u001b[43mt\u001b[49m\u001b[38;5;241;43m-\u001b[39;49m\u001b[43mt1\u001b[49m\n",
      "\u001b[1;31mTypeError\u001b[0m: unsupported operand type(s) for -: 'tuple' and 'tuple'"
     ]
    }
   ],
   "source": [
    "t-t1"
   ]
  },
  {
   "cell_type": "code",
   "execution_count": 184,
   "id": "672ed791",
   "metadata": {},
   "outputs": [
    {
     "ename": "AttributeError",
     "evalue": "'tuple' object has no attribute 'pop'",
     "output_type": "error",
     "traceback": [
      "\u001b[1;31m---------------------------------------------------------------------------\u001b[0m",
      "\u001b[1;31mAttributeError\u001b[0m                            Traceback (most recent call last)",
      "Input \u001b[1;32mIn [184]\u001b[0m, in \u001b[0;36m<cell line: 1>\u001b[1;34m()\u001b[0m\n\u001b[1;32m----> 1\u001b[0m \u001b[43mt\u001b[49m\u001b[38;5;241;43m.\u001b[39;49m\u001b[43mpop\u001b[49m()\n",
      "\u001b[1;31mAttributeError\u001b[0m: 'tuple' object has no attribute 'pop'"
     ]
    }
   ],
   "source": [
    "t.pop()"
   ]
  },
  {
   "cell_type": "code",
   "execution_count": 185,
   "id": "ef1b764f",
   "metadata": {},
   "outputs": [
    {
     "data": {
      "text/plain": [
       "(7, 8, 9, 9, 9, 'Jimmy', 'Swati', 'Gardenia', True, 19.89)"
      ]
     },
     "execution_count": 185,
     "metadata": {},
     "output_type": "execute_result"
    }
   ],
   "source": [
    "t"
   ]
  },
  {
   "cell_type": "code",
   "execution_count": 187,
   "id": "c1c201fe",
   "metadata": {},
   "outputs": [],
   "source": [
    "t2=list(t)"
   ]
  },
  {
   "cell_type": "code",
   "execution_count": 188,
   "id": "b0b24e50",
   "metadata": {},
   "outputs": [
    {
     "data": {
      "text/plain": [
       "[7, 8, 9, 9, 9, 'Jimmy', 'Swati', 'Gardenia', True, 19.89]"
      ]
     },
     "execution_count": 188,
     "metadata": {},
     "output_type": "execute_result"
    }
   ],
   "source": [
    "t2"
   ]
  },
  {
   "cell_type": "code",
   "execution_count": 189,
   "id": "efc47868",
   "metadata": {},
   "outputs": [
    {
     "data": {
      "text/plain": [
       "(7, 8, 9, 9, 9, 'Jimmy', 'Swati', 'Gardenia', True, 19.89)"
      ]
     },
     "execution_count": 189,
     "metadata": {},
     "output_type": "execute_result"
    }
   ],
   "source": [
    "tuple(t2)"
   ]
  },
  {
   "cell_type": "code",
   "execution_count": 191,
   "id": "55cab043",
   "metadata": {},
   "outputs": [],
   "source": [
    "t2=str(t2)"
   ]
  },
  {
   "cell_type": "code",
   "execution_count": 192,
   "id": "a85723b3",
   "metadata": {},
   "outputs": [
    {
     "data": {
      "text/plain": [
       "('[',\n",
       " '7',\n",
       " ',',\n",
       " ' ',\n",
       " '8',\n",
       " ',',\n",
       " ' ',\n",
       " '9',\n",
       " ',',\n",
       " ' ',\n",
       " '9',\n",
       " ',',\n",
       " ' ',\n",
       " '9',\n",
       " ',',\n",
       " ' ',\n",
       " \"'\",\n",
       " 'J',\n",
       " 'i',\n",
       " 'm',\n",
       " 'm',\n",
       " 'y',\n",
       " \"'\",\n",
       " ',',\n",
       " ' ',\n",
       " \"'\",\n",
       " 'S',\n",
       " 'w',\n",
       " 'a',\n",
       " 't',\n",
       " 'i',\n",
       " \"'\",\n",
       " ',',\n",
       " ' ',\n",
       " \"'\",\n",
       " 'G',\n",
       " 'a',\n",
       " 'r',\n",
       " 'd',\n",
       " 'e',\n",
       " 'n',\n",
       " 'i',\n",
       " 'a',\n",
       " \"'\",\n",
       " ',',\n",
       " ' ',\n",
       " 'T',\n",
       " 'r',\n",
       " 'u',\n",
       " 'e',\n",
       " ',',\n",
       " ' ',\n",
       " '1',\n",
       " '9',\n",
       " '.',\n",
       " '8',\n",
       " '9',\n",
       " ']')"
      ]
     },
     "execution_count": 192,
     "metadata": {},
     "output_type": "execute_result"
    }
   ],
   "source": [
    "tuple(t2)"
   ]
  },
  {
   "cell_type": "code",
   "execution_count": 205,
   "id": "751d9df3",
   "metadata": {},
   "outputs": [],
   "source": [
    "d={'a':'Apple','b':'Black Dog','c':'Cinema'}"
   ]
  },
  {
   "cell_type": "code",
   "execution_count": 206,
   "id": "7fb26d89",
   "metadata": {},
   "outputs": [
    {
     "data": {
      "text/plain": [
       "{'a': 'Apple', 'b': 'Black Dog', 'c': 'Cinema'}"
      ]
     },
     "execution_count": 206,
     "metadata": {},
     "output_type": "execute_result"
    }
   ],
   "source": [
    "d"
   ]
  },
  {
   "cell_type": "code",
   "execution_count": 201,
   "id": "4825cf46",
   "metadata": {},
   "outputs": [
    {
     "data": {
      "text/plain": [
       "dict"
      ]
     },
     "execution_count": 201,
     "metadata": {},
     "output_type": "execute_result"
    }
   ],
   "source": [
    "type(d)"
   ]
  },
  {
   "cell_type": "code",
   "execution_count": 202,
   "id": "fb1171f3",
   "metadata": {},
   "outputs": [],
   "source": [
    "d2={}"
   ]
  },
  {
   "cell_type": "code",
   "execution_count": 203,
   "id": "65d2e36e",
   "metadata": {},
   "outputs": [
    {
     "data": {
      "text/plain": [
       "dict"
      ]
     },
     "execution_count": 203,
     "metadata": {},
     "output_type": "execute_result"
    }
   ],
   "source": [
    "type(d2)"
   ]
  },
  {
   "cell_type": "code",
   "execution_count": 208,
   "id": "cb2cd7ce",
   "metadata": {},
   "outputs": [
    {
     "data": {
      "text/plain": [
       "{'a': 'Apple', 'b': 'Black Dog', 'c': 'Cinema'}"
      ]
     },
     "execution_count": 208,
     "metadata": {},
     "output_type": "execute_result"
    }
   ],
   "source": [
    "d"
   ]
  },
  {
   "cell_type": "code",
   "execution_count": 209,
   "id": "a791758e",
   "metadata": {},
   "outputs": [
    {
     "data": {
      "text/plain": [
       "'Apple'"
      ]
     },
     "execution_count": 209,
     "metadata": {},
     "output_type": "execute_result"
    }
   ],
   "source": [
    "d['a']"
   ]
  },
  {
   "cell_type": "code",
   "execution_count": 211,
   "id": "6ca2fb0e",
   "metadata": {},
   "outputs": [
    {
     "data": {
      "text/plain": [
       "'Black Dog'"
      ]
     },
     "execution_count": 211,
     "metadata": {},
     "output_type": "execute_result"
    }
   ],
   "source": [
    "d['b']"
   ]
  },
  {
   "cell_type": "code",
   "execution_count": 214,
   "id": "4bda0da0",
   "metadata": {},
   "outputs": [],
   "source": [
    "d={'j':['Jimmy','Jumbo','Japan','Jaymil']}"
   ]
  },
  {
   "cell_type": "code",
   "execution_count": 215,
   "id": "709a194b",
   "metadata": {},
   "outputs": [
    {
     "data": {
      "text/plain": [
       "{'j': ['Jimmy', 'Jumbo', 'Japan', 'Jaymil']}"
      ]
     },
     "execution_count": 215,
     "metadata": {},
     "output_type": "execute_result"
    }
   ],
   "source": [
    "d"
   ]
  },
  {
   "cell_type": "code",
   "execution_count": 217,
   "id": "10fdb4bb",
   "metadata": {},
   "outputs": [],
   "source": [
    "d2={'t':['Data Science','Java']}"
   ]
  },
  {
   "cell_type": "code",
   "execution_count": 218,
   "id": "ef5ed0dd",
   "metadata": {},
   "outputs": [
    {
     "data": {
      "text/plain": [
       "{'t': ['Data Science', 'Java']}"
      ]
     },
     "execution_count": 218,
     "metadata": {},
     "output_type": "execute_result"
    }
   ],
   "source": [
    "d2"
   ]
  },
  {
   "cell_type": "code",
   "execution_count": 221,
   "id": "c36d407d",
   "metadata": {},
   "outputs": [
    {
     "data": {
      "text/plain": [
       "True"
      ]
     },
     "execution_count": 221,
     "metadata": {},
     "output_type": "execute_result"
    }
   ],
   "source": [
    "'Data Science' in d2['t']"
   ]
  },
  {
   "cell_type": "code",
   "execution_count": 224,
   "id": "fbc40429",
   "metadata": {},
   "outputs": [],
   "source": [
    "d4={'n':'Nagada','contact':9510181016,'n':'Nose','contact':99999999}"
   ]
  },
  {
   "cell_type": "code",
   "execution_count": 225,
   "id": "4a106613",
   "metadata": {},
   "outputs": [
    {
     "data": {
      "text/plain": [
       "{'n': 'Nose', 'contact': 99999999}"
      ]
     },
     "execution_count": 225,
     "metadata": {},
     "output_type": "execute_result"
    }
   ],
   "source": [
    "d4"
   ]
  },
  {
   "cell_type": "code",
   "execution_count": 226,
   "id": "407573f0",
   "metadata": {},
   "outputs": [],
   "source": [
    "d4[\"k1\"]=\"gjhk\""
   ]
  },
  {
   "cell_type": "code",
   "execution_count": 227,
   "id": "695ed54f",
   "metadata": {},
   "outputs": [
    {
     "data": {
      "text/plain": [
       "{'n': 'Nose', 'contact': 99999999, 'k1': 'gjhk'}"
      ]
     },
     "execution_count": 227,
     "metadata": {},
     "output_type": "execute_result"
    }
   ],
   "source": [
    "d4"
   ]
  },
  {
   "cell_type": "code",
   "execution_count": 229,
   "id": "5abbd6fb",
   "metadata": {},
   "outputs": [],
   "source": [
    "d4['k2']=d2"
   ]
  },
  {
   "cell_type": "code",
   "execution_count": 230,
   "id": "428bac83",
   "metadata": {},
   "outputs": [
    {
     "data": {
      "text/plain": [
       "{'n': 'Nose',\n",
       " 'contact': 99999999,\n",
       " 'k1': 'gjhk',\n",
       " 'k2': {'t': ['Data Science', 'Java']}}"
      ]
     },
     "execution_count": 230,
     "metadata": {},
     "output_type": "execute_result"
    }
   ],
   "source": [
    "d4"
   ]
  },
  {
   "cell_type": "code",
   "execution_count": 233,
   "id": "e8516278",
   "metadata": {},
   "outputs": [
    {
     "data": {
      "text/plain": [
       "['Data Science', 'Java']"
      ]
     },
     "execution_count": 233,
     "metadata": {},
     "output_type": "execute_result"
    }
   ],
   "source": [
    "d4['k2']['t']"
   ]
  },
  {
   "cell_type": "code",
   "execution_count": 236,
   "id": "f5485276",
   "metadata": {},
   "outputs": [
    {
     "ename": "SyntaxError",
     "evalue": "invalid syntax (367251031.py, line 1)",
     "output_type": "error",
     "traceback": [
      "\u001b[1;36m  Input \u001b[1;32mIn [236]\u001b[1;36m\u001b[0m\n\u001b[1;33m    d5={@:'gmail'}\u001b[0m\n\u001b[1;37m        ^\u001b[0m\n\u001b[1;31mSyntaxError\u001b[0m\u001b[1;31m:\u001b[0m invalid syntax\n"
     ]
    }
   ],
   "source": [
    "d5={@:'gmail'}"
   ]
  },
  {
   "cell_type": "code",
   "execution_count": 235,
   "id": "cfacc90f",
   "metadata": {},
   "outputs": [
    {
     "data": {
      "text/plain": [
       "{'@': 'gmail'}"
      ]
     },
     "execution_count": 235,
     "metadata": {},
     "output_type": "execute_result"
    }
   ],
   "source": [
    "d5"
   ]
  },
  {
   "cell_type": "code",
   "execution_count": 240,
   "id": "6ab97d09",
   "metadata": {},
   "outputs": [
    {
     "data": {
      "text/plain": [
       "{'@': 'gmail'}"
      ]
     },
     "execution_count": 240,
     "metadata": {},
     "output_type": "execute_result"
    }
   ],
   "source": [
    "d5"
   ]
  },
  {
   "cell_type": "code",
   "execution_count": 241,
   "id": "ce302c8b",
   "metadata": {},
   "outputs": [
    {
     "ename": "TypeError",
     "evalue": "unhashable type: 'dict'",
     "output_type": "error",
     "traceback": [
      "\u001b[1;31m---------------------------------------------------------------------------\u001b[0m",
      "\u001b[1;31mTypeError\u001b[0m                                 Traceback (most recent call last)",
      "Input \u001b[1;32mIn [241]\u001b[0m, in \u001b[0;36m<cell line: 1>\u001b[1;34m()\u001b[0m\n\u001b[1;32m----> 1\u001b[0m d5\u001b[38;5;241m=\u001b[39m{_:\u001b[38;5;124m\"\u001b[39m\u001b[38;5;124mGmail\u001b[39m\u001b[38;5;124m\"\u001b[39m}\n",
      "\u001b[1;31mTypeError\u001b[0m: unhashable type: 'dict'"
     ]
    }
   ],
   "source": [
    "d5={_:\"Gmail\"}"
   ]
  },
  {
   "cell_type": "code",
   "execution_count": 242,
   "id": "e47d84e9",
   "metadata": {},
   "outputs": [
    {
     "ename": "TypeError",
     "evalue": "unhashable type: 'dict'",
     "output_type": "error",
     "traceback": [
      "\u001b[1;31m---------------------------------------------------------------------------\u001b[0m",
      "\u001b[1;31mTypeError\u001b[0m                                 Traceback (most recent call last)",
      "Input \u001b[1;32mIn [242]\u001b[0m, in \u001b[0;36m<cell line: 1>\u001b[1;34m()\u001b[0m\n\u001b[1;32m----> 1\u001b[0m d6\u001b[38;5;241m=\u001b[39m{{\u001b[38;5;241m3\u001b[39m:\u001b[38;5;241m4\u001b[39m}}\n",
      "\u001b[1;31mTypeError\u001b[0m: unhashable type: 'dict'"
     ]
    }
   ],
   "source": [
    "d6={{3:4}}"
   ]
  },
  {
   "cell_type": "code",
   "execution_count": 245,
   "id": "dc87e05b",
   "metadata": {},
   "outputs": [
    {
     "data": {
      "text/plain": [
       "{'n': 'Nose',\n",
       " 'contact': 99999999,\n",
       " 'k1': 'gjhk',\n",
       " 'k2': {'t': ['Data Science', 'Java']}}"
      ]
     },
     "execution_count": 245,
     "metadata": {},
     "output_type": "execute_result"
    }
   ],
   "source": [
    "d4"
   ]
  },
  {
   "cell_type": "code",
   "execution_count": 247,
   "id": "557bfdb4",
   "metadata": {},
   "outputs": [
    {
     "data": {
      "text/plain": [
       "'Nose'"
      ]
     },
     "execution_count": 247,
     "metadata": {},
     "output_type": "execute_result"
    }
   ],
   "source": [
    "d4.pop('n')"
   ]
  },
  {
   "cell_type": "code",
   "execution_count": 248,
   "id": "e2ce940d",
   "metadata": {},
   "outputs": [
    {
     "data": {
      "text/plain": [
       "{'contact': 99999999, 'k1': 'gjhk', 'k2': {'t': ['Data Science', 'Java']}}"
      ]
     },
     "execution_count": 248,
     "metadata": {},
     "output_type": "execute_result"
    }
   ],
   "source": [
    "d4"
   ]
  },
  {
   "cell_type": "code",
   "execution_count": 251,
   "id": "02ffa7b6",
   "metadata": {},
   "outputs": [
    {
     "data": {
      "text/plain": [
       "{'t': ['Data Science', 'Java']}"
      ]
     },
     "execution_count": 251,
     "metadata": {},
     "output_type": "execute_result"
    }
   ],
   "source": [
    "d2"
   ]
  },
  {
   "cell_type": "code",
   "execution_count": 252,
   "id": "5e37dfc8",
   "metadata": {},
   "outputs": [
    {
     "data": {
      "text/plain": [
       "{'j': ['Jimmy', 'Jumbo', 'Japan', 'Jaymil']}"
      ]
     },
     "execution_count": 252,
     "metadata": {},
     "output_type": "execute_result"
    }
   ],
   "source": [
    "d"
   ]
  },
  {
   "cell_type": "code",
   "execution_count": 253,
   "id": "a4a01f78",
   "metadata": {},
   "outputs": [
    {
     "ename": "NameError",
     "evalue": "name 'd1' is not defined",
     "output_type": "error",
     "traceback": [
      "\u001b[1;31m---------------------------------------------------------------------------\u001b[0m",
      "\u001b[1;31mNameError\u001b[0m                                 Traceback (most recent call last)",
      "Input \u001b[1;32mIn [253]\u001b[0m, in \u001b[0;36m<cell line: 1>\u001b[1;34m()\u001b[0m\n\u001b[1;32m----> 1\u001b[0m \u001b[43md1\u001b[49m\n",
      "\u001b[1;31mNameError\u001b[0m: name 'd1' is not defined"
     ]
    }
   ],
   "source": [
    "d1"
   ]
  },
  {
   "cell_type": "code",
   "execution_count": 254,
   "id": "3463f9ea",
   "metadata": {},
   "outputs": [
    {
     "data": {
      "text/plain": [
       "{'t': ['Data Science', 'Java']}"
      ]
     },
     "execution_count": 254,
     "metadata": {},
     "output_type": "execute_result"
    }
   ],
   "source": [
    "d2"
   ]
  },
  {
   "cell_type": "code",
   "execution_count": 256,
   "id": "6b6c5604",
   "metadata": {},
   "outputs": [
    {
     "data": {
      "text/plain": [
       "{'j': ['Jimmy', 'Jumbo', 'Japan', 'Jaymil']}"
      ]
     },
     "execution_count": 256,
     "metadata": {},
     "output_type": "execute_result"
    }
   ],
   "source": [
    "d"
   ]
  },
  {
   "cell_type": "code",
   "execution_count": 257,
   "id": "e8da401d",
   "metadata": {},
   "outputs": [
    {
     "data": {
      "text/plain": [
       "dict_keys(['j'])"
      ]
     },
     "execution_count": 257,
     "metadata": {},
     "output_type": "execute_result"
    }
   ],
   "source": [
    "d.keys()"
   ]
  },
  {
   "cell_type": "code",
   "execution_count": 258,
   "id": "7f712a75",
   "metadata": {},
   "outputs": [
    {
     "data": {
      "text/plain": [
       "dict_values([['Jimmy', 'Jumbo', 'Japan', 'Jaymil']])"
      ]
     },
     "execution_count": 258,
     "metadata": {},
     "output_type": "execute_result"
    }
   ],
   "source": [
    "d.values()"
   ]
  },
  {
   "cell_type": "code",
   "execution_count": 259,
   "id": "040cb468",
   "metadata": {},
   "outputs": [
    {
     "data": {
      "text/plain": [
       "dict_items([('j', ['Jimmy', 'Jumbo', 'Japan', 'Jaymil'])])"
      ]
     },
     "execution_count": 259,
     "metadata": {},
     "output_type": "execute_result"
    }
   ],
   "source": [
    "d.items ()"
   ]
  },
  {
   "cell_type": "code",
   "execution_count": 262,
   "id": "28ff866e",
   "metadata": {},
   "outputs": [],
   "source": [
    "s= {3,4,5,5}"
   ]
  },
  {
   "cell_type": "code",
   "execution_count": 263,
   "id": "f439dc36",
   "metadata": {},
   "outputs": [
    {
     "data": {
      "text/plain": [
       "set"
      ]
     },
     "execution_count": 263,
     "metadata": {},
     "output_type": "execute_result"
    }
   ],
   "source": [
    "type(s)"
   ]
  },
  {
   "cell_type": "code",
   "execution_count": 267,
   "id": "bf2fd23d",
   "metadata": {},
   "outputs": [],
   "source": [
    "s1={2,23,43,4,55,6,6,67,787665,432543,2,2,2,23,23}"
   ]
  },
  {
   "cell_type": "code",
   "execution_count": 265,
   "id": "9daa81ba",
   "metadata": {},
   "outputs": [
    {
     "data": {
      "text/plain": [
       "{2, 4, 6, 23, 43, 55, 67, 432543, 787665}"
      ]
     },
     "execution_count": 265,
     "metadata": {},
     "output_type": "execute_result"
    }
   ],
   "source": [
    "s1"
   ]
  },
  {
   "cell_type": "code",
   "execution_count": 268,
   "id": "585581d2",
   "metadata": {},
   "outputs": [
    {
     "data": {
      "text/plain": [
       "{2, 4, 6, 23, 43, 55, 67, 432543, 787665}"
      ]
     },
     "execution_count": 268,
     "metadata": {},
     "output_type": "execute_result"
    }
   ],
   "source": [
    "s1"
   ]
  },
  {
   "cell_type": "code",
   "execution_count": 278,
   "id": "c6c70078",
   "metadata": {},
   "outputs": [],
   "source": [
    "s2={678,987,374654,45798,4,9,\"Jimmy\",\"Gardenia\",\"Marvel\",\"a\"}"
   ]
  },
  {
   "cell_type": "code",
   "execution_count": 271,
   "id": "23adc670",
   "metadata": {},
   "outputs": [
    {
     "data": {
      "text/plain": [
       "{678, 987, 45798, 374654}"
      ]
     },
     "execution_count": 271,
     "metadata": {},
     "output_type": "execute_result"
    }
   ],
   "source": [
    "s2"
   ]
  },
  {
   "cell_type": "code",
   "execution_count": 279,
   "id": "aec60964",
   "metadata": {},
   "outputs": [
    {
     "data": {
      "text/plain": [
       "{374654, 4, 45798, 678, 9, 987, 'Gardenia', 'Jimmy', 'Marvel', 'a'}"
      ]
     },
     "execution_count": 279,
     "metadata": {},
     "output_type": "execute_result"
    }
   ],
   "source": [
    "s2"
   ]
  },
  {
   "cell_type": "code",
   "execution_count": 280,
   "id": "7c950d4a",
   "metadata": {},
   "outputs": [
    {
     "data": {
      "text/plain": [
       "{374654, 4, 45798, 678, 9, 987, 'Gardenia', 'Jimmy', 'Marvel', 'a'}"
      ]
     },
     "execution_count": 280,
     "metadata": {},
     "output_type": "execute_result"
    }
   ],
   "source": [
    "s2"
   ]
  },
  {
   "cell_type": "code",
   "execution_count": 298,
   "id": "e32d587a",
   "metadata": {},
   "outputs": [],
   "source": [
    "s3=list(s2)"
   ]
  },
  {
   "cell_type": "code",
   "execution_count": 294,
   "id": "d2266474",
   "metadata": {},
   "outputs": [
    {
     "data": {
      "text/plain": [
       "{374654, 4, 45798, 678, 9, 987, 'Gardenia', 'Jimmy', 'Marvel', 'a'}"
      ]
     },
     "execution_count": 294,
     "metadata": {},
     "output_type": "execute_result"
    }
   ],
   "source": [
    "s2"
   ]
  },
  {
   "cell_type": "code",
   "execution_count": 300,
   "id": "b7dfd85a",
   "metadata": {},
   "outputs": [
    {
     "ename": "TypeError",
     "evalue": "unhashable type: 'list'",
     "output_type": "error",
     "traceback": [
      "\u001b[1;31m---------------------------------------------------------------------------\u001b[0m",
      "\u001b[1;31mTypeError\u001b[0m                                 Traceback (most recent call last)",
      "Input \u001b[1;32mIn [300]\u001b[0m, in \u001b[0;36m<cell line: 1>\u001b[1;34m()\u001b[0m\n\u001b[1;32m----> 1\u001b[0m \u001b[43ms2\u001b[49m\u001b[38;5;241;43m.\u001b[39;49m\u001b[43madd\u001b[49m\u001b[43m(\u001b[49m\u001b[43m[\u001b[49m\u001b[38;5;241;43m1\u001b[39;49m\u001b[43m,\u001b[49m\u001b[38;5;241;43m2\u001b[39;49m\u001b[43m,\u001b[49m\u001b[38;5;241;43m3\u001b[39;49m\u001b[43m,\u001b[49m\u001b[38;5;241;43m4\u001b[39;49m\u001b[43m,\u001b[49m\u001b[38;5;241;43m5\u001b[39;49m\u001b[43m,\u001b[49m\u001b[38;5;241;43m5\u001b[39;49m\u001b[43m]\u001b[49m\u001b[43m)\u001b[49m\n",
      "\u001b[1;31mTypeError\u001b[0m: unhashable type: 'list'"
     ]
    }
   ],
   "source": [
    "s2.add([1,2,3,4,5,5])"
   ]
  },
  {
   "cell_type": "code",
   "execution_count": 301,
   "id": "d386316f",
   "metadata": {},
   "outputs": [
    {
     "data": {
      "text/plain": [
       "{374654, 4, 45798, 678, 9, 987, 'Gardenia', 'Jimmy', 'Marvel', 'a'}"
      ]
     },
     "execution_count": 301,
     "metadata": {},
     "output_type": "execute_result"
    }
   ],
   "source": [
    "s2"
   ]
  },
  {
   "cell_type": "code",
   "execution_count": 302,
   "id": "cd20008b",
   "metadata": {},
   "outputs": [],
   "source": [
    "s2={(890,876),7,44,22,90}"
   ]
  },
  {
   "cell_type": "code",
   "execution_count": 303,
   "id": "e3afa555",
   "metadata": {},
   "outputs": [
    {
     "data": {
      "text/plain": [
       "{(890, 876), 22, 44, 7, 90}"
      ]
     },
     "execution_count": 303,
     "metadata": {},
     "output_type": "execute_result"
    }
   ],
   "source": [
    "s2"
   ]
  },
  {
   "cell_type": "code",
   "execution_count": 306,
   "id": "8c86cef3",
   "metadata": {},
   "outputs": [],
   "source": [
    "s2.remove(22)"
   ]
  },
  {
   "cell_type": "code",
   "execution_count": 307,
   "id": "e0e16819",
   "metadata": {},
   "outputs": [
    {
     "data": {
      "text/plain": [
       "{(890, 876), 44, 7, 90}"
      ]
     },
     "execution_count": 307,
     "metadata": {},
     "output_type": "execute_result"
    }
   ],
   "source": [
    "s2"
   ]
  },
  {
   "cell_type": "code",
   "execution_count": 310,
   "id": "4219fdc2",
   "metadata": {},
   "outputs": [],
   "source": [
    "s2.discard(44)"
   ]
  },
  {
   "cell_type": "code",
   "execution_count": 311,
   "id": "010af069",
   "metadata": {},
   "outputs": [
    {
     "data": {
      "text/plain": [
       "{(890, 876), 7, 90}"
      ]
     },
     "execution_count": 311,
     "metadata": {},
     "output_type": "execute_result"
    }
   ],
   "source": [
    "s2"
   ]
  },
  {
   "cell_type": "code",
   "execution_count": null,
   "id": "38c6e1f3",
   "metadata": {},
   "outputs": [],
   "source": []
  }
 ],
 "metadata": {
  "kernelspec": {
   "display_name": "Python 3 (ipykernel)",
   "language": "python",
   "name": "python3"
  },
  "language_info": {
   "codemirror_mode": {
    "name": "ipython",
    "version": 3
   },
   "file_extension": ".py",
   "mimetype": "text/x-python",
   "name": "python",
   "nbconvert_exporter": "python",
   "pygments_lexer": "ipython3",
   "version": "3.9.12"
  }
 },
 "nbformat": 4,
 "nbformat_minor": 5
}
