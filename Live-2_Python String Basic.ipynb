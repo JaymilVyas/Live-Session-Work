{
 "cells": [
  {
   "cell_type": "code",
   "execution_count": 1,
   "id": "2e7c976c",
   "metadata": {},
   "outputs": [],
   "source": [
    "s=\"Jimmy Is Master\""
   ]
  },
  {
   "cell_type": "code",
   "execution_count": 2,
   "id": "9d59bcdb",
   "metadata": {},
   "outputs": [
    {
     "data": {
      "text/plain": [
       "str"
      ]
     },
     "execution_count": 2,
     "metadata": {},
     "output_type": "execute_result"
    }
   ],
   "source": [
    "type(s)"
   ]
  },
  {
   "cell_type": "code",
   "execution_count": 3,
   "id": "8cb26d48",
   "metadata": {},
   "outputs": [
    {
     "data": {
      "text/plain": [
       "'m'"
      ]
     },
     "execution_count": 3,
     "metadata": {},
     "output_type": "execute_result"
    }
   ],
   "source": [
    "s[3]"
   ]
  },
  {
   "cell_type": "code",
   "execution_count": 4,
   "id": "a4760148",
   "metadata": {},
   "outputs": [
    {
     "data": {
      "text/plain": [
       "'s'"
      ]
     },
     "execution_count": 4,
     "metadata": {},
     "output_type": "execute_result"
    }
   ],
   "source": [
    "s[7]"
   ]
  },
  {
   "cell_type": "code",
   "execution_count": 5,
   "id": "d46f8d65",
   "metadata": {},
   "outputs": [
    {
     "data": {
      "text/plain": [
       "' '"
      ]
     },
     "execution_count": 5,
     "metadata": {},
     "output_type": "execute_result"
    }
   ],
   "source": [
    "s[5]"
   ]
  },
  {
   "cell_type": "code",
   "execution_count": 6,
   "id": "70794900",
   "metadata": {},
   "outputs": [
    {
     "data": {
      "text/plain": [
       "'Jimmy Is Master'"
      ]
     },
     "execution_count": 6,
     "metadata": {},
     "output_type": "execute_result"
    }
   ],
   "source": [
    "s[:]"
   ]
  },
  {
   "cell_type": "code",
   "execution_count": 7,
   "id": "575f9287",
   "metadata": {},
   "outputs": [
    {
     "data": {
      "text/plain": [
       "'Jimmy Is Maste'"
      ]
     },
     "execution_count": 7,
     "metadata": {},
     "output_type": "execute_result"
    }
   ],
   "source": [
    "s[:-1]"
   ]
  },
  {
   "cell_type": "code",
   "execution_count": 8,
   "id": "dcb29597",
   "metadata": {},
   "outputs": [
    {
     "data": {
      "text/plain": [
       "'immy I'"
      ]
     },
     "execution_count": 8,
     "metadata": {},
     "output_type": "execute_result"
    }
   ],
   "source": [
    "s[1:7]"
   ]
  },
  {
   "cell_type": "code",
   "execution_count": 9,
   "id": "a90cbf03",
   "metadata": {},
   "outputs": [
    {
     "data": {
      "text/plain": [
       "'Jimmy'"
      ]
     },
     "execution_count": 9,
     "metadata": {},
     "output_type": "execute_result"
    }
   ],
   "source": [
    "s[:-10]"
   ]
  },
  {
   "cell_type": "code",
   "execution_count": 10,
   "id": "e15a37bd",
   "metadata": {},
   "outputs": [
    {
     "data": {
      "text/plain": [
       "'Is Master'"
      ]
     },
     "execution_count": 10,
     "metadata": {},
     "output_type": "execute_result"
    }
   ],
   "source": [
    "s[6:]"
   ]
  },
  {
   "cell_type": "code",
   "execution_count": 13,
   "id": "e8049a54",
   "metadata": {},
   "outputs": [],
   "source": [
    "s1=\"Jimmy needs Hardik's support for the project\""
   ]
  },
  {
   "cell_type": "code",
   "execution_count": 14,
   "id": "bb571076",
   "metadata": {},
   "outputs": [
    {
     "data": {
      "text/plain": [
       "\"Jimmy needs Hardik's support for the project\""
      ]
     },
     "execution_count": 14,
     "metadata": {},
     "output_type": "execute_result"
    }
   ],
   "source": [
    "s1"
   ]
  },
  {
   "cell_type": "code",
   "execution_count": 15,
   "id": "68c5dd06",
   "metadata": {},
   "outputs": [
    {
     "data": {
      "text/plain": [
       "\"Jimmy needs Hardik's support for the project\""
      ]
     },
     "execution_count": 15,
     "metadata": {},
     "output_type": "execute_result"
    }
   ],
   "source": [
    "s1[:]"
   ]
  },
  {
   "cell_type": "code",
   "execution_count": 16,
   "id": "00647fea",
   "metadata": {},
   "outputs": [
    {
     "data": {
      "text/plain": [
       "'Jimmy needs '"
      ]
     },
     "execution_count": 16,
     "metadata": {},
     "output_type": "execute_result"
    }
   ],
   "source": [
    "s1[0:12]"
   ]
  },
  {
   "cell_type": "code",
   "execution_count": 20,
   "id": "65a6e244",
   "metadata": {},
   "outputs": [
    {
     "data": {
      "text/plain": [
       "\"JmynesHri' upr o h r\""
      ]
     },
     "execution_count": 20,
     "metadata": {},
     "output_type": "execute_result"
    }
   ],
   "source": [
    "s1[0:40:2]"
   ]
  },
  {
   "cell_type": "code",
   "execution_count": 21,
   "id": "9d40d7f4",
   "metadata": {},
   "outputs": [
    {
     "data": {
      "text/plain": [
       "\"Jimmy needs Hardik's support for the pro\""
      ]
     },
     "execution_count": 21,
     "metadata": {},
     "output_type": "execute_result"
    }
   ],
   "source": [
    "s1[0:40:1]"
   ]
  },
  {
   "cell_type": "code",
   "execution_count": 23,
   "id": "7031b576",
   "metadata": {},
   "outputs": [
    {
     "data": {
      "text/plain": [
       "'J sd ooe'"
      ]
     },
     "execution_count": 23,
     "metadata": {},
     "output_type": "execute_result"
    }
   ],
   "source": [
    "s1[0:40:5]"
   ]
  },
  {
   "cell_type": "code",
   "execution_count": 24,
   "id": "c2f181ef",
   "metadata": {},
   "outputs": [
    {
     "data": {
      "text/plain": [
       "''"
      ]
     },
     "execution_count": 24,
     "metadata": {},
     "output_type": "execute_result"
    }
   ],
   "source": [
    "s[0:10:-1]"
   ]
  },
  {
   "cell_type": "code",
   "execution_count": 25,
   "id": "edb3d7e8",
   "metadata": {},
   "outputs": [
    {
     "data": {
      "text/plain": [
       "''"
      ]
     },
     "execution_count": 25,
     "metadata": {},
     "output_type": "execute_result"
    }
   ],
   "source": [
    "s[10:0]"
   ]
  },
  {
   "cell_type": "code",
   "execution_count": 27,
   "id": "6aa47003",
   "metadata": {},
   "outputs": [
    {
     "data": {
      "text/plain": [
       "' sI ymmi'"
      ]
     },
     "execution_count": 27,
     "metadata": {},
     "output_type": "execute_result"
    }
   ],
   "source": [
    "s[8:0:-1]"
   ]
  },
  {
   "cell_type": "code",
   "execution_count": 28,
   "id": "f226c541",
   "metadata": {},
   "outputs": [
    {
     "data": {
      "text/plain": [
       "'Jimmy Is Master'"
      ]
     },
     "execution_count": 28,
     "metadata": {},
     "output_type": "execute_result"
    }
   ],
   "source": [
    "s"
   ]
  },
  {
   "cell_type": "code",
   "execution_count": 29,
   "id": "761e3cf4",
   "metadata": {},
   "outputs": [
    {
     "data": {
      "text/plain": [
       "'a Iym'"
      ]
     },
     "execution_count": 29,
     "metadata": {},
     "output_type": "execute_result"
    }
   ],
   "source": [
    "s[10:0:-2]"
   ]
  },
  {
   "cell_type": "code",
   "execution_count": 30,
   "id": "b1601c6d",
   "metadata": {},
   "outputs": [
    {
     "data": {
      "text/plain": [
       "'Jimmy Is Mas'"
      ]
     },
     "execution_count": 30,
     "metadata": {},
     "output_type": "execute_result"
    }
   ],
   "source": [
    "s[:-3]"
   ]
  },
  {
   "cell_type": "code",
   "execution_count": 31,
   "id": "179f1100",
   "metadata": {},
   "outputs": [
    {
     "data": {
      "text/plain": [
       "''"
      ]
     },
     "execution_count": 31,
     "metadata": {},
     "output_type": "execute_result"
    }
   ],
   "source": [
    "s[-3:-9]"
   ]
  },
  {
   "cell_type": "code",
   "execution_count": 32,
   "id": "9396f85d",
   "metadata": {},
   "outputs": [
    {
     "data": {
      "text/plain": [
       "'Is Mas'"
      ]
     },
     "execution_count": 32,
     "metadata": {},
     "output_type": "execute_result"
    }
   ],
   "source": [
    "s[-9:-3]"
   ]
  },
  {
   "cell_type": "code",
   "execution_count": 33,
   "id": "32946885",
   "metadata": {},
   "outputs": [
    {
     "data": {
      "text/plain": [
       "'Jimmy Is Mas'"
      ]
     },
     "execution_count": 33,
     "metadata": {},
     "output_type": "execute_result"
    }
   ],
   "source": [
    "s[-15:-3]"
   ]
  },
  {
   "cell_type": "code",
   "execution_count": 34,
   "id": "1b96ce8e",
   "metadata": {},
   "outputs": [
    {
     "data": {
      "text/plain": [
       "'JmyI atr'"
      ]
     },
     "execution_count": 34,
     "metadata": {},
     "output_type": "execute_result"
    }
   ],
   "source": [
    "s[::2]"
   ]
  },
  {
   "cell_type": "code",
   "execution_count": 35,
   "id": "b19c530f",
   "metadata": {},
   "outputs": [
    {
     "data": {
      "text/plain": [
       "'retsaM sI ymmiJ'"
      ]
     },
     "execution_count": 35,
     "metadata": {},
     "output_type": "execute_result"
    }
   ],
   "source": [
    "s[::-1]"
   ]
  },
  {
   "cell_type": "code",
   "execution_count": 36,
   "id": "7192b0c3",
   "metadata": {},
   "outputs": [
    {
     "data": {
      "text/plain": [
       "\"Jimmy needs Hardik's support for the project\""
      ]
     },
     "execution_count": 36,
     "metadata": {},
     "output_type": "execute_result"
    }
   ],
   "source": [
    "s1"
   ]
  },
  {
   "cell_type": "code",
   "execution_count": 38,
   "id": "6b0f8bba",
   "metadata": {},
   "outputs": [
    {
     "data": {
      "text/plain": [
       "\"tcejorp eht rof troppus s'kidraH sdeen ymmiJ\""
      ]
     },
     "execution_count": 38,
     "metadata": {},
     "output_type": "execute_result"
    }
   ],
   "source": [
    "s1[::-1]"
   ]
  },
  {
   "cell_type": "code",
   "execution_count": 39,
   "id": "a060715c",
   "metadata": {},
   "outputs": [
    {
     "data": {
      "text/plain": [
       "'een ymmi'"
      ]
     },
     "execution_count": 39,
     "metadata": {},
     "output_type": "execute_result"
    }
   ],
   "source": [
    "s1[8:0:-1]"
   ]
  },
  {
   "cell_type": "code",
   "execution_count": 40,
   "id": "37811c07",
   "metadata": {},
   "outputs": [],
   "source": [
    "s2=\"How Are You?\""
   ]
  },
  {
   "cell_type": "code",
   "execution_count": 41,
   "id": "fc771409",
   "metadata": {},
   "outputs": [
    {
     "data": {
      "text/plain": [
       "'How Are You?'"
      ]
     },
     "execution_count": 41,
     "metadata": {},
     "output_type": "execute_result"
    }
   ],
   "source": [
    "s2"
   ]
  },
  {
   "cell_type": "code",
   "execution_count": 42,
   "id": "f5668d9b",
   "metadata": {},
   "outputs": [
    {
     "data": {
      "text/plain": [
       "''"
      ]
     },
     "execution_count": 42,
     "metadata": {},
     "output_type": "execute_result"
    }
   ],
   "source": [
    "s2[-2:-7:1]"
   ]
  },
  {
   "cell_type": "code",
   "execution_count": 45,
   "id": "7e97cfd0",
   "metadata": {},
   "outputs": [
    {
     "data": {
      "text/plain": [
       "'Yo'"
      ]
     },
     "execution_count": 45,
     "metadata": {},
     "output_type": "execute_result"
    }
   ],
   "source": [
    "s2[-4:-2:1]"
   ]
  },
  {
   "cell_type": "code",
   "execution_count": 46,
   "id": "93d40181",
   "metadata": {},
   "outputs": [
    {
     "data": {
      "text/plain": [
       "'How Are You?'"
      ]
     },
     "execution_count": 46,
     "metadata": {},
     "output_type": "execute_result"
    }
   ],
   "source": [
    "s2"
   ]
  },
  {
   "cell_type": "code",
   "execution_count": 47,
   "id": "92321dec",
   "metadata": {},
   "outputs": [
    {
     "data": {
      "text/plain": [
       "''"
      ]
     },
     "execution_count": 47,
     "metadata": {},
     "output_type": "execute_result"
    }
   ],
   "source": [
    "s2[-8:-5:-1]"
   ]
  },
  {
   "cell_type": "code",
   "execution_count": 48,
   "id": "a0787807",
   "metadata": {},
   "outputs": [
    {
     "data": {
      "text/plain": [
       "''"
      ]
     },
     "execution_count": 48,
     "metadata": {},
     "output_type": "execute_result"
    }
   ],
   "source": [
    "s2[0:20:-1]"
   ]
  },
  {
   "cell_type": "code",
   "execution_count": 49,
   "id": "2f105503",
   "metadata": {},
   "outputs": [
    {
     "data": {
      "text/plain": [
       "' er'"
      ]
     },
     "execution_count": 49,
     "metadata": {},
     "output_type": "execute_result"
    }
   ],
   "source": [
    "s2[-5:-8:-1]"
   ]
  },
  {
   "cell_type": "code",
   "execution_count": 50,
   "id": "c435f0f7",
   "metadata": {},
   "outputs": [
    {
     "data": {
      "text/plain": [
       "'How Are You?'"
      ]
     },
     "execution_count": 50,
     "metadata": {},
     "output_type": "execute_result"
    }
   ],
   "source": [
    "s2"
   ]
  },
  {
   "cell_type": "code",
   "execution_count": 51,
   "id": "b565607f",
   "metadata": {},
   "outputs": [
    {
     "ename": "TypeError",
     "evalue": "can only concatenate str (not \"int\") to str",
     "output_type": "error",
     "traceback": [
      "\u001b[1;31m---------------------------------------------------------------------------\u001b[0m",
      "\u001b[1;31mTypeError\u001b[0m                                 Traceback (most recent call last)",
      "Input \u001b[1;32mIn [51]\u001b[0m, in \u001b[0;36m<cell line: 1>\u001b[1;34m()\u001b[0m\n\u001b[1;32m----> 1\u001b[0m \u001b[43ms\u001b[49m\u001b[38;5;241;43m+\u001b[39;49m\u001b[38;5;241;43m1\u001b[39;49m\n",
      "\u001b[1;31mTypeError\u001b[0m: can only concatenate str (not \"int\") to str"
     ]
    }
   ],
   "source": [
    "s+1"
   ]
  },
  {
   "cell_type": "code",
   "execution_count": 52,
   "id": "6e0a6e04",
   "metadata": {},
   "outputs": [
    {
     "data": {
      "text/plain": [
       "'Jimmy Is Master1'"
      ]
     },
     "execution_count": 52,
     "metadata": {},
     "output_type": "execute_result"
    }
   ],
   "source": [
    "s+\"1\""
   ]
  },
  {
   "cell_type": "code",
   "execution_count": 53,
   "id": "b0f76d2d",
   "metadata": {},
   "outputs": [
    {
     "data": {
      "text/plain": [
       "'Jimmy Is Master1'"
      ]
     },
     "execution_count": 53,
     "metadata": {},
     "output_type": "execute_result"
    }
   ],
   "source": [
    "s+'1'"
   ]
  },
  {
   "cell_type": "code",
   "execution_count": 54,
   "id": "b2757293",
   "metadata": {},
   "outputs": [
    {
     "data": {
      "text/plain": [
       "'Jimmy Is Master'"
      ]
     },
     "execution_count": 54,
     "metadata": {},
     "output_type": "execute_result"
    }
   ],
   "source": [
    "s"
   ]
  },
  {
   "cell_type": "code",
   "execution_count": 56,
   "id": "75f51c2e",
   "metadata": {},
   "outputs": [
    {
     "data": {
      "text/plain": [
       "'Jimmy Is Master1'"
      ]
     },
     "execution_count": 56,
     "metadata": {},
     "output_type": "execute_result"
    }
   ],
   "source": [
    "s+'''1'''"
   ]
  },
  {
   "cell_type": "code",
   "execution_count": 57,
   "id": "96959274",
   "metadata": {},
   "outputs": [
    {
     "data": {
      "text/plain": [
       "'Jimmy Is Master'"
      ]
     },
     "execution_count": 57,
     "metadata": {},
     "output_type": "execute_result"
    }
   ],
   "source": [
    "s"
   ]
  },
  {
   "cell_type": "code",
   "execution_count": 58,
   "id": "e55a1efe",
   "metadata": {},
   "outputs": [
    {
     "data": {
      "text/plain": [
       "'Jimmy Is Master1'"
      ]
     },
     "execution_count": 58,
     "metadata": {},
     "output_type": "execute_result"
    }
   ],
   "source": [
    "s+'1'"
   ]
  },
  {
   "cell_type": "code",
   "execution_count": 59,
   "id": "fa654211",
   "metadata": {},
   "outputs": [
    {
     "data": {
      "text/plain": [
       "'Jimmy Is Master1'"
      ]
     },
     "execution_count": 59,
     "metadata": {},
     "output_type": "execute_result"
    }
   ],
   "source": [
    "s+str(1)"
   ]
  },
  {
   "cell_type": "code",
   "execution_count": 60,
   "id": "b9f0b327",
   "metadata": {},
   "outputs": [
    {
     "data": {
      "text/plain": [
       "'Jimmy Is Master'"
      ]
     },
     "execution_count": 60,
     "metadata": {},
     "output_type": "execute_result"
    }
   ],
   "source": [
    "s"
   ]
  },
  {
   "cell_type": "code",
   "execution_count": 61,
   "id": "d992b17e",
   "metadata": {},
   "outputs": [
    {
     "ename": "NameError",
     "evalue": "name 'count' is not defined",
     "output_type": "error",
     "traceback": [
      "\u001b[1;31m---------------------------------------------------------------------------\u001b[0m",
      "\u001b[1;31mNameError\u001b[0m                                 Traceback (most recent call last)",
      "Input \u001b[1;32mIn [61]\u001b[0m, in \u001b[0;36m<cell line: 1>\u001b[1;34m()\u001b[0m\n\u001b[1;32m----> 1\u001b[0m \u001b[43mcount\u001b[49m(s)\n",
      "\u001b[1;31mNameError\u001b[0m: name 'count' is not defined"
     ]
    }
   ],
   "source": [
    "count(s)"
   ]
  },
  {
   "cell_type": "code",
   "execution_count": 62,
   "id": "50e811c1",
   "metadata": {},
   "outputs": [
    {
     "data": {
      "text/plain": [
       "15"
      ]
     },
     "execution_count": 62,
     "metadata": {},
     "output_type": "execute_result"
    }
   ],
   "source": [
    "len(s)"
   ]
  },
  {
   "cell_type": "code",
   "execution_count": 63,
   "id": "552c10d7",
   "metadata": {},
   "outputs": [
    {
     "data": {
      "text/plain": [
       "\"Jimmy needs Hardik's support for the project\""
      ]
     },
     "execution_count": 63,
     "metadata": {},
     "output_type": "execute_result"
    }
   ],
   "source": [
    "s1"
   ]
  },
  {
   "cell_type": "code",
   "execution_count": 64,
   "id": "d452dd65",
   "metadata": {},
   "outputs": [
    {
     "data": {
      "text/plain": [
       "'How Are You?'"
      ]
     },
     "execution_count": 64,
     "metadata": {},
     "output_type": "execute_result"
    }
   ],
   "source": [
    "s2"
   ]
  },
  {
   "cell_type": "code",
   "execution_count": 65,
   "id": "4362f7c1",
   "metadata": {},
   "outputs": [
    {
     "data": {
      "text/plain": [
       "'Jimmy Is Master'"
      ]
     },
     "execution_count": 65,
     "metadata": {},
     "output_type": "execute_result"
    }
   ],
   "source": [
    "s"
   ]
  },
  {
   "cell_type": "code",
   "execution_count": 66,
   "id": "a7586149",
   "metadata": {},
   "outputs": [
    {
     "data": {
      "text/plain": [
       "15"
      ]
     },
     "execution_count": 66,
     "metadata": {},
     "output_type": "execute_result"
    }
   ],
   "source": [
    "len(s)"
   ]
  },
  {
   "cell_type": "code",
   "execution_count": 67,
   "id": "d59656ef",
   "metadata": {},
   "outputs": [
    {
     "data": {
      "text/plain": [
       "44"
      ]
     },
     "execution_count": 67,
     "metadata": {},
     "output_type": "execute_result"
    }
   ],
   "source": [
    "len(s1)"
   ]
  },
  {
   "cell_type": "code",
   "execution_count": 68,
   "id": "ae7933ea",
   "metadata": {},
   "outputs": [
    {
     "data": {
      "text/plain": [
       "12"
      ]
     },
     "execution_count": 68,
     "metadata": {},
     "output_type": "execute_result"
    }
   ],
   "source": [
    "len(s2)"
   ]
  },
  {
   "cell_type": "code",
   "execution_count": 70,
   "id": "f76e334e",
   "metadata": {},
   "outputs": [],
   "source": [
    "s3=s*4"
   ]
  },
  {
   "cell_type": "code",
   "execution_count": 73,
   "id": "5e98e4ff",
   "metadata": {},
   "outputs": [
    {
     "data": {
      "text/plain": [
       "'Jimmy Is MasterJimmy Is MasterJimmy Is MasterJimmy Is Master'"
      ]
     },
     "execution_count": 73,
     "metadata": {},
     "output_type": "execute_result"
    }
   ],
   "source": [
    "s3"
   ]
  },
  {
   "cell_type": "code",
   "execution_count": 76,
   "id": "99daec51",
   "metadata": {},
   "outputs": [
    {
     "data": {
      "text/plain": [
       "4"
      ]
     },
     "execution_count": 76,
     "metadata": {},
     "output_type": "execute_result"
    }
   ],
   "source": [
    "s3.count('M')"
   ]
  },
  {
   "cell_type": "code",
   "execution_count": 77,
   "id": "c847c9a2",
   "metadata": {},
   "outputs": [
    {
     "data": {
      "text/plain": [
       "8"
      ]
     },
     "execution_count": 77,
     "metadata": {},
     "output_type": "execute_result"
    }
   ],
   "source": [
    "s3.count('m')"
   ]
  },
  {
   "cell_type": "code",
   "execution_count": 80,
   "id": "eefeb47e",
   "metadata": {},
   "outputs": [
    {
     "data": {
      "text/plain": [
       "['Ji',\n",
       " '',\n",
       " 'y Is MasterJi',\n",
       " '',\n",
       " 'y Is MasterJi',\n",
       " '',\n",
       " 'y Is MasterJi',\n",
       " '',\n",
       " 'y Is Master']"
      ]
     },
     "execution_count": 80,
     "metadata": {},
     "output_type": "execute_result"
    }
   ],
   "source": [
    "s3.split('m')"
   ]
  },
  {
   "cell_type": "markdown",
   "id": "38d2ceb1",
   "metadata": {},
   "source": [
    "## "
   ]
  },
  {
   "cell_type": "code",
   "execution_count": 81,
   "id": "dd18f8f8",
   "metadata": {},
   "outputs": [
    {
     "data": {
      "text/plain": [
       "'How Are You?'"
      ]
     },
     "execution_count": 81,
     "metadata": {},
     "output_type": "execute_result"
    }
   ],
   "source": [
    "s2"
   ]
  },
  {
   "cell_type": "code",
   "execution_count": 82,
   "id": "98717974",
   "metadata": {},
   "outputs": [
    {
     "data": {
      "text/plain": [
       "['H', 'w Are Y', 'u?']"
      ]
     },
     "execution_count": 82,
     "metadata": {},
     "output_type": "execute_result"
    }
   ],
   "source": [
    "s2.split('o')"
   ]
  },
  {
   "cell_type": "code",
   "execution_count": 83,
   "id": "611045b5",
   "metadata": {},
   "outputs": [
    {
     "data": {
      "text/plain": [
       "['', 'immy Is Master', 'immy Is Master', 'immy Is Master', 'immy Is Master']"
      ]
     },
     "execution_count": 83,
     "metadata": {},
     "output_type": "execute_result"
    }
   ],
   "source": [
    "s3.split('J')"
   ]
  },
  {
   "cell_type": "code",
   "execution_count": 84,
   "id": "159db575",
   "metadata": {},
   "outputs": [
    {
     "data": {
      "text/plain": [
       "['Ji',\n",
       " '',\n",
       " 'y Is MasterJi',\n",
       " '',\n",
       " 'y Is MasterJi',\n",
       " '',\n",
       " 'y Is MasterJi',\n",
       " '',\n",
       " 'y Is Master']"
      ]
     },
     "execution_count": 84,
     "metadata": {},
     "output_type": "execute_result"
    }
   ],
   "source": [
    "s3.split('m')"
   ]
  },
  {
   "cell_type": "code",
   "execution_count": 85,
   "id": "2a0500f4",
   "metadata": {},
   "outputs": [
    {
     "data": {
      "text/plain": [
       "'Jimmy Is MasterJimmy Is MasterJimmy Is MasterJimmy Is Master'"
      ]
     },
     "execution_count": 85,
     "metadata": {},
     "output_type": "execute_result"
    }
   ],
   "source": [
    "s3"
   ]
  },
  {
   "cell_type": "code",
   "execution_count": 93,
   "id": "2d1213cf",
   "metadata": {},
   "outputs": [],
   "source": [
    "s4=\"JimmyIsBesst\""
   ]
  },
  {
   "cell_type": "code",
   "execution_count": 94,
   "id": "5da3b298",
   "metadata": {},
   "outputs": [
    {
     "data": {
      "text/plain": [
       "'JimmyIsBesst'"
      ]
     },
     "execution_count": 94,
     "metadata": {},
     "output_type": "execute_result"
    }
   ],
   "source": [
    "s4"
   ]
  },
  {
   "cell_type": "code",
   "execution_count": 89,
   "id": "e3957abd",
   "metadata": {},
   "outputs": [
    {
     "data": {
      "text/plain": [
       "['', 'immyIsBest']"
      ]
     },
     "execution_count": 89,
     "metadata": {},
     "output_type": "execute_result"
    }
   ],
   "source": [
    "s4.split('J')"
   ]
  },
  {
   "cell_type": "code",
   "execution_count": 90,
   "id": "65993911",
   "metadata": {},
   "outputs": [
    {
     "data": {
      "text/plain": [
       "['J', 'mmyIsBest']"
      ]
     },
     "execution_count": 90,
     "metadata": {},
     "output_type": "execute_result"
    }
   ],
   "source": [
    "s4.split('i')"
   ]
  },
  {
   "cell_type": "code",
   "execution_count": 91,
   "id": "11854f1e",
   "metadata": {},
   "outputs": [
    {
     "data": {
      "text/plain": [
       "['Ji', '', 'yIsBest']"
      ]
     },
     "execution_count": 91,
     "metadata": {},
     "output_type": "execute_result"
    }
   ],
   "source": [
    "s4.split('m')"
   ]
  },
  {
   "cell_type": "code",
   "execution_count": 92,
   "id": "1a0bdd42",
   "metadata": {},
   "outputs": [
    {
     "data": {
      "text/plain": [
       "['Jimmy', 'sBest']"
      ]
     },
     "execution_count": 92,
     "metadata": {},
     "output_type": "execute_result"
    }
   ],
   "source": [
    "s4.split('I')"
   ]
  },
  {
   "cell_type": "code",
   "execution_count": 95,
   "id": "c153d436",
   "metadata": {},
   "outputs": [
    {
     "data": {
      "text/plain": [
       "['JimmyI', 'Be', '', 't']"
      ]
     },
     "execution_count": 95,
     "metadata": {},
     "output_type": "execute_result"
    }
   ],
   "source": [
    "s4.split('s')"
   ]
  },
  {
   "cell_type": "code",
   "execution_count": 96,
   "id": "02b6b18a",
   "metadata": {},
   "outputs": [
    {
     "data": {
      "text/plain": [
       "['JimmyIsB', 'sst']"
      ]
     },
     "execution_count": 96,
     "metadata": {},
     "output_type": "execute_result"
    }
   ],
   "source": [
    "s4.split('e')"
   ]
  },
  {
   "cell_type": "code",
   "execution_count": 97,
   "id": "32fdbdd3",
   "metadata": {},
   "outputs": [
    {
     "data": {
      "text/plain": [
       "['JimmyIsBess', '']"
      ]
     },
     "execution_count": 97,
     "metadata": {},
     "output_type": "execute_result"
    }
   ],
   "source": [
    "s4.split('t')"
   ]
  },
  {
   "cell_type": "code",
   "execution_count": 98,
   "id": "471dcca8",
   "metadata": {},
   "outputs": [
    {
     "data": {
      "text/plain": [
       "'JimmyIsBesst'"
      ]
     },
     "execution_count": 98,
     "metadata": {},
     "output_type": "execute_result"
    }
   ],
   "source": [
    "s4"
   ]
  },
  {
   "cell_type": "code",
   "execution_count": 99,
   "id": "c09e4947",
   "metadata": {},
   "outputs": [
    {
     "data": {
      "text/plain": [
       "'Jimmy Is MasterJimmy Is MasterJimmy Is MasterJimmy Is Master'"
      ]
     },
     "execution_count": 99,
     "metadata": {},
     "output_type": "execute_result"
    }
   ],
   "source": [
    "s3"
   ]
  },
  {
   "cell_type": "code",
   "execution_count": 100,
   "id": "bf415b46",
   "metadata": {},
   "outputs": [
    {
     "data": {
      "text/plain": [
       "'How Are You?'"
      ]
     },
     "execution_count": 100,
     "metadata": {},
     "output_type": "execute_result"
    }
   ],
   "source": [
    "s2"
   ]
  },
  {
   "cell_type": "code",
   "execution_count": 101,
   "id": "648b2f5c",
   "metadata": {},
   "outputs": [
    {
     "data": {
      "text/plain": [
       "'Jimmy Is Master'"
      ]
     },
     "execution_count": 101,
     "metadata": {},
     "output_type": "execute_result"
    }
   ],
   "source": [
    "s"
   ]
  },
  {
   "cell_type": "code",
   "execution_count": 102,
   "id": "baedeb3d",
   "metadata": {},
   "outputs": [
    {
     "data": {
      "text/plain": [
       "\"Jimmy needs Hardik's support for the project\""
      ]
     },
     "execution_count": 102,
     "metadata": {},
     "output_type": "execute_result"
    }
   ],
   "source": [
    "s1"
   ]
  },
  {
   "cell_type": "code",
   "execution_count": 108,
   "id": "b15f75de",
   "metadata": {},
   "outputs": [
    {
     "data": {
      "text/plain": [
       "7"
      ]
     },
     "execution_count": 108,
     "metadata": {},
     "output_type": "execute_result"
    }
   ],
   "source": [
    "len(s1.split(' '))"
   ]
  },
  {
   "cell_type": "code",
   "execution_count": 109,
   "id": "deed1936",
   "metadata": {},
   "outputs": [
    {
     "data": {
      "text/plain": [
       "['Jimmy', 'needs', \"Hardik's\", 'support', 'for', 'the', 'project']"
      ]
     },
     "execution_count": 109,
     "metadata": {},
     "output_type": "execute_result"
    }
   ],
   "source": [
    "s1.split(' ')"
   ]
  },
  {
   "cell_type": "code",
   "execution_count": 110,
   "id": "6e03a3c9",
   "metadata": {},
   "outputs": [
    {
     "data": {
      "text/plain": [
       "\"Jimmy needs Hardik's support for the project\""
      ]
     },
     "execution_count": 110,
     "metadata": {},
     "output_type": "execute_result"
    }
   ],
   "source": [
    "s1"
   ]
  },
  {
   "cell_type": "code",
   "execution_count": 118,
   "id": "c755505b",
   "metadata": {},
   "outputs": [],
   "source": [
    "s5=s1.upper()"
   ]
  },
  {
   "cell_type": "code",
   "execution_count": 114,
   "id": "84c01024",
   "metadata": {},
   "outputs": [
    {
     "data": {
      "text/plain": [
       "\"JIMMY NEEDS HARDIK'S SUPPORT FOR THE PROJECT\""
      ]
     },
     "execution_count": 114,
     "metadata": {},
     "output_type": "execute_result"
    }
   ],
   "source": [
    "s5"
   ]
  },
  {
   "cell_type": "code",
   "execution_count": 115,
   "id": "aa61c41c",
   "metadata": {},
   "outputs": [
    {
     "data": {
      "text/plain": [
       "\"Jimmy needs hardik's support for the project\""
      ]
     },
     "execution_count": 115,
     "metadata": {},
     "output_type": "execute_result"
    }
   ],
   "source": [
    "s5.capitalize()"
   ]
  },
  {
   "cell_type": "code",
   "execution_count": 116,
   "id": "015d6f4f",
   "metadata": {},
   "outputs": [
    {
     "data": {
      "text/plain": [
       "\"Jimmy needs hardik's support for the project\""
      ]
     },
     "execution_count": 116,
     "metadata": {},
     "output_type": "execute_result"
    }
   ],
   "source": [
    "s5.capitalize()"
   ]
  },
  {
   "cell_type": "code",
   "execution_count": 117,
   "id": "adee0d2d",
   "metadata": {},
   "outputs": [
    {
     "data": {
      "text/plain": [
       "\"jimmy needs hardik's support for the project\""
      ]
     },
     "execution_count": 117,
     "metadata": {},
     "output_type": "execute_result"
    }
   ],
   "source": [
    "s5.lower()"
   ]
  },
  {
   "cell_type": "code",
   "execution_count": 121,
   "id": "967838f2",
   "metadata": {},
   "outputs": [
    {
     "data": {
      "text/plain": [
       "\"jimmy needs hardik's support for the project\""
      ]
     },
     "execution_count": 121,
     "metadata": {},
     "output_type": "execute_result"
    }
   ],
   "source": [
    "s5.lower()"
   ]
  },
  {
   "cell_type": "code",
   "execution_count": 123,
   "id": "c9ddeed6",
   "metadata": {},
   "outputs": [
    {
     "data": {
      "text/plain": [
       "-1"
      ]
     },
     "execution_count": 123,
     "metadata": {},
     "output_type": "execute_result"
    }
   ],
   "source": [
    "s5.find('Needs')"
   ]
  },
  {
   "cell_type": "code",
   "execution_count": 124,
   "id": "da9a2141",
   "metadata": {},
   "outputs": [
    {
     "data": {
      "text/plain": [
       "-1"
      ]
     },
     "execution_count": 124,
     "metadata": {},
     "output_type": "execute_result"
    }
   ],
   "source": [
    "s5.find('n')"
   ]
  },
  {
   "cell_type": "code",
   "execution_count": 125,
   "id": "523d8abc",
   "metadata": {},
   "outputs": [
    {
     "data": {
      "text/plain": [
       "\"JIMMY NEEDS HARDIK'S SUPPORT FOR THE PROJECT\""
      ]
     },
     "execution_count": 125,
     "metadata": {},
     "output_type": "execute_result"
    }
   ],
   "source": [
    "s5"
   ]
  },
  {
   "cell_type": "code",
   "execution_count": 126,
   "id": "196a138a",
   "metadata": {},
   "outputs": [
    {
     "data": {
      "text/plain": [
       "\"Jimmy Needs Hardik'S Support For The Project\""
      ]
     },
     "execution_count": 126,
     "metadata": {},
     "output_type": "execute_result"
    }
   ],
   "source": [
    "s5.title()"
   ]
  },
  {
   "cell_type": "code",
   "execution_count": 127,
   "id": "315251a3",
   "metadata": {},
   "outputs": [
    {
     "ename": "TypeError",
     "evalue": "replace expected at least 2 arguments, got 0",
     "output_type": "error",
     "traceback": [
      "\u001b[1;31m---------------------------------------------------------------------------\u001b[0m",
      "\u001b[1;31mTypeError\u001b[0m                                 Traceback (most recent call last)",
      "Input \u001b[1;32mIn [127]\u001b[0m, in \u001b[0;36m<cell line: 1>\u001b[1;34m()\u001b[0m\n\u001b[1;32m----> 1\u001b[0m \u001b[43ms5\u001b[49m\u001b[38;5;241;43m.\u001b[39;49m\u001b[43mreplace\u001b[49m\u001b[43m(\u001b[49m\u001b[43m)\u001b[49m\n",
      "\u001b[1;31mTypeError\u001b[0m: replace expected at least 2 arguments, got 0"
     ]
    }
   ],
   "source": [
    "s5.replace()"
   ]
  },
  {
   "cell_type": "code",
   "execution_count": 131,
   "id": "97f26909",
   "metadata": {},
   "outputs": [
    {
     "data": {
      "text/plain": [
       "\"JIMMY WANTS HARDIK'S SUPPORT FOR THE PROJECT\""
      ]
     },
     "execution_count": 131,
     "metadata": {},
     "output_type": "execute_result"
    }
   ],
   "source": [
    "s5.replace('NEEDS','WANTS')"
   ]
  },
  {
   "cell_type": "code",
   "execution_count": 132,
   "id": "b9bfa7e0",
   "metadata": {},
   "outputs": [
    {
     "data": {
      "text/plain": [
       "\"JIMMY NEEDS HARDIK'S SUPPORT FOR THE PROJECT\""
      ]
     },
     "execution_count": 132,
     "metadata": {},
     "output_type": "execute_result"
    }
   ],
   "source": [
    "s5.format()"
   ]
  },
  {
   "cell_type": "code",
   "execution_count": 133,
   "id": "ba71c88c",
   "metadata": {},
   "outputs": [],
   "source": [
    "s5=\"jimmy needs hardik's support for the project\""
   ]
  },
  {
   "cell_type": "code",
   "execution_count": 134,
   "id": "0ae89808",
   "metadata": {},
   "outputs": [
    {
     "data": {
      "text/plain": [
       "\"jimmy needs hardik's support for the project\""
      ]
     },
     "execution_count": 134,
     "metadata": {},
     "output_type": "execute_result"
    }
   ],
   "source": [
    "s5"
   ]
  },
  {
   "cell_type": "code",
   "execution_count": 135,
   "id": "66afa23d",
   "metadata": {},
   "outputs": [
    {
     "data": {
      "text/plain": [
       "\"Jimmy Needs Hardik'S Support For The Project\""
      ]
     },
     "execution_count": 135,
     "metadata": {},
     "output_type": "execute_result"
    }
   ],
   "source": [
    "s5.title()"
   ]
  },
  {
   "cell_type": "code",
   "execution_count": 137,
   "id": "e79f3e5b",
   "metadata": {},
   "outputs": [],
   "source": [
    "s5=s5.upper()"
   ]
  },
  {
   "cell_type": "code",
   "execution_count": 140,
   "id": "f4d4543c",
   "metadata": {},
   "outputs": [],
   "source": [
    "s5=s5.lower()"
   ]
  },
  {
   "cell_type": "code",
   "execution_count": 141,
   "id": "2638d69d",
   "metadata": {},
   "outputs": [
    {
     "data": {
      "text/plain": [
       "\"jimmy needs hardik's support for the project\""
      ]
     },
     "execution_count": 141,
     "metadata": {},
     "output_type": "execute_result"
    }
   ],
   "source": [
    "s5"
   ]
  },
  {
   "cell_type": "code",
   "execution_count": 142,
   "id": "6cceac5b",
   "metadata": {},
   "outputs": [
    {
     "data": {
      "text/plain": [
       "\"Jimmy needs hardik's support for the project\""
      ]
     },
     "execution_count": 142,
     "metadata": {},
     "output_type": "execute_result"
    }
   ],
   "source": [
    "s5.capitalize()"
   ]
  },
  {
   "cell_type": "code",
   "execution_count": 143,
   "id": "25d2d494",
   "metadata": {},
   "outputs": [
    {
     "data": {
      "text/plain": [
       "\"jimmy needs hardik's support for the project\""
      ]
     },
     "execution_count": 143,
     "metadata": {},
     "output_type": "execute_result"
    }
   ],
   "source": [
    "s5"
   ]
  },
  {
   "cell_type": "code",
   "execution_count": 145,
   "id": "0ceafc06",
   "metadata": {},
   "outputs": [
    {
     "data": {
      "text/plain": [
       "\"Jimmy needs hardik's support for the project\""
      ]
     },
     "execution_count": 145,
     "metadata": {},
     "output_type": "execute_result"
    }
   ],
   "source": [
    "s5.capitalize()"
   ]
  },
  {
   "cell_type": "code",
   "execution_count": 146,
   "id": "be3df8e3",
   "metadata": {},
   "outputs": [
    {
     "data": {
      "text/plain": [
       "\"jimmy needs hardik's support for the project\""
      ]
     },
     "execution_count": 146,
     "metadata": {},
     "output_type": "execute_result"
    }
   ],
   "source": [
    "s5"
   ]
  },
  {
   "cell_type": "code",
   "execution_count": 148,
   "id": "3caf38b1",
   "metadata": {},
   "outputs": [
    {
     "data": {
      "text/plain": [
       "\"jIMMY NEEDS HARDIK'S SUPPORT FOR THE PROJECT\""
      ]
     },
     "execution_count": 148,
     "metadata": {},
     "output_type": "execute_result"
    }
   ],
   "source": [
    "s5.capitalize().swapcase()"
   ]
  },
  {
   "cell_type": "code",
   "execution_count": 151,
   "id": "317f32bc",
   "metadata": {},
   "outputs": [
    {
     "data": {
      "text/plain": [
       "\"tcejorp eht rof troppus s'kidrah sdeen ymmij\""
      ]
     },
     "execution_count": 151,
     "metadata": {},
     "output_type": "execute_result"
    }
   ],
   "source": [
    "''.join(reversed(s5))"
   ]
  },
  {
   "cell_type": "code",
   "execution_count": 150,
   "id": "0584f94f",
   "metadata": {},
   "outputs": [
    {
     "data": {
      "text/plain": [
       "\"jimmy needs hardik's support for the project\""
      ]
     },
     "execution_count": 150,
     "metadata": {},
     "output_type": "execute_result"
    }
   ],
   "source": [
    "s5"
   ]
  },
  {
   "cell_type": "code",
   "execution_count": 152,
   "id": "9f81db2d",
   "metadata": {},
   "outputs": [
    {
     "data": {
      "text/plain": [
       "\"tcejorp eht rof troppus s'kidrah sdeen ymmij\""
      ]
     },
     "execution_count": 152,
     "metadata": {},
     "output_type": "execute_result"
    }
   ],
   "source": [
    "s5[::-1]"
   ]
  },
  {
   "cell_type": "code",
   "execution_count": 153,
   "id": "90182dc9",
   "metadata": {},
   "outputs": [
    {
     "data": {
      "text/plain": [
       "\"jimmy needs hardik's support for the project\""
      ]
     },
     "execution_count": 153,
     "metadata": {},
     "output_type": "execute_result"
    }
   ],
   "source": [
    "s5"
   ]
  },
  {
   "cell_type": "code",
   "execution_count": 155,
   "id": "dd23bb84",
   "metadata": {},
   "outputs": [
    {
     "data": {
      "text/plain": [
       "\"tcejorp eht rof troppus s'kidrah sdeen ymmij\""
      ]
     },
     "execution_count": 155,
     "metadata": {},
     "output_type": "execute_result"
    }
   ],
   "source": [
    "s5[::-1]"
   ]
  },
  {
   "cell_type": "code",
   "execution_count": 168,
   "id": "c9d85165",
   "metadata": {},
   "outputs": [],
   "source": [
    "s5=\"     Jim    my     \""
   ]
  },
  {
   "cell_type": "code",
   "execution_count": 169,
   "id": "609270d2",
   "metadata": {},
   "outputs": [
    {
     "data": {
      "text/plain": [
       "'     Jim    my     '"
      ]
     },
     "execution_count": 169,
     "metadata": {},
     "output_type": "execute_result"
    }
   ],
   "source": [
    "s5"
   ]
  },
  {
   "cell_type": "code",
   "execution_count": 161,
   "id": "fbb76012",
   "metadata": {},
   "outputs": [
    {
     "data": {
      "text/plain": [
       "'Jim    my'"
      ]
     },
     "execution_count": 161,
     "metadata": {},
     "output_type": "execute_result"
    }
   ],
   "source": [
    "s5.strip()"
   ]
  },
  {
   "cell_type": "code",
   "execution_count": 164,
   "id": "545b4b0d",
   "metadata": {},
   "outputs": [
    {
     "data": {
      "text/plain": [
       "'     Jim    my     '"
      ]
     },
     "execution_count": 164,
     "metadata": {},
     "output_type": "execute_result"
    }
   ],
   "source": [
    "s5"
   ]
  },
  {
   "cell_type": "code",
   "execution_count": 167,
   "id": "f1d6e8f7",
   "metadata": {},
   "outputs": [
    {
     "data": {
      "text/plain": [
       "'Jim    my'"
      ]
     },
     "execution_count": 167,
     "metadata": {},
     "output_type": "execute_result"
    }
   ],
   "source": [
    "s5.lstrip().rstrip()"
   ]
  },
  {
   "cell_type": "code",
   "execution_count": 166,
   "id": "14436efe",
   "metadata": {},
   "outputs": [
    {
     "data": {
      "text/plain": [
       "'     Jim    my'"
      ]
     },
     "execution_count": 166,
     "metadata": {},
     "output_type": "execute_result"
    }
   ],
   "source": [
    "s5.rstrip()"
   ]
  },
  {
   "cell_type": "code",
   "execution_count": 170,
   "id": "8b700988",
   "metadata": {},
   "outputs": [
    {
     "data": {
      "text/plain": [
       "'     Jim    my     '"
      ]
     },
     "execution_count": 170,
     "metadata": {},
     "output_type": "execute_result"
    }
   ],
   "source": [
    "s5"
   ]
  },
  {
   "cell_type": "code",
   "execution_count": 174,
   "id": "9f290564",
   "metadata": {},
   "outputs": [],
   "source": [
    "s5=\"Jimmy\""
   ]
  },
  {
   "cell_type": "code",
   "execution_count": 175,
   "id": "3134d527",
   "metadata": {},
   "outputs": [
    {
     "data": {
      "text/plain": [
       "'Jimmy'"
      ]
     },
     "execution_count": 175,
     "metadata": {},
     "output_type": "execute_result"
    }
   ],
   "source": [
    "s5"
   ]
  },
  {
   "cell_type": "code",
   "execution_count": 179,
   "id": "a5077207",
   "metadata": {},
   "outputs": [
    {
     "data": {
      "text/plain": [
       "'       Jimmy        '"
      ]
     },
     "execution_count": 179,
     "metadata": {},
     "output_type": "execute_result"
    }
   ],
   "source": [
    "s5.center(20,' ')"
   ]
  },
  {
   "cell_type": "code",
   "execution_count": 181,
   "id": "42f66881",
   "metadata": {},
   "outputs": [
    {
     "data": {
      "text/plain": [
       "True"
      ]
     },
     "execution_count": 181,
     "metadata": {},
     "output_type": "execute_result"
    }
   ],
   "source": [
    "s5.isalpha()"
   ]
  },
  {
   "cell_type": "code",
   "execution_count": 182,
   "id": "54fbaa58",
   "metadata": {},
   "outputs": [
    {
     "data": {
      "text/plain": [
       "False"
      ]
     },
     "execution_count": 182,
     "metadata": {},
     "output_type": "execute_result"
    }
   ],
   "source": [
    "s5.isupper()"
   ]
  },
  {
   "cell_type": "code",
   "execution_count": 184,
   "id": "f3bc3396",
   "metadata": {},
   "outputs": [
    {
     "data": {
      "text/plain": [
       "True"
      ]
     },
     "execution_count": 184,
     "metadata": {},
     "output_type": "execute_result"
    }
   ],
   "source": [
    "s5.upper().isupper()"
   ]
  },
  {
   "cell_type": "code",
   "execution_count": 186,
   "id": "c1ef622d",
   "metadata": {},
   "outputs": [
    {
     "data": {
      "text/plain": [
       "'jimmy'"
      ]
     },
     "execution_count": 186,
     "metadata": {},
     "output_type": "execute_result"
    }
   ],
   "source": [
    "s5.lower()"
   ]
  },
  {
   "cell_type": "code",
   "execution_count": 187,
   "id": "2620b233",
   "metadata": {},
   "outputs": [
    {
     "data": {
      "text/plain": [
       "False"
      ]
     },
     "execution_count": 187,
     "metadata": {},
     "output_type": "execute_result"
    }
   ],
   "source": [
    "s5.islower()"
   ]
  },
  {
   "cell_type": "code",
   "execution_count": 188,
   "id": "c19f8756",
   "metadata": {},
   "outputs": [
    {
     "data": {
      "text/plain": [
       "False"
      ]
     },
     "execution_count": 188,
     "metadata": {},
     "output_type": "execute_result"
    }
   ],
   "source": [
    "s5.isspace()"
   ]
  },
  {
   "cell_type": "code",
   "execution_count": 189,
   "id": "7bf540e6",
   "metadata": {},
   "outputs": [
    {
     "data": {
      "text/plain": [
       "False"
      ]
     },
     "execution_count": 189,
     "metadata": {},
     "output_type": "execute_result"
    }
   ],
   "source": [
    "s4.isspace()"
   ]
  },
  {
   "cell_type": "code",
   "execution_count": 190,
   "id": "90369e85",
   "metadata": {},
   "outputs": [
    {
     "data": {
      "text/plain": [
       "'JimmyIsBesst'"
      ]
     },
     "execution_count": 190,
     "metadata": {},
     "output_type": "execute_result"
    }
   ],
   "source": [
    "s4"
   ]
  },
  {
   "cell_type": "code",
   "execution_count": 191,
   "id": "6a628705",
   "metadata": {},
   "outputs": [
    {
     "data": {
      "text/plain": [
       "\"Jimmy needs Hardik's support for the project\""
      ]
     },
     "execution_count": 191,
     "metadata": {},
     "output_type": "execute_result"
    }
   ],
   "source": [
    "s1"
   ]
  },
  {
   "cell_type": "code",
   "execution_count": 192,
   "id": "ddf0f325",
   "metadata": {},
   "outputs": [
    {
     "data": {
      "text/plain": [
       "False"
      ]
     },
     "execution_count": 192,
     "metadata": {},
     "output_type": "execute_result"
    }
   ],
   "source": [
    "s1.isspace()"
   ]
  },
  {
   "cell_type": "code",
   "execution_count": 193,
   "id": "3bb56871",
   "metadata": {},
   "outputs": [
    {
     "data": {
      "text/plain": [
       "False"
      ]
     },
     "execution_count": 193,
     "metadata": {},
     "output_type": "execute_result"
    }
   ],
   "source": [
    "s.isdigit()"
   ]
  },
  {
   "cell_type": "code",
   "execution_count": 194,
   "id": "ddac98ad",
   "metadata": {},
   "outputs": [],
   "source": [
    "s6=\"Jimmy1989\""
   ]
  },
  {
   "cell_type": "code",
   "execution_count": 195,
   "id": "dc2b4bd9",
   "metadata": {},
   "outputs": [
    {
     "data": {
      "text/plain": [
       "True"
      ]
     },
     "execution_count": 195,
     "metadata": {},
     "output_type": "execute_result"
    }
   ],
   "source": [
    "s6.isalnum()"
   ]
  },
  {
   "cell_type": "code",
   "execution_count": 196,
   "id": "cc665f49",
   "metadata": {},
   "outputs": [
    {
     "data": {
      "text/plain": [
       "False"
      ]
     },
     "execution_count": 196,
     "metadata": {},
     "output_type": "execute_result"
    }
   ],
   "source": [
    "s6.isalpha()"
   ]
  },
  {
   "cell_type": "code",
   "execution_count": 197,
   "id": "122fb6cc",
   "metadata": {},
   "outputs": [
    {
     "data": {
      "text/plain": [
       "False"
      ]
     },
     "execution_count": 197,
     "metadata": {},
     "output_type": "execute_result"
    }
   ],
   "source": [
    "s6.isdigit()"
   ]
  },
  {
   "cell_type": "code",
   "execution_count": 199,
   "id": "78a7b98d",
   "metadata": {},
   "outputs": [
    {
     "data": {
      "text/plain": [
       "True"
      ]
     },
     "execution_count": 199,
     "metadata": {},
     "output_type": "execute_result"
    }
   ],
   "source": [
    "s6.isalnum()"
   ]
  },
  {
   "cell_type": "code",
   "execution_count": 200,
   "id": "4544a525",
   "metadata": {},
   "outputs": [
    {
     "data": {
      "text/plain": [
       "'Jimmy1989'"
      ]
     },
     "execution_count": 200,
     "metadata": {},
     "output_type": "execute_result"
    }
   ],
   "source": [
    "s6"
   ]
  },
  {
   "cell_type": "code",
   "execution_count": 202,
   "id": "51eb722a",
   "metadata": {},
   "outputs": [
    {
     "data": {
      "text/plain": [
       "True"
      ]
     },
     "execution_count": 202,
     "metadata": {},
     "output_type": "execute_result"
    }
   ],
   "source": [
    "s6.startswith('J')"
   ]
  },
  {
   "cell_type": "code",
   "execution_count": 204,
   "id": "60686f9b",
   "metadata": {},
   "outputs": [
    {
     "data": {
      "text/plain": [
       "False"
      ]
     },
     "execution_count": 204,
     "metadata": {},
     "output_type": "execute_result"
    }
   ],
   "source": [
    "s6.endswith('8')"
   ]
  },
  {
   "cell_type": "code",
   "execution_count": 205,
   "id": "21ac2cc1",
   "metadata": {},
   "outputs": [
    {
     "data": {
      "text/plain": [
       "'JimmyJimmy1989'"
      ]
     },
     "execution_count": 205,
     "metadata": {},
     "output_type": "execute_result"
    }
   ],
   "source": [
    "s5+s6"
   ]
  },
  {
   "cell_type": "code",
   "execution_count": 209,
   "id": "15905edb",
   "metadata": {},
   "outputs": [
    {
     "data": {
      "text/plain": [
       "\"Jimmy needs Hardik's support for the projectJimmy1989\""
      ]
     },
     "execution_count": 209,
     "metadata": {},
     "output_type": "execute_result"
    }
   ],
   "source": [
    "s7=s1+s6\n",
    "s7"
   ]
  },
  {
   "cell_type": "code",
   "execution_count": 212,
   "id": "258b9639",
   "metadata": {},
   "outputs": [
    {
     "data": {
      "text/plain": [
       "False"
      ]
     },
     "execution_count": 212,
     "metadata": {},
     "output_type": "execute_result"
    }
   ],
   "source": [
    "s7.isalnum()"
   ]
  },
  {
   "cell_type": "code",
   "execution_count": 210,
   "id": "f1446dc8",
   "metadata": {},
   "outputs": [
    {
     "data": {
      "text/plain": [
       "True"
      ]
     },
     "execution_count": 210,
     "metadata": {},
     "output_type": "execute_result"
    }
   ],
   "source": [
    "s7.isascii()"
   ]
  },
  {
   "cell_type": "code",
   "execution_count": 214,
   "id": "09e2a301",
   "metadata": {},
   "outputs": [],
   "source": [
    "s7=s7.replace(\"needs\",\"Wants\")"
   ]
  },
  {
   "cell_type": "code",
   "execution_count": 217,
   "id": "a36a8183",
   "metadata": {},
   "outputs": [],
   "source": [
    "s7=s7.title()"
   ]
  },
  {
   "cell_type": "code",
   "execution_count": 218,
   "id": "2968b348",
   "metadata": {},
   "outputs": [
    {
     "data": {
      "text/plain": [
       "\"Jimmy Wants Hardik'S Support For The Projectjimmy1989\""
      ]
     },
     "execution_count": 218,
     "metadata": {},
     "output_type": "execute_result"
    }
   ],
   "source": [
    "s7"
   ]
  },
  {
   "cell_type": "code",
   "execution_count": 219,
   "id": "86a157cc",
   "metadata": {},
   "outputs": [
    {
     "data": {
      "text/plain": [
       "\"Jimmy Wants Hardik'S Support For The Projectjimmy1989Jimmy Wants Hardik'S Support For The Projectjimmy1989\""
      ]
     },
     "execution_count": 219,
     "metadata": {},
     "output_type": "execute_result"
    }
   ],
   "source": [
    "s7+str(s7)"
   ]
  },
  {
   "cell_type": "code",
   "execution_count": 220,
   "id": "8a683bab",
   "metadata": {},
   "outputs": [
    {
     "data": {
      "text/plain": [
       "\"Jimmy Wants Hardik'S Support For The Projectjimmy1989\""
      ]
     },
     "execution_count": 220,
     "metadata": {},
     "output_type": "execute_result"
    }
   ],
   "source": [
    "s7"
   ]
  },
  {
   "cell_type": "code",
   "execution_count": 222,
   "id": "1c0999be",
   "metadata": {},
   "outputs": [
    {
     "data": {
      "text/plain": [
       "\"9891ymmijtcejorP ehT roF troppuS S'kidraH stnaW ymmiJ\""
      ]
     },
     "execution_count": 222,
     "metadata": {},
     "output_type": "execute_result"
    }
   ],
   "source": [
    "''.join(reversed(s7))"
   ]
  },
  {
   "cell_type": "code",
   "execution_count": 223,
   "id": "9de3757e",
   "metadata": {},
   "outputs": [
    {
     "data": {
      "text/plain": [
       "\"Jimmy Wants Hardik'S Support For The Projectjimmy1989\""
      ]
     },
     "execution_count": 223,
     "metadata": {},
     "output_type": "execute_result"
    }
   ],
   "source": [
    "s7"
   ]
  },
  {
   "cell_type": "code",
   "execution_count": 224,
   "id": "34e0f31d",
   "metadata": {},
   "outputs": [],
   "source": [
    "s7=\"This is My First Python programming class and I am learNING python string and its function\""
   ]
  },
  {
   "cell_type": "code",
   "execution_count": 225,
   "id": "c77143f9",
   "metadata": {},
   "outputs": [
    {
     "data": {
      "text/plain": [
       "'This is My First Python programming class and I am learNING python string and its function'"
      ]
     },
     "execution_count": 225,
     "metadata": {},
     "output_type": "execute_result"
    }
   ],
   "source": [
    "s7"
   ]
  },
  {
   "cell_type": "code",
   "execution_count": 226,
   "id": "522aa94b",
   "metadata": {},
   "outputs": [
    {
     "data": {
      "text/plain": [
       "'h   r tnrrmglsnImeNGyosi dtfco'"
      ]
     },
     "execution_count": 226,
     "metadata": {},
     "output_type": "execute_result"
    }
   ],
   "source": [
    "s7[1:300:3]"
   ]
  },
  {
   "cell_type": "code",
   "execution_count": 227,
   "id": "f5753102",
   "metadata": {},
   "outputs": [
    {
     "data": {
      "text/plain": [
       "'noitcnuf sti dna gnirts nohtyp GNINrael ma I dna ssalc gnimmargorp nohtyP tsriF yM si sihT'"
      ]
     },
     "execution_count": 227,
     "metadata": {},
     "output_type": "execute_result"
    }
   ],
   "source": [
    "s7[::-1]"
   ]
  },
  {
   "cell_type": "code",
   "execution_count": 230,
   "id": "d83700f5",
   "metadata": {},
   "outputs": [
    {
     "data": {
      "text/plain": [
       "['THIS',\n",
       " 'IS',\n",
       " 'MY',\n",
       " 'FIRST',\n",
       " 'PYTHON',\n",
       " 'PROGRAMMING',\n",
       " 'CLASS',\n",
       " 'AND',\n",
       " 'I',\n",
       " 'AM',\n",
       " 'LEARNING',\n",
       " 'PYTHON',\n",
       " 'STRING',\n",
       " 'AND',\n",
       " 'ITS',\n",
       " 'FUNCTION']"
      ]
     },
     "execution_count": 230,
     "metadata": {},
     "output_type": "execute_result"
    }
   ],
   "source": [
    "s7.upper().split()"
   ]
  },
  {
   "cell_type": "code",
   "execution_count": 231,
   "id": "3aff62f3",
   "metadata": {},
   "outputs": [
    {
     "data": {
      "text/plain": [
       "'this is my first python programming class and i am learning python string and its function'"
      ]
     },
     "execution_count": 231,
     "metadata": {},
     "output_type": "execute_result"
    }
   ],
   "source": [
    "s7.lower()"
   ]
  },
  {
   "cell_type": "code",
   "execution_count": 235,
   "id": "9f146605",
   "metadata": {},
   "outputs": [
    {
     "data": {
      "text/plain": [
       "'This is my first python programming class and i am learning python string and its function'"
      ]
     },
     "execution_count": 235,
     "metadata": {},
     "output_type": "execute_result"
    }
   ],
   "source": [
    "s7.capitalize()"
   ]
  },
  {
   "cell_type": "code",
   "execution_count": 236,
   "id": "fc66971b",
   "metadata": {},
   "outputs": [],
   "source": [
    "s8=\"fds\\tfkpdsj\\tfpidsj\""
   ]
  },
  {
   "cell_type": "code",
   "execution_count": 237,
   "id": "7d7feb9e",
   "metadata": {},
   "outputs": [
    {
     "data": {
      "text/plain": [
       "'fds     fkpdsj  fpidsj'"
      ]
     },
     "execution_count": 237,
     "metadata": {},
     "output_type": "execute_result"
    }
   ],
   "source": [
    "s8.expandtabs()"
   ]
  },
  {
   "cell_type": "code",
   "execution_count": 238,
   "id": "89c54705",
   "metadata": {},
   "outputs": [
    {
     "data": {
      "text/plain": [
       "'This is My First Python programming class and I am learNING python string and its function'"
      ]
     },
     "execution_count": 238,
     "metadata": {},
     "output_type": "execute_result"
    }
   ],
   "source": [
    "s7"
   ]
  },
  {
   "cell_type": "code",
   "execution_count": 239,
   "id": "99aed853",
   "metadata": {},
   "outputs": [
    {
     "data": {
      "text/plain": [
       "'This is My First Python programming class and I am learNING python string and its function'"
      ]
     },
     "execution_count": 239,
     "metadata": {},
     "output_type": "execute_result"
    }
   ],
   "source": [
    "s7.strip()"
   ]
  },
  {
   "cell_type": "code",
   "execution_count": 240,
   "id": "86d46e23",
   "metadata": {},
   "outputs": [
    {
     "data": {
      "text/plain": [
       "'This is My First Python programming class and I am learNING python string and its function'"
      ]
     },
     "execution_count": 240,
     "metadata": {},
     "output_type": "execute_result"
    }
   ],
   "source": [
    "s7"
   ]
  },
  {
   "cell_type": "code",
   "execution_count": 242,
   "id": "3a0826d7",
   "metadata": {},
   "outputs": [
    {
     "data": {
      "text/plain": [
       "'ThIs Is My FIrst Python programmIng class and I am learNING python strIng and Its functIon'"
      ]
     },
     "execution_count": 242,
     "metadata": {},
     "output_type": "execute_result"
    }
   ],
   "source": [
    "s7.replace(\"i\",\"I\")"
   ]
  },
  {
   "cell_type": "code",
   "execution_count": null,
   "id": "b6716a4f",
   "metadata": {},
   "outputs": [],
   "source": []
  }
 ],
 "metadata": {
  "kernelspec": {
   "display_name": "Python 3 (ipykernel)",
   "language": "python",
   "name": "python3"
  },
  "language_info": {
   "codemirror_mode": {
    "name": "ipython",
    "version": 3
   },
   "file_extension": ".py",
   "mimetype": "text/x-python",
   "name": "python",
   "nbconvert_exporter": "python",
   "pygments_lexer": "ipython3",
   "version": "3.9.12"
  }
 },
 "nbformat": 4,
 "nbformat_minor": 5
}
