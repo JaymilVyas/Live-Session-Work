{
 "cells": [
  {
   "cell_type": "code",
   "execution_count": 1,
   "id": "3f42c716",
   "metadata": {},
   "outputs": [],
   "source": [
    "l=[1,3,4,5,5]"
   ]
  },
  {
   "cell_type": "code",
   "execution_count": 2,
   "id": "d20ec2fb",
   "metadata": {},
   "outputs": [
    {
     "name": "stdout",
     "output_type": "stream",
     "text": [
      "1\n",
      "3\n",
      "4\n",
      "5\n",
      "5\n"
     ]
    }
   ],
   "source": [
    "for i in l:\n",
    "    print(i)"
   ]
  },
  {
   "cell_type": "code",
   "execution_count": 3,
   "id": "74626ab5",
   "metadata": {},
   "outputs": [
    {
     "ename": "TypeError",
     "evalue": "'list' object is not an iterator",
     "output_type": "error",
     "traceback": [
      "\u001b[1;31m---------------------------------------------------------------------------\u001b[0m",
      "\u001b[1;31mTypeError\u001b[0m                                 Traceback (most recent call last)",
      "Input \u001b[1;32mIn [3]\u001b[0m, in \u001b[0;36m<cell line: 1>\u001b[1;34m()\u001b[0m\n\u001b[1;32m----> 1\u001b[0m \u001b[38;5;28;43mnext\u001b[39;49m\u001b[43m(\u001b[49m\u001b[43ml\u001b[49m\u001b[43m)\u001b[49m\n",
      "\u001b[1;31mTypeError\u001b[0m: 'list' object is not an iterator"
     ]
    }
   ],
   "source": [
    "next(l)"
   ]
  },
  {
   "cell_type": "code",
   "execution_count": 4,
   "id": "73a32397",
   "metadata": {},
   "outputs": [],
   "source": [
    "b=iter(l)"
   ]
  },
  {
   "cell_type": "code",
   "execution_count": 5,
   "id": "73a8c56c",
   "metadata": {},
   "outputs": [
    {
     "data": {
      "text/plain": [
       "1"
      ]
     },
     "execution_count": 5,
     "metadata": {},
     "output_type": "execute_result"
    }
   ],
   "source": [
    "next(b)"
   ]
  },
  {
   "cell_type": "code",
   "execution_count": 6,
   "id": "af35bbe1",
   "metadata": {},
   "outputs": [
    {
     "data": {
      "text/plain": [
       "3"
      ]
     },
     "execution_count": 6,
     "metadata": {},
     "output_type": "execute_result"
    }
   ],
   "source": [
    "next(b)"
   ]
  },
  {
   "cell_type": "code",
   "execution_count": 7,
   "id": "b9b9674f",
   "metadata": {},
   "outputs": [
    {
     "data": {
      "text/plain": [
       "4"
      ]
     },
     "execution_count": 7,
     "metadata": {},
     "output_type": "execute_result"
    }
   ],
   "source": [
    "next(b)"
   ]
  },
  {
   "cell_type": "code",
   "execution_count": 8,
   "id": "9abf2350",
   "metadata": {},
   "outputs": [
    {
     "data": {
      "text/plain": [
       "5"
      ]
     },
     "execution_count": 8,
     "metadata": {},
     "output_type": "execute_result"
    }
   ],
   "source": [
    "next(b)"
   ]
  },
  {
   "cell_type": "code",
   "execution_count": 9,
   "id": "ce306ec3",
   "metadata": {},
   "outputs": [
    {
     "data": {
      "text/plain": [
       "5"
      ]
     },
     "execution_count": 9,
     "metadata": {},
     "output_type": "execute_result"
    }
   ],
   "source": [
    "next(b)"
   ]
  },
  {
   "cell_type": "code",
   "execution_count": 10,
   "id": "65c5fd77",
   "metadata": {},
   "outputs": [
    {
     "ename": "StopIteration",
     "evalue": "",
     "output_type": "error",
     "traceback": [
      "\u001b[1;31m---------------------------------------------------------------------------\u001b[0m",
      "\u001b[1;31mStopIteration\u001b[0m                             Traceback (most recent call last)",
      "Input \u001b[1;32mIn [10]\u001b[0m, in \u001b[0;36m<cell line: 1>\u001b[1;34m()\u001b[0m\n\u001b[1;32m----> 1\u001b[0m \u001b[38;5;28;43mnext\u001b[39;49m\u001b[43m(\u001b[49m\u001b[43mb\u001b[49m\u001b[43m)\u001b[49m\n",
      "\u001b[1;31mStopIteration\u001b[0m: "
     ]
    }
   ],
   "source": [
    "next(b)"
   ]
  },
  {
   "cell_type": "code",
   "execution_count": 11,
   "id": "1b657d9b",
   "metadata": {},
   "outputs": [
    {
     "ename": "TypeError",
     "evalue": "'int' object is not iterable",
     "output_type": "error",
     "traceback": [
      "\u001b[1;31m---------------------------------------------------------------------------\u001b[0m",
      "\u001b[1;31mTypeError\u001b[0m                                 Traceback (most recent call last)",
      "Input \u001b[1;32mIn [11]\u001b[0m, in \u001b[0;36m<cell line: 1>\u001b[1;34m()\u001b[0m\n\u001b[1;32m----> 1\u001b[0m \u001b[38;5;28;43miter\u001b[39;49m\u001b[43m(\u001b[49m\u001b[38;5;241;43m45\u001b[39;49m\u001b[43m)\u001b[49m\n",
      "\u001b[1;31mTypeError\u001b[0m: 'int' object is not iterable"
     ]
    }
   ],
   "source": [
    "iter(45)"
   ]
  },
  {
   "cell_type": "code",
   "execution_count": 12,
   "id": "d9dcb461",
   "metadata": {},
   "outputs": [],
   "source": [
    "l=[1,3,4,5,8]"
   ]
  },
  {
   "cell_type": "code",
   "execution_count": 13,
   "id": "4d4526d4",
   "metadata": {},
   "outputs": [
    {
     "name": "stdout",
     "output_type": "stream",
     "text": [
      "1\n",
      "3\n",
      "4\n",
      "5\n",
      "8\n"
     ]
    }
   ],
   "source": [
    "for i in l:\n",
    "    print(i)"
   ]
  },
  {
   "cell_type": "code",
   "execution_count": 14,
   "id": "62a75326",
   "metadata": {},
   "outputs": [],
   "source": [
    "s='Jimmy'"
   ]
  },
  {
   "cell_type": "code",
   "execution_count": 15,
   "id": "6348b00b",
   "metadata": {},
   "outputs": [
    {
     "ename": "TypeError",
     "evalue": "'str' object is not an iterator",
     "output_type": "error",
     "traceback": [
      "\u001b[1;31m---------------------------------------------------------------------------\u001b[0m",
      "\u001b[1;31mTypeError\u001b[0m                                 Traceback (most recent call last)",
      "Input \u001b[1;32mIn [15]\u001b[0m, in \u001b[0;36m<cell line: 1>\u001b[1;34m()\u001b[0m\n\u001b[1;32m----> 1\u001b[0m \u001b[38;5;28;43mnext\u001b[39;49m\u001b[43m(\u001b[49m\u001b[43ms\u001b[49m\u001b[43m)\u001b[49m\n",
      "\u001b[1;31mTypeError\u001b[0m: 'str' object is not an iterator"
     ]
    }
   ],
   "source": [
    "next(s)"
   ]
  },
  {
   "cell_type": "code",
   "execution_count": 16,
   "id": "67a2d90d",
   "metadata": {},
   "outputs": [],
   "source": [
    "s=iter(s)"
   ]
  },
  {
   "cell_type": "code",
   "execution_count": 17,
   "id": "d248270a",
   "metadata": {},
   "outputs": [
    {
     "data": {
      "text/plain": [
       "'J'"
      ]
     },
     "execution_count": 17,
     "metadata": {},
     "output_type": "execute_result"
    }
   ],
   "source": [
    "next(s)"
   ]
  },
  {
   "cell_type": "code",
   "execution_count": 18,
   "id": "4886e76a",
   "metadata": {},
   "outputs": [
    {
     "data": {
      "text/plain": [
       "'i'"
      ]
     },
     "execution_count": 18,
     "metadata": {},
     "output_type": "execute_result"
    }
   ],
   "source": [
    "next(s)"
   ]
  },
  {
   "cell_type": "code",
   "execution_count": 19,
   "id": "c8408276",
   "metadata": {},
   "outputs": [
    {
     "data": {
      "text/plain": [
       "'m'"
      ]
     },
     "execution_count": 19,
     "metadata": {},
     "output_type": "execute_result"
    }
   ],
   "source": [
    "next(s)"
   ]
  },
  {
   "cell_type": "code",
   "execution_count": 20,
   "id": "19c9090d",
   "metadata": {},
   "outputs": [
    {
     "data": {
      "text/plain": [
       "'m'"
      ]
     },
     "execution_count": 20,
     "metadata": {},
     "output_type": "execute_result"
    }
   ],
   "source": [
    "next(s)"
   ]
  },
  {
   "cell_type": "code",
   "execution_count": 21,
   "id": "8bb70433",
   "metadata": {},
   "outputs": [
    {
     "data": {
      "text/plain": [
       "'y'"
      ]
     },
     "execution_count": 21,
     "metadata": {},
     "output_type": "execute_result"
    }
   ],
   "source": [
    "next(s)"
   ]
  },
  {
   "cell_type": "code",
   "execution_count": 22,
   "id": "fe597c58",
   "metadata": {},
   "outputs": [
    {
     "ename": "StopIteration",
     "evalue": "",
     "output_type": "error",
     "traceback": [
      "\u001b[1;31m---------------------------------------------------------------------------\u001b[0m",
      "\u001b[1;31mStopIteration\u001b[0m                             Traceback (most recent call last)",
      "Input \u001b[1;32mIn [22]\u001b[0m, in \u001b[0;36m<cell line: 1>\u001b[1;34m()\u001b[0m\n\u001b[1;32m----> 1\u001b[0m \u001b[38;5;28;43mnext\u001b[39;49m\u001b[43m(\u001b[49m\u001b[43ms\u001b[49m\u001b[43m)\u001b[49m\n",
      "\u001b[1;31mStopIteration\u001b[0m: "
     ]
    }
   ],
   "source": [
    "next(s)"
   ]
  },
  {
   "cell_type": "code",
   "execution_count": 23,
   "id": "4d08b163",
   "metadata": {},
   "outputs": [],
   "source": [
    "t=(5,6,7,8,8)"
   ]
  },
  {
   "cell_type": "code",
   "execution_count": 24,
   "id": "a58e5f08",
   "metadata": {},
   "outputs": [
    {
     "ename": "TypeError",
     "evalue": "'tuple' object is not an iterator",
     "output_type": "error",
     "traceback": [
      "\u001b[1;31m---------------------------------------------------------------------------\u001b[0m",
      "\u001b[1;31mTypeError\u001b[0m                                 Traceback (most recent call last)",
      "Input \u001b[1;32mIn [24]\u001b[0m, in \u001b[0;36m<cell line: 1>\u001b[1;34m()\u001b[0m\n\u001b[1;32m----> 1\u001b[0m \u001b[38;5;28;43mnext\u001b[39;49m\u001b[43m(\u001b[49m\u001b[43mt\u001b[49m\u001b[43m)\u001b[49m\n",
      "\u001b[1;31mTypeError\u001b[0m: 'tuple' object is not an iterator"
     ]
    }
   ],
   "source": [
    "next(t)"
   ]
  },
  {
   "cell_type": "code",
   "execution_count": 25,
   "id": "700ef8ef",
   "metadata": {},
   "outputs": [],
   "source": [
    "t=iter(t)"
   ]
  },
  {
   "cell_type": "code",
   "execution_count": 26,
   "id": "1cce949f",
   "metadata": {},
   "outputs": [
    {
     "data": {
      "text/plain": [
       "5"
      ]
     },
     "execution_count": 26,
     "metadata": {},
     "output_type": "execute_result"
    }
   ],
   "source": [
    "next(t)"
   ]
  },
  {
   "cell_type": "code",
   "execution_count": 27,
   "id": "d3e6c54e",
   "metadata": {},
   "outputs": [
    {
     "data": {
      "text/plain": [
       "6"
      ]
     },
     "execution_count": 27,
     "metadata": {},
     "output_type": "execute_result"
    }
   ],
   "source": [
    "next(t)"
   ]
  },
  {
   "cell_type": "code",
   "execution_count": 28,
   "id": "1f08a4fa",
   "metadata": {},
   "outputs": [
    {
     "data": {
      "text/plain": [
       "7"
      ]
     },
     "execution_count": 28,
     "metadata": {},
     "output_type": "execute_result"
    }
   ],
   "source": [
    "next(t)"
   ]
  },
  {
   "cell_type": "code",
   "execution_count": 29,
   "id": "c85e05ec",
   "metadata": {},
   "outputs": [
    {
     "data": {
      "text/plain": [
       "8"
      ]
     },
     "execution_count": 29,
     "metadata": {},
     "output_type": "execute_result"
    }
   ],
   "source": [
    "next(t)"
   ]
  },
  {
   "cell_type": "code",
   "execution_count": 30,
   "id": "3b494fea",
   "metadata": {},
   "outputs": [
    {
     "data": {
      "text/plain": [
       "8"
      ]
     },
     "execution_count": 30,
     "metadata": {},
     "output_type": "execute_result"
    }
   ],
   "source": [
    "next(t)"
   ]
  },
  {
   "cell_type": "code",
   "execution_count": 31,
   "id": "dadfc756",
   "metadata": {},
   "outputs": [
    {
     "ename": "StopIteration",
     "evalue": "",
     "output_type": "error",
     "traceback": [
      "\u001b[1;31m---------------------------------------------------------------------------\u001b[0m",
      "\u001b[1;31mStopIteration\u001b[0m                             Traceback (most recent call last)",
      "Input \u001b[1;32mIn [31]\u001b[0m, in \u001b[0;36m<cell line: 1>\u001b[1;34m()\u001b[0m\n\u001b[1;32m----> 1\u001b[0m \u001b[38;5;28;43mnext\u001b[39;49m\u001b[43m(\u001b[49m\u001b[43mt\u001b[49m\u001b[43m)\u001b[49m\n",
      "\u001b[1;31mStopIteration\u001b[0m: "
     ]
    }
   ],
   "source": [
    "next(t)"
   ]
  },
  {
   "cell_type": "code",
   "execution_count": 32,
   "id": "29fb0f85",
   "metadata": {},
   "outputs": [
    {
     "data": {
      "text/plain": [
       "range(1, 10)"
      ]
     },
     "execution_count": 32,
     "metadata": {},
     "output_type": "execute_result"
    }
   ],
   "source": [
    "range(1,10)"
   ]
  },
  {
   "cell_type": "code",
   "execution_count": 33,
   "id": "34efee99",
   "metadata": {},
   "outputs": [
    {
     "data": {
      "text/plain": [
       "[1, 2, 3, 4, 5, 6, 7, 8, 9]"
      ]
     },
     "execution_count": 33,
     "metadata": {},
     "output_type": "execute_result"
    }
   ],
   "source": [
    "list(range(1,10))"
   ]
  },
  {
   "cell_type": "code",
   "execution_count": 34,
   "id": "648d4fd6",
   "metadata": {},
   "outputs": [],
   "source": [
    "def mysquare(a,b):\n",
    "    for i in range(a,b):\n",
    "        i=i*i\n",
    "        print(i)"
   ]
  },
  {
   "cell_type": "code",
   "execution_count": 35,
   "id": "a7ba75e3",
   "metadata": {},
   "outputs": [
    {
     "name": "stdout",
     "output_type": "stream",
     "text": [
      "0\n",
      "1\n",
      "4\n",
      "9\n",
      "16\n",
      "25\n",
      "36\n",
      "49\n",
      "64\n",
      "81\n"
     ]
    }
   ],
   "source": [
    "mysquare(0,10)"
   ]
  },
  {
   "cell_type": "code",
   "execution_count": 36,
   "id": "c67f328a",
   "metadata": {},
   "outputs": [],
   "source": [
    "x= lambda *args : [i*i for i in args]"
   ]
  },
  {
   "cell_type": "code",
   "execution_count": 37,
   "id": "cb1c51a8",
   "metadata": {},
   "outputs": [
    {
     "data": {
      "text/plain": [
       "[25]"
      ]
     },
     "execution_count": 37,
     "metadata": {},
     "output_type": "execute_result"
    }
   ],
   "source": [
    "x(5)"
   ]
  },
  {
   "cell_type": "code",
   "execution_count": 38,
   "id": "8b3b26c1",
   "metadata": {},
   "outputs": [],
   "source": [
    "def mysquare(a,b):\n",
    "    for i in range(a,b):\n",
    "        i=i*i\n",
    "        yield i"
   ]
  },
  {
   "cell_type": "code",
   "execution_count": 39,
   "id": "5f11ff64",
   "metadata": {},
   "outputs": [
    {
     "data": {
      "text/plain": [
       "<generator object mysquare at 0x0000021C02638580>"
      ]
     },
     "execution_count": 39,
     "metadata": {},
     "output_type": "execute_result"
    }
   ],
   "source": [
    "mysquare(1,10)"
   ]
  },
  {
   "cell_type": "code",
   "execution_count": 40,
   "id": "a6be02f8",
   "metadata": {},
   "outputs": [
    {
     "name": "stdout",
     "output_type": "stream",
     "text": [
      "1\n",
      "4\n",
      "9\n",
      "16\n"
     ]
    }
   ],
   "source": [
    "for i in mysquare(1,5):\n",
    "    print(i)"
   ]
  },
  {
   "cell_type": "code",
   "execution_count": 41,
   "id": "e4adc20c",
   "metadata": {},
   "outputs": [
    {
     "data": {
      "text/plain": [
       "1"
      ]
     },
     "execution_count": 41,
     "metadata": {},
     "output_type": "execute_result"
    }
   ],
   "source": [
    "next(mysquare(1,9))"
   ]
  },
  {
   "cell_type": "code",
   "execution_count": 42,
   "id": "013a4f0e",
   "metadata": {},
   "outputs": [
    {
     "ename": "TypeError",
     "evalue": "'range' object is not an iterator",
     "output_type": "error",
     "traceback": [
      "\u001b[1;31m---------------------------------------------------------------------------\u001b[0m",
      "\u001b[1;31mTypeError\u001b[0m                                 Traceback (most recent call last)",
      "Input \u001b[1;32mIn [42]\u001b[0m, in \u001b[0;36m<cell line: 1>\u001b[1;34m()\u001b[0m\n\u001b[1;32m----> 1\u001b[0m \u001b[38;5;28;43mnext\u001b[39;49m\u001b[43m(\u001b[49m\u001b[38;5;28;43mrange\u001b[39;49m\u001b[43m(\u001b[49m\u001b[38;5;241;43m5\u001b[39;49m\u001b[43m)\u001b[49m\u001b[43m)\u001b[49m\n",
      "\u001b[1;31mTypeError\u001b[0m: 'range' object is not an iterator"
     ]
    }
   ],
   "source": [
    "next(range(5))"
   ]
  },
  {
   "cell_type": "code",
   "execution_count": 43,
   "id": "243934d6",
   "metadata": {},
   "outputs": [],
   "source": [
    "r=iter(range(5))"
   ]
  },
  {
   "cell_type": "code",
   "execution_count": 44,
   "id": "abe86997",
   "metadata": {},
   "outputs": [
    {
     "data": {
      "text/plain": [
       "0"
      ]
     },
     "execution_count": 44,
     "metadata": {},
     "output_type": "execute_result"
    }
   ],
   "source": [
    "next(r)"
   ]
  },
  {
   "cell_type": "code",
   "execution_count": 45,
   "id": "d5868448",
   "metadata": {},
   "outputs": [
    {
     "data": {
      "text/plain": [
       "1"
      ]
     },
     "execution_count": 45,
     "metadata": {},
     "output_type": "execute_result"
    }
   ],
   "source": [
    "next(r)"
   ]
  },
  {
   "cell_type": "code",
   "execution_count": 46,
   "id": "32926aa0",
   "metadata": {},
   "outputs": [
    {
     "data": {
      "text/plain": [
       "2"
      ]
     },
     "execution_count": 46,
     "metadata": {},
     "output_type": "execute_result"
    }
   ],
   "source": [
    "next(r)"
   ]
  },
  {
   "cell_type": "code",
   "execution_count": 47,
   "id": "3d50087c",
   "metadata": {},
   "outputs": [
    {
     "data": {
      "text/plain": [
       "3"
      ]
     },
     "execution_count": 47,
     "metadata": {},
     "output_type": "execute_result"
    }
   ],
   "source": [
    "next(r)"
   ]
  },
  {
   "cell_type": "code",
   "execution_count": 48,
   "id": "76393b8b",
   "metadata": {},
   "outputs": [
    {
     "data": {
      "text/plain": [
       "4"
      ]
     },
     "execution_count": 48,
     "metadata": {},
     "output_type": "execute_result"
    }
   ],
   "source": [
    "next(r)"
   ]
  },
  {
   "cell_type": "code",
   "execution_count": 49,
   "id": "c6d1797b",
   "metadata": {
    "scrolled": true
   },
   "outputs": [
    {
     "ename": "StopIteration",
     "evalue": "",
     "output_type": "error",
     "traceback": [
      "\u001b[1;31m---------------------------------------------------------------------------\u001b[0m",
      "\u001b[1;31mStopIteration\u001b[0m                             Traceback (most recent call last)",
      "Input \u001b[1;32mIn [49]\u001b[0m, in \u001b[0;36m<cell line: 1>\u001b[1;34m()\u001b[0m\n\u001b[1;32m----> 1\u001b[0m \u001b[38;5;28;43mnext\u001b[39;49m\u001b[43m(\u001b[49m\u001b[43mr\u001b[49m\u001b[43m)\u001b[49m\n",
      "\u001b[1;31mStopIteration\u001b[0m: "
     ]
    }
   ],
   "source": [
    "next(r)"
   ]
  },
  {
   "cell_type": "code",
   "execution_count": 50,
   "id": "34d4024c",
   "metadata": {},
   "outputs": [],
   "source": [
    "def genfib(n):\n",
    "    a=1\n",
    "    b=1\n",
    "    l=[]\n",
    "    for i in range (n):\n",
    "        l.append(a)\n",
    "        a,b=b,a+b\n",
    "    return l"
   ]
  },
  {
   "cell_type": "code",
   "execution_count": 51,
   "id": "26d34a76",
   "metadata": {},
   "outputs": [
    {
     "data": {
      "text/plain": [
       "[1, 1, 2, 3, 5, 8, 13, 21, 34, 55]"
      ]
     },
     "execution_count": 51,
     "metadata": {},
     "output_type": "execute_result"
    }
   ],
   "source": [
    "genfib(10)"
   ]
  },
  {
   "cell_type": "code",
   "execution_count": 52,
   "id": "e04a44e0",
   "metadata": {},
   "outputs": [],
   "source": [
    "def genfib1(n):\n",
    "    a=1\n",
    "    b=1\n",
    "    for i in range (n):\n",
    "        yield a\n",
    "        a,b=b,a+b"
   ]
  },
  {
   "cell_type": "code",
   "execution_count": 53,
   "id": "da191a3b",
   "metadata": {},
   "outputs": [
    {
     "data": {
      "text/plain": [
       "<generator object genfib1 at 0x0000021C0267F430>"
      ]
     },
     "execution_count": 53,
     "metadata": {},
     "output_type": "execute_result"
    }
   ],
   "source": [
    "genfib1(5)"
   ]
  },
  {
   "cell_type": "code",
   "execution_count": 54,
   "id": "7c5117c2",
   "metadata": {
    "scrolled": true
   },
   "outputs": [
    {
     "name": "stdout",
     "output_type": "stream",
     "text": [
      "1\n",
      "1\n",
      "2\n",
      "3\n",
      "5\n",
      "8\n",
      "13\n",
      "21\n",
      "34\n",
      "55\n",
      "89\n",
      "144\n",
      "233\n",
      "377\n",
      "610\n",
      "987\n",
      "1597\n",
      "2584\n",
      "4181\n",
      "6765\n",
      "10946\n",
      "17711\n",
      "28657\n",
      "46368\n",
      "75025\n",
      "121393\n",
      "196418\n",
      "317811\n",
      "514229\n",
      "832040\n",
      "1346269\n",
      "2178309\n",
      "3524578\n",
      "5702887\n",
      "9227465\n",
      "14930352\n",
      "24157817\n",
      "39088169\n",
      "63245986\n",
      "102334155\n",
      "165580141\n",
      "267914296\n",
      "433494437\n",
      "701408733\n",
      "1134903170\n",
      "1836311903\n",
      "2971215073\n",
      "4807526976\n",
      "7778742049\n",
      "12586269025\n",
      "20365011074\n",
      "32951280099\n",
      "53316291173\n",
      "86267571272\n",
      "139583862445\n",
      "225851433717\n",
      "365435296162\n",
      "591286729879\n",
      "956722026041\n",
      "1548008755920\n",
      "2504730781961\n",
      "4052739537881\n",
      "6557470319842\n",
      "10610209857723\n",
      "17167680177565\n",
      "27777890035288\n",
      "44945570212853\n",
      "72723460248141\n",
      "117669030460994\n",
      "190392490709135\n",
      "308061521170129\n",
      "498454011879264\n",
      "806515533049393\n",
      "1304969544928657\n",
      "2111485077978050\n",
      "3416454622906707\n",
      "5527939700884757\n",
      "8944394323791464\n",
      "14472334024676221\n",
      "23416728348467685\n",
      "37889062373143906\n",
      "61305790721611591\n",
      "99194853094755497\n",
      "160500643816367088\n",
      "259695496911122585\n",
      "420196140727489673\n",
      "679891637638612258\n",
      "1100087778366101931\n",
      "1779979416004714189\n",
      "2880067194370816120\n",
      "4660046610375530309\n",
      "7540113804746346429\n",
      "12200160415121876738\n",
      "19740274219868223167\n",
      "31940434634990099905\n",
      "51680708854858323072\n",
      "83621143489848422977\n",
      "135301852344706746049\n",
      "218922995834555169026\n",
      "354224848179261915075\n"
     ]
    }
   ],
   "source": [
    "for i in genfib1(100):\n",
    "    print(i)"
   ]
  },
  {
   "cell_type": "code",
   "execution_count": 55,
   "id": "7ebc70eb",
   "metadata": {},
   "outputs": [],
   "source": [
    "#file operation"
   ]
  },
  {
   "cell_type": "code",
   "execution_count": 56,
   "id": "26aa9c20",
   "metadata": {},
   "outputs": [
    {
     "ename": "FileNotFoundError",
     "evalue": "[Errno 2] No such file or directory: 'Jaymil.txt'",
     "output_type": "error",
     "traceback": [
      "\u001b[1;31m---------------------------------------------------------------------------\u001b[0m",
      "\u001b[1;31mFileNotFoundError\u001b[0m                         Traceback (most recent call last)",
      "Input \u001b[1;32mIn [56]\u001b[0m, in \u001b[0;36m<cell line: 1>\u001b[1;34m()\u001b[0m\n\u001b[1;32m----> 1\u001b[0m f\u001b[38;5;241m=\u001b[39m\u001b[38;5;28;43mopen\u001b[39;49m\u001b[43m(\u001b[49m\u001b[38;5;124;43m\"\u001b[39;49m\u001b[38;5;124;43mJaymil.txt\u001b[39;49m\u001b[38;5;124;43m\"\u001b[39;49m\u001b[43m)\u001b[49m\n",
      "\u001b[1;31mFileNotFoundError\u001b[0m: [Errno 2] No such file or directory: 'Jaymil.txt'"
     ]
    }
   ],
   "source": [
    "f=open(\"Jaymil.txt\")"
   ]
  },
  {
   "cell_type": "code",
   "execution_count": 57,
   "id": "3e8627cc",
   "metadata": {},
   "outputs": [
    {
     "name": "stdout",
     "output_type": "stream",
     "text": [
      " Volume in drive C is OS\n",
      " Volume Serial Number is EC6F-BF64\n",
      "\n",
      " Directory of C:\\Users\\Jaymil\n",
      "\n",
      "18-06-2022  16:21    <DIR>          .\n",
      "18-05-2022  12:50    <DIR>          ..\n",
      "29-05-2022  16:21    <DIR>          .conda\n",
      "20-05-2022  00:45                25 .condarc\n",
      "20-05-2022  00:45    <DIR>          .continuum\n",
      "18-06-2022  15:31    <DIR>          .ipynb_checkpoints\n",
      "20-05-2022  11:40    <DIR>          .ipython\n",
      "21-05-2022  14:59    <DIR>          .jupyter\n",
      "20-05-2022  00:42    <DIR>          anaconda3\n",
      "18-05-2022  14:36    <DIR>          Contacts\n",
      "12-06-2022  16:22    <DIR>          Desktop\n",
      "12-06-2022  14:09    <DIR>          Documents\n",
      "18-06-2022  13:10    <DIR>          Downloads\n",
      "18-05-2022  14:36    <DIR>          Favorites\n",
      "18-05-2022  14:36    <DIR>          Links\n",
      "07-06-2022  11:53            25,702 Live-1_Variable In Python Introduction.ipynb\n",
      "18-06-2022  16:21            23,029 Live-10_iterator, iterable, Generator.ipynb\n",
      "07-06-2022  11:53            57,372 Live-2_Python String Basic.ipynb\n",
      "07-06-2022  11:53            77,407 Live-3_List, Tuple, Dict, Set.ipynb\n",
      "07-06-2022  11:53            15,964 Live-4_Control Statement (if,elif,else) & Loop.ipynb\n",
      "07-06-2022  11:53            26,119 Live-5_Loops.ipynb\n",
      "07-06-2022  11:58         5,321,277 Live-6_While Loop, Function.ipynb\n",
      "07-06-2022  11:58             3,469 Live-7_Revision Class.ipynb\n",
      "07-06-2022  11:58            21,998 Live-8_Working With Functions.ipynb\n",
      "12-06-2022  17:19            11,008 Live-9_Exception Handling.ipynb\n",
      "18-05-2022  14:36    <DIR>          Music\n",
      "18-06-2022  11:57    <DIR>          OneDrive\n",
      "07-06-2022  11:53            13,486 Resource-1_Introduction of Datatypes.ipynb\n",
      "07-06-2022  11:53            86,595 Resource-2_String datatype.ipynb\n",
      "07-06-2022  11:53            83,389 Resource-3_List , tuples , dict , set.ipynb\n",
      "11-06-2022  22:58            35,478 Resource-4_Conditional statement (if , elif, else).ipynb\n",
      "07-06-2022  11:53            41,959 Resource-5_For Loop practice.ipynb\n",
      "07-06-2022  12:25         3,644,400 Resource-6_while loop and basic of function.ipynb\n",
      "07-06-2022  11:53           113,561 Resource-7_Revision And Task Solving.ipynb\n",
      "07-06-2022  12:01            37,092 Resource-8_Function continued.ipynb\n",
      "18-05-2022  14:36    <DIR>          Saved Games\n",
      "18-05-2022  12:50    <DIR>          Searches\n",
      "07-06-2022  11:53            16,509 Task-3_Loops.ipynb\n",
      "07-06-2022  11:53            33,446 Task-4_While Loop.ipynb\n",
      "12-06-2022  17:19            19,383 Task-5_Functions.ipynb\n",
      "19-05-2022  13:27    <DIR>          Tracing\n",
      "20-05-2022  17:07                 0 untitled.txt\n",
      "20-05-2022  13:25    <DIR>          Videos\n",
      "              23 File(s)      9,708,668 bytes\n",
      "              20 Dir(s)  404,051,894,272 bytes free\n"
     ]
    }
   ],
   "source": [
    "ls"
   ]
  },
  {
   "cell_type": "code",
   "execution_count": 60,
   "id": "1342c132",
   "metadata": {},
   "outputs": [],
   "source": [
    "f=open(\"Jaymil.txt\",'w')"
   ]
  },
  {
   "cell_type": "code",
   "execution_count": 61,
   "id": "9bd3a9c9",
   "metadata": {},
   "outputs": [
    {
     "name": "stdout",
     "output_type": "stream",
     "text": [
      " Volume in drive C is OS\n",
      " Volume Serial Number is EC6F-BF64\n",
      "\n",
      " Directory of C:\\Users\\Jaymil\n",
      "\n",
      "18-06-2022  16:38    <DIR>          .\n",
      "18-05-2022  12:50    <DIR>          ..\n",
      "29-05-2022  16:21    <DIR>          .conda\n",
      "20-05-2022  00:45                25 .condarc\n",
      "20-05-2022  00:45    <DIR>          .continuum\n",
      "18-06-2022  15:31    <DIR>          .ipynb_checkpoints\n",
      "20-05-2022  11:40    <DIR>          .ipython\n",
      "21-05-2022  14:59    <DIR>          .jupyter\n",
      "20-05-2022  00:42    <DIR>          anaconda3\n",
      "18-05-2022  14:36    <DIR>          Contacts\n",
      "12-06-2022  16:22    <DIR>          Desktop\n",
      "12-06-2022  14:09    <DIR>          Documents\n",
      "18-06-2022  13:10    <DIR>          Downloads\n",
      "18-05-2022  14:36    <DIR>          Favorites\n",
      "18-06-2022  16:38                 0 Jaymil.txt\n",
      "18-05-2022  14:36    <DIR>          Links\n",
      "07-06-2022  11:53            25,702 Live-1_Variable In Python Introduction.ipynb\n",
      "18-06-2022  16:37            28,553 Live-10_iterator, iterable, Generator.ipynb\n",
      "07-06-2022  11:53            57,372 Live-2_Python String Basic.ipynb\n",
      "07-06-2022  11:53            77,407 Live-3_List, Tuple, Dict, Set.ipynb\n",
      "07-06-2022  11:53            15,964 Live-4_Control Statement (if,elif,else) & Loop.ipynb\n",
      "07-06-2022  11:53            26,119 Live-5_Loops.ipynb\n",
      "07-06-2022  11:58         5,321,277 Live-6_While Loop, Function.ipynb\n",
      "07-06-2022  11:58             3,469 Live-7_Revision Class.ipynb\n",
      "07-06-2022  11:58            21,998 Live-8_Working With Functions.ipynb\n",
      "12-06-2022  17:19            11,008 Live-9_Exception Handling.ipynb\n",
      "18-05-2022  14:36    <DIR>          Music\n",
      "18-06-2022  11:57    <DIR>          OneDrive\n",
      "07-06-2022  11:53            13,486 Resource-1_Introduction of Datatypes.ipynb\n",
      "07-06-2022  11:53            86,595 Resource-2_String datatype.ipynb\n",
      "07-06-2022  11:53            83,389 Resource-3_List , tuples , dict , set.ipynb\n",
      "11-06-2022  22:58            35,478 Resource-4_Conditional statement (if , elif, else).ipynb\n",
      "07-06-2022  11:53            41,959 Resource-5_For Loop practice.ipynb\n",
      "07-06-2022  12:25         3,644,400 Resource-6_while loop and basic of function.ipynb\n",
      "07-06-2022  11:53           113,561 Resource-7_Revision And Task Solving.ipynb\n",
      "07-06-2022  12:01            37,092 Resource-8_Function continued.ipynb\n",
      "18-05-2022  14:36    <DIR>          Saved Games\n",
      "18-05-2022  12:50    <DIR>          Searches\n",
      "07-06-2022  11:53            16,509 Task-3_Loops.ipynb\n",
      "07-06-2022  11:53            33,446 Task-4_While Loop.ipynb\n",
      "12-06-2022  17:19            19,383 Task-5_Functions.ipynb\n",
      "19-05-2022  13:27    <DIR>          Tracing\n",
      "20-05-2022  17:07                 0 untitled.txt\n",
      "20-05-2022  13:25    <DIR>          Videos\n",
      "              24 File(s)      9,714,192 bytes\n",
      "              20 Dir(s)  404,051,345,408 bytes free\n"
     ]
    }
   ],
   "source": [
    "ls"
   ]
  },
  {
   "cell_type": "code",
   "execution_count": 63,
   "id": "82fe869e",
   "metadata": {},
   "outputs": [
    {
     "data": {
      "text/plain": [
       "36"
      ]
     },
     "execution_count": 63,
     "metadata": {},
     "output_type": "execute_result"
    }
   ],
   "source": [
    "f.write(\"this is my very first file operation\")"
   ]
  },
  {
   "cell_type": "code",
   "execution_count": 64,
   "id": "72488c3e",
   "metadata": {},
   "outputs": [],
   "source": [
    "f.close()"
   ]
  },
  {
   "cell_type": "code",
   "execution_count": 65,
   "id": "ee7545dd",
   "metadata": {},
   "outputs": [
    {
     "name": "stdout",
     "output_type": "stream",
     "text": [
      " Volume in drive C is OS\n",
      " Volume Serial Number is EC6F-BF64\n",
      "\n",
      " Directory of C:\\Users\\Jaymil\n",
      "\n",
      "18-06-2022  16:39    <DIR>          .\n",
      "18-05-2022  12:50    <DIR>          ..\n",
      "29-05-2022  16:21    <DIR>          .conda\n",
      "20-05-2022  00:45                25 .condarc\n",
      "20-05-2022  00:45    <DIR>          .continuum\n",
      "18-06-2022  15:31    <DIR>          .ipynb_checkpoints\n",
      "20-05-2022  11:40    <DIR>          .ipython\n",
      "21-05-2022  14:59    <DIR>          .jupyter\n",
      "20-05-2022  00:42    <DIR>          anaconda3\n",
      "18-05-2022  14:36    <DIR>          Contacts\n",
      "12-06-2022  16:22    <DIR>          Desktop\n",
      "12-06-2022  14:09    <DIR>          Documents\n",
      "18-06-2022  13:10    <DIR>          Downloads\n",
      "18-05-2022  14:36    <DIR>          Favorites\n",
      "18-06-2022  16:40                36 Jaymil.txt\n",
      "18-05-2022  14:36    <DIR>          Links\n",
      "07-06-2022  11:53            25,702 Live-1_Variable In Python Introduction.ipynb\n",
      "18-06-2022  16:39            31,445 Live-10_iterator, iterable, Generator.ipynb\n",
      "07-06-2022  11:53            57,372 Live-2_Python String Basic.ipynb\n",
      "07-06-2022  11:53            77,407 Live-3_List, Tuple, Dict, Set.ipynb\n",
      "07-06-2022  11:53            15,964 Live-4_Control Statement (if,elif,else) & Loop.ipynb\n",
      "07-06-2022  11:53            26,119 Live-5_Loops.ipynb\n",
      "07-06-2022  11:58         5,321,277 Live-6_While Loop, Function.ipynb\n",
      "07-06-2022  11:58             3,469 Live-7_Revision Class.ipynb\n",
      "07-06-2022  11:58            21,998 Live-8_Working With Functions.ipynb\n",
      "12-06-2022  17:19            11,008 Live-9_Exception Handling.ipynb\n",
      "18-05-2022  14:36    <DIR>          Music\n",
      "18-06-2022  11:57    <DIR>          OneDrive\n",
      "07-06-2022  11:53            13,486 Resource-1_Introduction of Datatypes.ipynb\n",
      "07-06-2022  11:53            86,595 Resource-2_String datatype.ipynb\n",
      "07-06-2022  11:53            83,389 Resource-3_List , tuples , dict , set.ipynb\n",
      "11-06-2022  22:58            35,478 Resource-4_Conditional statement (if , elif, else).ipynb\n",
      "07-06-2022  11:53            41,959 Resource-5_For Loop practice.ipynb\n",
      "07-06-2022  12:25         3,644,400 Resource-6_while loop and basic of function.ipynb\n",
      "07-06-2022  11:53           113,561 Resource-7_Revision And Task Solving.ipynb\n",
      "07-06-2022  12:01            37,092 Resource-8_Function continued.ipynb\n",
      "18-05-2022  14:36    <DIR>          Saved Games\n",
      "18-05-2022  12:50    <DIR>          Searches\n",
      "07-06-2022  11:53            16,509 Task-3_Loops.ipynb\n",
      "07-06-2022  11:53            33,446 Task-4_While Loop.ipynb\n",
      "12-06-2022  17:19            19,383 Task-5_Functions.ipynb\n",
      "19-05-2022  13:27    <DIR>          Tracing\n",
      "20-05-2022  17:07                 0 untitled.txt\n",
      "20-05-2022  13:25    <DIR>          Videos\n",
      "              24 File(s)      9,717,120 bytes\n",
      "              20 Dir(s)  404,050,173,952 bytes free\n"
     ]
    }
   ],
   "source": [
    "ls"
   ]
  },
  {
   "cell_type": "code",
   "execution_count": 66,
   "id": "0b917d94",
   "metadata": {},
   "outputs": [],
   "source": [
    "f1=open(\"test1.txt\",\"w\")"
   ]
  },
  {
   "cell_type": "code",
   "execution_count": 67,
   "id": "abf05cbd",
   "metadata": {},
   "outputs": [
    {
     "data": {
      "text/plain": [
       "59"
      ]
     },
     "execution_count": 67,
     "metadata": {},
     "output_type": "execute_result"
    }
   ],
   "source": [
    "f1.write(\"this is a file operation I am trying to do in my fsds class\")"
   ]
  },
  {
   "cell_type": "code",
   "execution_count": 69,
   "id": "13d3f6b7",
   "metadata": {},
   "outputs": [],
   "source": [
    "f1.close()"
   ]
  },
  {
   "cell_type": "code",
   "execution_count": 71,
   "id": "bf01d785",
   "metadata": {},
   "outputs": [
    {
     "name": "stdout",
     "output_type": "stream",
     "text": [
      " Volume in drive C is OS\n",
      " Volume Serial Number is EC6F-BF64\n",
      "\n",
      " Directory of C:\\Users\\Jaymil\n",
      "\n",
      "18-06-2022  16:42    <DIR>          .\n",
      "18-05-2022  12:50    <DIR>          ..\n",
      "29-05-2022  16:21    <DIR>          .conda\n",
      "20-05-2022  00:45                25 .condarc\n",
      "20-05-2022  00:45    <DIR>          .continuum\n",
      "18-06-2022  15:31    <DIR>          .ipynb_checkpoints\n",
      "20-05-2022  11:40    <DIR>          .ipython\n",
      "21-05-2022  14:59    <DIR>          .jupyter\n",
      "20-05-2022  00:42    <DIR>          anaconda3\n",
      "18-05-2022  14:36    <DIR>          Contacts\n",
      "12-06-2022  16:22    <DIR>          Desktop\n",
      "12-06-2022  14:09    <DIR>          Documents\n",
      "18-06-2022  13:10    <DIR>          Downloads\n",
      "18-05-2022  14:36    <DIR>          Favorites\n",
      "18-06-2022  16:40                36 Jaymil.txt\n",
      "18-05-2022  14:36    <DIR>          Links\n",
      "07-06-2022  11:53            25,702 Live-1_Variable In Python Introduction.ipynb\n",
      "18-06-2022  16:41            35,476 Live-10_iterator, iterable, Generator.ipynb\n",
      "07-06-2022  11:53            57,372 Live-2_Python String Basic.ipynb\n",
      "07-06-2022  11:53            77,407 Live-3_List, Tuple, Dict, Set.ipynb\n",
      "07-06-2022  11:53            15,964 Live-4_Control Statement (if,elif,else) & Loop.ipynb\n",
      "07-06-2022  11:53            26,119 Live-5_Loops.ipynb\n",
      "07-06-2022  11:58         5,321,277 Live-6_While Loop, Function.ipynb\n",
      "07-06-2022  11:58             3,469 Live-7_Revision Class.ipynb\n",
      "07-06-2022  11:58            21,998 Live-8_Working With Functions.ipynb\n",
      "12-06-2022  17:19            11,008 Live-9_Exception Handling.ipynb\n",
      "18-05-2022  14:36    <DIR>          Music\n",
      "18-06-2022  11:57    <DIR>          OneDrive\n",
      "07-06-2022  11:53            13,486 Resource-1_Introduction of Datatypes.ipynb\n",
      "07-06-2022  11:53            86,595 Resource-2_String datatype.ipynb\n",
      "07-06-2022  11:53            83,389 Resource-3_List , tuples , dict , set.ipynb\n",
      "11-06-2022  22:58            35,478 Resource-4_Conditional statement (if , elif, else).ipynb\n",
      "07-06-2022  11:53            41,959 Resource-5_For Loop practice.ipynb\n",
      "07-06-2022  12:25         3,644,400 Resource-6_while loop and basic of function.ipynb\n",
      "07-06-2022  11:53           113,561 Resource-7_Revision And Task Solving.ipynb\n",
      "07-06-2022  12:01            37,092 Resource-8_Function continued.ipynb\n",
      "18-05-2022  14:36    <DIR>          Saved Games\n",
      "18-05-2022  12:50    <DIR>          Searches\n",
      "07-06-2022  11:53            16,509 Task-3_Loops.ipynb\n",
      "07-06-2022  11:53            33,446 Task-4_While Loop.ipynb\n",
      "12-06-2022  17:19            19,383 Task-5_Functions.ipynb\n",
      "18-06-2022  16:42                59 test1.txt\n",
      "19-05-2022  13:27    <DIR>          Tracing\n",
      "20-05-2022  17:07                 0 untitled.txt\n",
      "20-05-2022  13:25    <DIR>          Videos\n",
      "              25 File(s)      9,721,210 bytes\n",
      "              20 Dir(s)  404,054,556,672 bytes free\n"
     ]
    }
   ],
   "source": [
    "ls"
   ]
  },
  {
   "cell_type": "code",
   "execution_count": 72,
   "id": "15276dfa",
   "metadata": {},
   "outputs": [],
   "source": [
    "l=[1,2,3,4,5,6,9,8,7]"
   ]
  },
  {
   "cell_type": "code",
   "execution_count": 73,
   "id": "bfe28952",
   "metadata": {},
   "outputs": [],
   "source": [
    "f2=open(\"test2.txt\",'w')"
   ]
  },
  {
   "cell_type": "code",
   "execution_count": 75,
   "id": "8ce1fa17",
   "metadata": {},
   "outputs": [
    {
     "data": {
      "text/plain": [
       "27"
      ]
     },
     "execution_count": 75,
     "metadata": {},
     "output_type": "execute_result"
    }
   ],
   "source": [
    "f2.write(str(l))"
   ]
  },
  {
   "cell_type": "code",
   "execution_count": 76,
   "id": "2ebfad0f",
   "metadata": {},
   "outputs": [],
   "source": [
    "f2.close()"
   ]
  },
  {
   "cell_type": "code",
   "execution_count": 77,
   "id": "090b848a",
   "metadata": {},
   "outputs": [
    {
     "name": "stdout",
     "output_type": "stream",
     "text": [
      " Volume in drive C is OS\n",
      " Volume Serial Number is EC6F-BF64\n",
      "\n",
      " Directory of C:\\Users\\Jaymil\n",
      "\n",
      "18-06-2022  16:45    <DIR>          .\n",
      "18-05-2022  12:50    <DIR>          ..\n",
      "29-05-2022  16:21    <DIR>          .conda\n",
      "20-05-2022  00:45                25 .condarc\n",
      "20-05-2022  00:45    <DIR>          .continuum\n",
      "18-06-2022  15:31    <DIR>          .ipynb_checkpoints\n",
      "20-05-2022  11:40    <DIR>          .ipython\n",
      "21-05-2022  14:59    <DIR>          .jupyter\n",
      "20-05-2022  00:42    <DIR>          anaconda3\n",
      "18-05-2022  14:36    <DIR>          Contacts\n",
      "12-06-2022  16:22    <DIR>          Desktop\n",
      "12-06-2022  14:09    <DIR>          Documents\n",
      "18-06-2022  13:10    <DIR>          Downloads\n",
      "18-05-2022  14:36    <DIR>          Favorites\n",
      "18-06-2022  16:40                36 Jaymil.txt\n",
      "18-05-2022  14:36    <DIR>          Links\n",
      "07-06-2022  11:53            25,702 Live-1_Variable In Python Introduction.ipynb\n",
      "18-06-2022  16:45            40,452 Live-10_iterator, iterable, Generator.ipynb\n",
      "07-06-2022  11:53            57,372 Live-2_Python String Basic.ipynb\n",
      "07-06-2022  11:53            77,407 Live-3_List, Tuple, Dict, Set.ipynb\n",
      "07-06-2022  11:53            15,964 Live-4_Control Statement (if,elif,else) & Loop.ipynb\n",
      "07-06-2022  11:53            26,119 Live-5_Loops.ipynb\n",
      "07-06-2022  11:58         5,321,277 Live-6_While Loop, Function.ipynb\n",
      "07-06-2022  11:58             3,469 Live-7_Revision Class.ipynb\n",
      "07-06-2022  11:58            21,998 Live-8_Working With Functions.ipynb\n",
      "12-06-2022  17:19            11,008 Live-9_Exception Handling.ipynb\n",
      "18-05-2022  14:36    <DIR>          Music\n",
      "18-06-2022  11:57    <DIR>          OneDrive\n",
      "07-06-2022  11:53            13,486 Resource-1_Introduction of Datatypes.ipynb\n",
      "07-06-2022  11:53            86,595 Resource-2_String datatype.ipynb\n",
      "07-06-2022  11:53            83,389 Resource-3_List , tuples , dict , set.ipynb\n",
      "11-06-2022  22:58            35,478 Resource-4_Conditional statement (if , elif, else).ipynb\n",
      "07-06-2022  11:53            41,959 Resource-5_For Loop practice.ipynb\n",
      "07-06-2022  12:25         3,644,400 Resource-6_while loop and basic of function.ipynb\n",
      "07-06-2022  11:53           113,561 Resource-7_Revision And Task Solving.ipynb\n",
      "07-06-2022  12:01            37,092 Resource-8_Function continued.ipynb\n",
      "18-05-2022  14:36    <DIR>          Saved Games\n",
      "18-05-2022  12:50    <DIR>          Searches\n",
      "07-06-2022  11:53            16,509 Task-3_Loops.ipynb\n",
      "07-06-2022  11:53            33,446 Task-4_While Loop.ipynb\n",
      "12-06-2022  17:19            19,383 Task-5_Functions.ipynb\n",
      "18-06-2022  16:42                59 test1.txt\n",
      "18-06-2022  16:45                27 test2.txt\n",
      "19-05-2022  13:27    <DIR>          Tracing\n",
      "20-05-2022  17:07                 0 untitled.txt\n",
      "20-05-2022  13:25    <DIR>          Videos\n",
      "              26 File(s)      9,726,213 bytes\n",
      "              20 Dir(s)  404,058,558,464 bytes free\n"
     ]
    }
   ],
   "source": [
    "ls"
   ]
  },
  {
   "cell_type": "code",
   "execution_count": 78,
   "id": "b3fbca8b",
   "metadata": {},
   "outputs": [],
   "source": [
    "f3=open(\"test.jimmy\",'w')\n",
    "f3.write(\"fhsdiufhsdu f9udshyf 9dusf9d8sp yfds9pfdsps\")\n",
    "f3.close()"
   ]
  },
  {
   "cell_type": "code",
   "execution_count": 79,
   "id": "d9f9422d",
   "metadata": {},
   "outputs": [
    {
     "name": "stdout",
     "output_type": "stream",
     "text": [
      "Writing test5.txt\n"
     ]
    }
   ],
   "source": [
    "%%writefile test5.txt\n",
    "this is my python prograam to wrote into the file in different way"
   ]
  },
  {
   "cell_type": "code",
   "execution_count": 80,
   "id": "b46105f9",
   "metadata": {},
   "outputs": [],
   "source": [
    "f=open(\"test5.txt\")"
   ]
  },
  {
   "cell_type": "code",
   "execution_count": 81,
   "id": "abbd9bf0",
   "metadata": {},
   "outputs": [
    {
     "data": {
      "text/plain": [
       "'this is my python prograam to wrote into the file in different way\\n'"
      ]
     },
     "execution_count": 81,
     "metadata": {},
     "output_type": "execute_result"
    }
   ],
   "source": [
    "f.read()"
   ]
  },
  {
   "cell_type": "code",
   "execution_count": 82,
   "id": "1977b338",
   "metadata": {},
   "outputs": [
    {
     "data": {
      "text/plain": [
       "''"
      ]
     },
     "execution_count": 82,
     "metadata": {},
     "output_type": "execute_result"
    }
   ],
   "source": [
    "f.read()"
   ]
  },
  {
   "cell_type": "code",
   "execution_count": 83,
   "id": "b5aa8066",
   "metadata": {},
   "outputs": [
    {
     "data": {
      "text/plain": [
       "0"
      ]
     },
     "execution_count": 83,
     "metadata": {},
     "output_type": "execute_result"
    }
   ],
   "source": [
    "f.seek(0)"
   ]
  },
  {
   "cell_type": "code",
   "execution_count": 84,
   "id": "7165ec87",
   "metadata": {},
   "outputs": [
    {
     "data": {
      "text/plain": [
       "'this is my python prograam to wrote into the file in different way\\n'"
      ]
     },
     "execution_count": 84,
     "metadata": {},
     "output_type": "execute_result"
    }
   ],
   "source": [
    "f.read()"
   ]
  },
  {
   "cell_type": "code",
   "execution_count": 85,
   "id": "b6cd075b",
   "metadata": {},
   "outputs": [
    {
     "data": {
      "text/plain": [
       "15"
      ]
     },
     "execution_count": 85,
     "metadata": {},
     "output_type": "execute_result"
    }
   ],
   "source": [
    "f.seek(15)"
   ]
  },
  {
   "cell_type": "code",
   "execution_count": 86,
   "id": "08f9113c",
   "metadata": {},
   "outputs": [
    {
     "data": {
      "text/plain": [
       "'on prograam to wrote into the file in different way\\n'"
      ]
     },
     "execution_count": 86,
     "metadata": {},
     "output_type": "execute_result"
    }
   ],
   "source": [
    "f.read()"
   ]
  },
  {
   "cell_type": "code",
   "execution_count": 87,
   "id": "70868c25",
   "metadata": {},
   "outputs": [],
   "source": [
    "f=open('test5.txt')"
   ]
  },
  {
   "cell_type": "code",
   "execution_count": 88,
   "id": "73aab3ce",
   "metadata": {},
   "outputs": [
    {
     "data": {
      "text/plain": [
       "0"
      ]
     },
     "execution_count": 88,
     "metadata": {},
     "output_type": "execute_result"
    }
   ],
   "source": [
    "f.tell()"
   ]
  },
  {
   "cell_type": "code",
   "execution_count": 89,
   "id": "e172131e",
   "metadata": {},
   "outputs": [
    {
     "data": {
      "text/plain": [
       "'this is my python prograam to wrote into the file in different way\\n'"
      ]
     },
     "execution_count": 89,
     "metadata": {},
     "output_type": "execute_result"
    }
   ],
   "source": [
    "f.read()"
   ]
  },
  {
   "cell_type": "code",
   "execution_count": 90,
   "id": "9f296936",
   "metadata": {},
   "outputs": [
    {
     "data": {
      "text/plain": [
       "68"
      ]
     },
     "execution_count": 90,
     "metadata": {},
     "output_type": "execute_result"
    }
   ],
   "source": [
    "f.tell()"
   ]
  },
  {
   "cell_type": "code",
   "execution_count": 94,
   "id": "0935d93f",
   "metadata": {},
   "outputs": [
    {
     "data": {
      "text/plain": [
       "''"
      ]
     },
     "execution_count": 94,
     "metadata": {},
     "output_type": "execute_result"
    }
   ],
   "source": [
    "f.read(15)"
   ]
  },
  {
   "cell_type": "code",
   "execution_count": 95,
   "id": "c574e38f",
   "metadata": {},
   "outputs": [
    {
     "data": {
      "text/plain": [
       "0"
      ]
     },
     "execution_count": 95,
     "metadata": {},
     "output_type": "execute_result"
    }
   ],
   "source": [
    "f.seek(0)"
   ]
  },
  {
   "cell_type": "code",
   "execution_count": 96,
   "id": "347aa105",
   "metadata": {},
   "outputs": [
    {
     "data": {
      "text/plain": [
       "'this is my pyth'"
      ]
     },
     "execution_count": 96,
     "metadata": {},
     "output_type": "execute_result"
    }
   ],
   "source": [
    "f.read(15)"
   ]
  },
  {
   "cell_type": "code",
   "execution_count": 97,
   "id": "0e66e5f0",
   "metadata": {},
   "outputs": [],
   "source": [
    "f2=open('test5.txt')"
   ]
  },
  {
   "cell_type": "code",
   "execution_count": 98,
   "id": "5e0d4e9a",
   "metadata": {},
   "outputs": [
    {
     "data": {
      "text/plain": [
       "'this is my python prograam to wrote into the file in different way\\n'"
      ]
     },
     "execution_count": 98,
     "metadata": {},
     "output_type": "execute_result"
    }
   ],
   "source": [
    "f2.read()"
   ]
  },
  {
   "cell_type": "code",
   "execution_count": 100,
   "id": "1bdaf9de",
   "metadata": {},
   "outputs": [
    {
     "data": {
      "text/plain": [
       "0"
      ]
     },
     "execution_count": 100,
     "metadata": {},
     "output_type": "execute_result"
    }
   ],
   "source": [
    "f2.seek(0)"
   ]
  },
  {
   "cell_type": "code",
   "execution_count": 101,
   "id": "f8a90b55",
   "metadata": {},
   "outputs": [
    {
     "data": {
      "text/plain": [
       "'this is my python prograam to wrote into the file in different way\\n'"
      ]
     },
     "execution_count": 101,
     "metadata": {},
     "output_type": "execute_result"
    }
   ],
   "source": [
    "f2.readline()"
   ]
  },
  {
   "cell_type": "code",
   "execution_count": 102,
   "id": "8d2453c4",
   "metadata": {},
   "outputs": [
    {
     "data": {
      "text/plain": [
       "[]"
      ]
     },
     "execution_count": 102,
     "metadata": {},
     "output_type": "execute_result"
    }
   ],
   "source": [
    "f2.readlines()"
   ]
  },
  {
   "cell_type": "code",
   "execution_count": 103,
   "id": "c2e0503e",
   "metadata": {},
   "outputs": [
    {
     "data": {
      "text/plain": [
       "0"
      ]
     },
     "execution_count": 103,
     "metadata": {},
     "output_type": "execute_result"
    }
   ],
   "source": [
    "f2.seek(0)"
   ]
  },
  {
   "cell_type": "code",
   "execution_count": 104,
   "id": "50f409fd",
   "metadata": {},
   "outputs": [
    {
     "data": {
      "text/plain": [
       "['this is my python prograam to wrote into the file in different way\\n']"
      ]
     },
     "execution_count": 104,
     "metadata": {},
     "output_type": "execute_result"
    }
   ],
   "source": [
    "f2.readlines()"
   ]
  },
  {
   "cell_type": "code",
   "execution_count": 105,
   "id": "94842f7a",
   "metadata": {},
   "outputs": [
    {
     "data": {
      "text/plain": [
       "<_io.TextIOWrapper name='test5.txt' mode='r' encoding='cp1252'>"
      ]
     },
     "execution_count": 105,
     "metadata": {},
     "output_type": "execute_result"
    }
   ],
   "source": [
    "f2"
   ]
  },
  {
   "cell_type": "code",
   "execution_count": 106,
   "id": "75c3b690",
   "metadata": {},
   "outputs": [
    {
     "data": {
      "text/plain": [
       "4"
      ]
     },
     "execution_count": 106,
     "metadata": {},
     "output_type": "execute_result"
    }
   ],
   "source": [
    "f2.fileno()"
   ]
  },
  {
   "cell_type": "code",
   "execution_count": 113,
   "id": "225ae21f",
   "metadata": {},
   "outputs": [],
   "source": [
    "f=open(\"test.txt\",'w')"
   ]
  },
  {
   "cell_type": "code",
   "execution_count": 114,
   "id": "0caf1bd5",
   "metadata": {},
   "outputs": [
    {
     "data": {
      "text/plain": [
       "701"
      ]
     },
     "execution_count": 114,
     "metadata": {},
     "output_type": "execute_result"
    }
   ],
   "source": [
    "f.write('''Experienced Sr. Data Associate with over 9 years of experience working with an MNC offering in-depth essential data and insights to customers. Veteran 'people manager- operations' with demonstrated leadership abilities, strategic planning expertise, and problem-solving acumen while carrying a 'client-first' as well as 'people-first' mindset. Astute, calculating, and attentive to specific business requirements. Successful history of identifying patterns, making interpretations, and producing reports. Skills in setting up databases and other frameworks, managing systems, and aligning procedures with business needs.\n",
    "\n",
    "Ready to tackle new challenges and build success with an exciting organization.''')"
   ]
  },
  {
   "cell_type": "code",
   "execution_count": 111,
   "id": "a2250d02",
   "metadata": {},
   "outputs": [
    {
     "ename": "UnsupportedOperation",
     "evalue": "not readable",
     "output_type": "error",
     "traceback": [
      "\u001b[1;31m---------------------------------------------------------------------------\u001b[0m",
      "\u001b[1;31mUnsupportedOperation\u001b[0m                      Traceback (most recent call last)",
      "Input \u001b[1;32mIn [111]\u001b[0m, in \u001b[0;36m<cell line: 1>\u001b[1;34m()\u001b[0m\n\u001b[1;32m----> 1\u001b[0m \u001b[43mf\u001b[49m\u001b[38;5;241;43m.\u001b[39;49m\u001b[43mread\u001b[49m\u001b[43m(\u001b[49m\u001b[43m)\u001b[49m\n",
      "\u001b[1;31mUnsupportedOperation\u001b[0m: not readable"
     ]
    }
   ],
   "source": [
    "f.read()"
   ]
  },
  {
   "cell_type": "code",
   "execution_count": 112,
   "id": "f2235094",
   "metadata": {},
   "outputs": [
    {
     "name": "stdout",
     "output_type": "stream",
     "text": [
      " Volume in drive C is OS\n",
      " Volume Serial Number is EC6F-BF64\n",
      "\n",
      " Directory of C:\\Users\\Jaymil\n",
      "\n",
      "18-06-2022  17:07    <DIR>          .\n",
      "18-05-2022  12:50    <DIR>          ..\n",
      "29-05-2022  16:21    <DIR>          .conda\n",
      "20-05-2022  00:45                25 .condarc\n",
      "20-05-2022  00:45    <DIR>          .continuum\n",
      "18-06-2022  15:31    <DIR>          .ipynb_checkpoints\n",
      "20-05-2022  11:40    <DIR>          .ipython\n",
      "21-05-2022  14:59    <DIR>          .jupyter\n",
      "20-05-2022  00:42    <DIR>          anaconda3\n",
      "18-05-2022  14:36    <DIR>          Contacts\n",
      "12-06-2022  16:22    <DIR>          Desktop\n",
      "12-06-2022  14:09    <DIR>          Documents\n",
      "18-06-2022  13:10    <DIR>          Downloads\n",
      "18-05-2022  14:36    <DIR>          Favorites\n",
      "18-06-2022  16:40                36 Jaymil.txt\n",
      "18-05-2022  14:36    <DIR>          Links\n",
      "07-06-2022  11:53            25,702 Live-1_Variable In Python Introduction.ipynb\n",
      "18-06-2022  17:07            52,523 Live-10_iterator, iterable, Generator.ipynb\n",
      "07-06-2022  11:53            57,372 Live-2_Python String Basic.ipynb\n",
      "07-06-2022  11:53            77,407 Live-3_List, Tuple, Dict, Set.ipynb\n",
      "07-06-2022  11:53            15,964 Live-4_Control Statement (if,elif,else) & Loop.ipynb\n",
      "07-06-2022  11:53            26,119 Live-5_Loops.ipynb\n",
      "07-06-2022  11:58         5,321,277 Live-6_While Loop, Function.ipynb\n",
      "07-06-2022  11:58             3,469 Live-7_Revision Class.ipynb\n",
      "07-06-2022  11:58            21,998 Live-8_Working With Functions.ipynb\n",
      "12-06-2022  17:19            11,008 Live-9_Exception Handling.ipynb\n",
      "18-05-2022  14:36    <DIR>          Music\n",
      "18-06-2022  11:57    <DIR>          OneDrive\n",
      "07-06-2022  11:53            13,486 Resource-1_Introduction of Datatypes.ipynb\n",
      "07-06-2022  11:53            86,595 Resource-2_String datatype.ipynb\n",
      "07-06-2022  11:53            83,389 Resource-3_List , tuples , dict , set.ipynb\n",
      "11-06-2022  22:58            35,478 Resource-4_Conditional statement (if , elif, else).ipynb\n",
      "07-06-2022  11:53            41,959 Resource-5_For Loop practice.ipynb\n",
      "07-06-2022  12:25         3,644,400 Resource-6_while loop and basic of function.ipynb\n",
      "07-06-2022  11:53           113,561 Resource-7_Revision And Task Solving.ipynb\n",
      "07-06-2022  12:01            37,092 Resource-8_Function continued.ipynb\n",
      "18-05-2022  14:36    <DIR>          Saved Games\n",
      "18-05-2022  12:50    <DIR>          Searches\n",
      "07-06-2022  11:53            16,509 Task-3_Loops.ipynb\n",
      "07-06-2022  11:53            33,446 Task-4_While Loop.ipynb\n",
      "12-06-2022  17:19            19,383 Task-5_Functions.ipynb\n",
      "18-06-2022  16:49                43 test.jimmy\n",
      "18-06-2022  17:07                 0 test.txt\n",
      "18-06-2022  16:42                59 test1.txt\n",
      "18-06-2022  16:45                27 test2.txt\n",
      "18-06-2022  16:50                68 test5.txt\n",
      "19-05-2022  13:27    <DIR>          Tracing\n",
      "20-05-2022  17:07                 0 untitled.txt\n",
      "20-05-2022  13:25    <DIR>          Videos\n",
      "              29 File(s)      9,738,395 bytes\n",
      "              20 Dir(s)  404,051,308,544 bytes free\n"
     ]
    }
   ],
   "source": [
    "ls"
   ]
  },
  {
   "cell_type": "code",
   "execution_count": 115,
   "id": "cae56498",
   "metadata": {},
   "outputs": [],
   "source": [
    "f=open(\"test.txt\",'a')"
   ]
  },
  {
   "cell_type": "code",
   "execution_count": 116,
   "id": "1cf2c29f",
   "metadata": {},
   "outputs": [
    {
     "data": {
      "text/plain": [
       "216"
      ]
     },
     "execution_count": 116,
     "metadata": {},
     "output_type": "execute_result"
    }
   ],
   "source": [
    "f.write('''Jaymil Vyas\n",
    "Senior Data Associate | Experienced People Manager | Computer Vision | Stats | ML Ops | Operations | Python Programming | Data Science & Analytics I MySQL | Power BI & Tableau | Certified LEAN Facilitator''')"
   ]
  },
  {
   "cell_type": "code",
   "execution_count": 117,
   "id": "5b6f3ad6",
   "metadata": {},
   "outputs": [],
   "source": [
    "f.close()"
   ]
  },
  {
   "cell_type": "code",
   "execution_count": 119,
   "id": "0a5f3793",
   "metadata": {},
   "outputs": [
    {
     "data": {
      "text/plain": [
       "'test.txt'"
      ]
     },
     "execution_count": 119,
     "metadata": {},
     "output_type": "execute_result"
    }
   ],
   "source": [
    "f.name"
   ]
  },
  {
   "cell_type": "code",
   "execution_count": 120,
   "id": "13b28433",
   "metadata": {},
   "outputs": [
    {
     "data": {
      "text/plain": [
       "'a'"
      ]
     },
     "execution_count": 120,
     "metadata": {},
     "output_type": "execute_result"
    }
   ],
   "source": [
    "f.mode"
   ]
  },
  {
   "cell_type": "code",
   "execution_count": 121,
   "id": "8d171041",
   "metadata": {},
   "outputs": [
    {
     "ename": "ValueError",
     "evalue": "I/O operation on closed file.",
     "output_type": "error",
     "traceback": [
      "\u001b[1;31m---------------------------------------------------------------------------\u001b[0m",
      "\u001b[1;31mValueError\u001b[0m                                Traceback (most recent call last)",
      "Input \u001b[1;32mIn [121]\u001b[0m, in \u001b[0;36m<cell line: 1>\u001b[1;34m()\u001b[0m\n\u001b[1;32m----> 1\u001b[0m \u001b[43mf\u001b[49m\u001b[38;5;241;43m.\u001b[39;49m\u001b[43mread\u001b[49m\u001b[43m(\u001b[49m\u001b[43m)\u001b[49m\n",
      "\u001b[1;31mValueError\u001b[0m: I/O operation on closed file."
     ]
    }
   ],
   "source": [
    "f.read()"
   ]
  },
  {
   "cell_type": "code",
   "execution_count": 123,
   "id": "8d052ccd",
   "metadata": {},
   "outputs": [
    {
     "ename": "AttributeError",
     "evalue": "'_io.TextIOWrapper' object has no attribute 'open'",
     "output_type": "error",
     "traceback": [
      "\u001b[1;31m---------------------------------------------------------------------------\u001b[0m",
      "\u001b[1;31mAttributeError\u001b[0m                            Traceback (most recent call last)",
      "Input \u001b[1;32mIn [123]\u001b[0m, in \u001b[0;36m<cell line: 1>\u001b[1;34m()\u001b[0m\n\u001b[1;32m----> 1\u001b[0m \u001b[43mf\u001b[49m\u001b[38;5;241;43m.\u001b[39;49m\u001b[43mopen\u001b[49m(\u001b[38;5;124m\"\u001b[39m\u001b[38;5;124mtest.txt\u001b[39m\u001b[38;5;124m\"\u001b[39m,\u001b[38;5;124m'\u001b[39m\u001b[38;5;124ma\u001b[39m\u001b[38;5;124m'\u001b[39m)\n",
      "\u001b[1;31mAttributeError\u001b[0m: '_io.TextIOWrapper' object has no attribute 'open'"
     ]
    }
   ],
   "source": [
    "f.open(\"test.txt\",'a')"
   ]
  },
  {
   "cell_type": "code",
   "execution_count": 124,
   "id": "6d3a7f77",
   "metadata": {},
   "outputs": [
    {
     "ename": "ValueError",
     "evalue": "I/O operation on closed file.",
     "output_type": "error",
     "traceback": [
      "\u001b[1;31m---------------------------------------------------------------------------\u001b[0m",
      "\u001b[1;31mValueError\u001b[0m                                Traceback (most recent call last)",
      "Input \u001b[1;32mIn [124]\u001b[0m, in \u001b[0;36m<cell line: 1>\u001b[1;34m()\u001b[0m\n\u001b[1;32m----> 1\u001b[0m \u001b[43mf\u001b[49m\u001b[38;5;241;43m.\u001b[39;49m\u001b[43mseek\u001b[49m\u001b[43m(\u001b[49m\u001b[38;5;241;43m0\u001b[39;49m\u001b[43m)\u001b[49m\n",
      "\u001b[1;31mValueError\u001b[0m: I/O operation on closed file."
     ]
    }
   ],
   "source": [
    "f.seek(0)"
   ]
  },
  {
   "cell_type": "code",
   "execution_count": 126,
   "id": "5f350c55",
   "metadata": {},
   "outputs": [],
   "source": [
    "f=open('test.txt')"
   ]
  },
  {
   "cell_type": "code",
   "execution_count": 127,
   "id": "f3cbf133",
   "metadata": {},
   "outputs": [
    {
     "data": {
      "text/plain": [
       "[\"Experienced Sr. Data Associate with over 9 years of experience working with an MNC offering in-depth essential data and insights to customers. Veteran 'people manager- operations' with demonstrated leadership abilities, strategic planning expertise, and problem-solving acumen while carrying a 'client-first' as well as 'people-first' mindset. Astute, calculating, and attentive to specific business requirements. Successful history of identifying patterns, making interpretations, and producing reports. Skills in setting up databases and other frameworks, managing systems, and aligning procedures with business needs.\\n\",\n",
       " '\\n',\n",
       " 'Ready to tackle new challenges and build success with an exciting organization.Jaymil Vyas\\n',\n",
       " 'Senior Data Associate | Experienced People Manager | Computer Vision | Stats | ML Ops | Operations | Python Programming | Data Science & Analytics I MySQL | Power BI & Tableau | Certified LEAN Facilitator']"
      ]
     },
     "execution_count": 127,
     "metadata": {},
     "output_type": "execute_result"
    }
   ],
   "source": [
    "f.readlines()"
   ]
  },
  {
   "cell_type": "code",
   "execution_count": 128,
   "id": "d528fc58",
   "metadata": {},
   "outputs": [],
   "source": [
    "#map, reduce, filter"
   ]
  },
  {
   "cell_type": "code",
   "execution_count": 130,
   "id": "1b882966",
   "metadata": {},
   "outputs": [],
   "source": [
    "l=[2,3,55,6,7,9]\n",
    "l1=[]\n",
    "for i in l:\n",
    "    l1.append(i**2)"
   ]
  },
  {
   "cell_type": "code",
   "execution_count": 131,
   "id": "6f8d7d79",
   "metadata": {},
   "outputs": [
    {
     "data": {
      "text/plain": [
       "[4, 9, 3025, 36, 49, 81]"
      ]
     },
     "execution_count": 131,
     "metadata": {},
     "output_type": "execute_result"
    }
   ],
   "source": [
    "l1"
   ]
  },
  {
   "cell_type": "code",
   "execution_count": 132,
   "id": "08b9f64f",
   "metadata": {},
   "outputs": [],
   "source": [
    "def sq(n):\n",
    "    return n**2"
   ]
  },
  {
   "cell_type": "code",
   "execution_count": 134,
   "id": "2547e4a7",
   "metadata": {},
   "outputs": [
    {
     "data": {
      "text/plain": [
       "[4, 9, 3025, 36, 49, 81]"
      ]
     },
     "execution_count": 134,
     "metadata": {},
     "output_type": "execute_result"
    }
   ],
   "source": [
    "list(map(sq,l))"
   ]
  },
  {
   "cell_type": "code",
   "execution_count": 135,
   "id": "e63e917e",
   "metadata": {},
   "outputs": [
    {
     "data": {
      "text/plain": [
       "<map at 0x21c029d88b0>"
      ]
     },
     "execution_count": 135,
     "metadata": {},
     "output_type": "execute_result"
    }
   ],
   "source": [
    "map(lambda x:x**2,l)"
   ]
  },
  {
   "cell_type": "code",
   "execution_count": 136,
   "id": "a2571d1d",
   "metadata": {},
   "outputs": [
    {
     "data": {
      "text/plain": [
       "[4, 9, 3025, 36, 49, 81]"
      ]
     },
     "execution_count": 136,
     "metadata": {},
     "output_type": "execute_result"
    }
   ],
   "source": [
    "list(map(lambda x:x**2,l))"
   ]
  },
  {
   "cell_type": "code",
   "execution_count": 137,
   "id": "dbd04db1",
   "metadata": {},
   "outputs": [
    {
     "data": {
      "text/plain": [
       "['2', '3', '55', '6', '7', '9']"
      ]
     },
     "execution_count": 137,
     "metadata": {},
     "output_type": "execute_result"
    }
   ],
   "source": [
    "list(map(lambda x:str(x),l))"
   ]
  },
  {
   "cell_type": "code",
   "execution_count": 138,
   "id": "b0bfb117",
   "metadata": {},
   "outputs": [],
   "source": [
    "def str_c(n):\n",
    "    return str(n)"
   ]
  },
  {
   "cell_type": "code",
   "execution_count": 139,
   "id": "30c3e728",
   "metadata": {},
   "outputs": [
    {
     "data": {
      "text/plain": [
       "['2', '3', '55', '6', '7', '9']"
      ]
     },
     "execution_count": 139,
     "metadata": {},
     "output_type": "execute_result"
    }
   ],
   "source": [
    "list(map(str_c,l))"
   ]
  },
  {
   "cell_type": "code",
   "execution_count": 140,
   "id": "854cd831",
   "metadata": {},
   "outputs": [],
   "source": [
    "from functools import reduce"
   ]
  },
  {
   "cell_type": "code",
   "execution_count": 141,
   "id": "81056a2f",
   "metadata": {},
   "outputs": [],
   "source": [
    "l=[3,4,5,6,7,8,9]"
   ]
  },
  {
   "cell_type": "code",
   "execution_count": 142,
   "id": "5c70321e",
   "metadata": {},
   "outputs": [
    {
     "data": {
      "text/plain": [
       "42"
      ]
     },
     "execution_count": 142,
     "metadata": {},
     "output_type": "execute_result"
    }
   ],
   "source": [
    "sum(l)"
   ]
  },
  {
   "cell_type": "code",
   "execution_count": 144,
   "id": "779937ee",
   "metadata": {},
   "outputs": [
    {
     "data": {
      "text/plain": [
       "42"
      ]
     },
     "execution_count": 144,
     "metadata": {},
     "output_type": "execute_result"
    }
   ],
   "source": [
    "reduce(lambda a,b:a+b,l)"
   ]
  },
  {
   "cell_type": "code",
   "execution_count": 145,
   "id": "62bbf3cd",
   "metadata": {},
   "outputs": [],
   "source": [
    "l3=[3]"
   ]
  },
  {
   "cell_type": "code",
   "execution_count": 146,
   "id": "c17e8be2",
   "metadata": {},
   "outputs": [
    {
     "data": {
      "text/plain": [
       "3"
      ]
     },
     "execution_count": 146,
     "metadata": {},
     "output_type": "execute_result"
    }
   ],
   "source": [
    "reduce(lambda a,b:a*b,l3)"
   ]
  },
  {
   "cell_type": "code",
   "execution_count": 147,
   "id": "662cfc3f",
   "metadata": {},
   "outputs": [],
   "source": [
    "l=[1,2,3,4,45,5]"
   ]
  },
  {
   "cell_type": "code",
   "execution_count": 148,
   "id": "aec0a156",
   "metadata": {},
   "outputs": [
    {
     "data": {
      "text/plain": [
       "[1, 3, 45, 5]"
      ]
     },
     "execution_count": 148,
     "metadata": {},
     "output_type": "execute_result"
    }
   ],
   "source": [
    "list(filter(lambda x:x%2,l))"
   ]
  },
  {
   "cell_type": "code",
   "execution_count": 149,
   "id": "425613c9",
   "metadata": {},
   "outputs": [],
   "source": [
    "def check_even(n):\n",
    "    if n%2==0:\n",
    "        return True"
   ]
  },
  {
   "cell_type": "code",
   "execution_count": 150,
   "id": "e557ef82",
   "metadata": {},
   "outputs": [
    {
     "data": {
      "text/plain": [
       "[2, 4]"
      ]
     },
     "execution_count": 150,
     "metadata": {},
     "output_type": "execute_result"
    }
   ],
   "source": [
    "list(filter(check_even,l))"
   ]
  },
  {
   "cell_type": "code",
   "execution_count": null,
   "id": "5fd726fa",
   "metadata": {},
   "outputs": [],
   "source": []
  }
 ],
 "metadata": {
  "kernelspec": {
   "display_name": "Python 3 (ipykernel)",
   "language": "python",
   "name": "python3"
  },
  "language_info": {
   "codemirror_mode": {
    "name": "ipython",
    "version": 3
   },
   "file_extension": ".py",
   "mimetype": "text/x-python",
   "name": "python",
   "nbconvert_exporter": "python",
   "pygments_lexer": "ipython3",
   "version": "3.9.12"
  }
 },
 "nbformat": 4,
 "nbformat_minor": 5
}
