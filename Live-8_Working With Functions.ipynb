{
 "cells": [
  {
   "cell_type": "code",
   "execution_count": 1,
   "id": "285177cd",
   "metadata": {},
   "outputs": [],
   "source": [
    "def test(a,b):\n",
    "    return a+b"
   ]
  },
  {
   "cell_type": "code",
   "execution_count": 2,
   "id": "167413af",
   "metadata": {},
   "outputs": [
    {
     "data": {
      "text/plain": [
       "15"
      ]
     },
     "execution_count": 2,
     "metadata": {},
     "output_type": "execute_result"
    }
   ],
   "source": [
    "test(10,5)"
   ]
  },
  {
   "cell_type": "code",
   "execution_count": 3,
   "id": "fb49b613",
   "metadata": {},
   "outputs": [
    {
     "data": {
      "text/plain": [
       "'Jaymil Vyas'"
      ]
     },
     "execution_count": 3,
     "metadata": {},
     "output_type": "execute_result"
    }
   ],
   "source": [
    "test(\"Jaymil \",\"Vyas\")"
   ]
  },
  {
   "cell_type": "code",
   "execution_count": 4,
   "id": "471dd87a",
   "metadata": {},
   "outputs": [
    {
     "data": {
      "text/plain": [
       "11"
      ]
     },
     "execution_count": 4,
     "metadata": {},
     "output_type": "execute_result"
    }
   ],
   "source": [
    "test(b=5,a=6)"
   ]
  },
  {
   "cell_type": "code",
   "execution_count": 7,
   "id": "733d4ad8",
   "metadata": {},
   "outputs": [
    {
     "data": {
      "text/plain": [
       "str"
      ]
     },
     "execution_count": 7,
     "metadata": {},
     "output_type": "execute_result"
    }
   ],
   "source": [
    "type(test(\"Jaymil \",\"Vyas\"))"
   ]
  },
  {
   "cell_type": "code",
   "execution_count": 8,
   "id": "5782a80a",
   "metadata": {},
   "outputs": [],
   "source": [
    "def test(a,b):\n",
    "    '''this is my function for concatination or addition'''\n",
    "    return a+b"
   ]
  },
  {
   "cell_type": "code",
   "execution_count": 9,
   "id": "c70abc86",
   "metadata": {},
   "outputs": [
    {
     "data": {
      "text/plain": [
       "33"
      ]
     },
     "execution_count": 9,
     "metadata": {},
     "output_type": "execute_result"
    }
   ],
   "source": [
    "test(11,22)"
   ]
  },
  {
   "cell_type": "code",
   "execution_count": 10,
   "id": "b96f8f6b",
   "metadata": {},
   "outputs": [],
   "source": [
    "def test1(a,b,c,d,e):\n",
    "    return a,b,c,d,e"
   ]
  },
  {
   "cell_type": "code",
   "execution_count": 12,
   "id": "361ff457",
   "metadata": {},
   "outputs": [
    {
     "data": {
      "text/plain": [
       "(3, 4, 5, 6, 7)"
      ]
     },
     "execution_count": 12,
     "metadata": {},
     "output_type": "execute_result"
    }
   ],
   "source": [
    "test1(3,4,5,6,7)"
   ]
  },
  {
   "cell_type": "code",
   "execution_count": 13,
   "id": "bde87dd3",
   "metadata": {},
   "outputs": [
    {
     "ename": "TypeError",
     "evalue": "test1() missing 4 required positional arguments: 'b', 'c', 'd', and 'e'",
     "output_type": "error",
     "traceback": [
      "\u001b[1;31m---------------------------------------------------------------------------\u001b[0m",
      "\u001b[1;31mTypeError\u001b[0m                                 Traceback (most recent call last)",
      "Input \u001b[1;32mIn [13]\u001b[0m, in \u001b[0;36m<cell line: 1>\u001b[1;34m()\u001b[0m\n\u001b[1;32m----> 1\u001b[0m \u001b[43mtest1\u001b[49m\u001b[43m(\u001b[49m\u001b[38;5;124;43m\"\u001b[39;49m\u001b[38;5;124;43mJimmy\u001b[39;49m\u001b[38;5;124;43m\"\u001b[39;49m\u001b[43m)\u001b[49m\n",
      "\u001b[1;31mTypeError\u001b[0m: test1() missing 4 required positional arguments: 'b', 'c', 'd', and 'e'"
     ]
    }
   ],
   "source": [
    "test1(\"Jimmy\")"
   ]
  },
  {
   "cell_type": "code",
   "execution_count": 14,
   "id": "190b82f7",
   "metadata": {},
   "outputs": [],
   "source": [
    "def test(*a):\n",
    "    return a"
   ]
  },
  {
   "cell_type": "code",
   "execution_count": 15,
   "id": "173c1b6a",
   "metadata": {},
   "outputs": [
    {
     "data": {
      "text/plain": [
       "(3, 4, 5, 6, 7, 8, 8, 9, 1, 2, 3)"
      ]
     },
     "execution_count": 15,
     "metadata": {},
     "output_type": "execute_result"
    }
   ],
   "source": [
    "test(3,4,5,6,7,8,8,9,1,2,3)"
   ]
  },
  {
   "cell_type": "code",
   "execution_count": 17,
   "id": "1c0dd9cb",
   "metadata": {},
   "outputs": [
    {
     "data": {
      "text/plain": [
       "('J', 'Vyas', 'k')"
      ]
     },
     "execution_count": 17,
     "metadata": {},
     "output_type": "execute_result"
    }
   ],
   "source": [
    "test(\"J\",\"Vyas\",\"k\")"
   ]
  },
  {
   "cell_type": "code",
   "execution_count": 18,
   "id": "43f85cf2",
   "metadata": {},
   "outputs": [],
   "source": [
    "def test4(*args):\n",
    "    return args"
   ]
  },
  {
   "cell_type": "code",
   "execution_count": 19,
   "id": "94c3dc8f",
   "metadata": {},
   "outputs": [
    {
     "data": {
      "text/plain": [
       "(1, 2, 3, 4654564, 65, 9, 78)"
      ]
     },
     "execution_count": 19,
     "metadata": {},
     "output_type": "execute_result"
    }
   ],
   "source": [
    "test4(1,2,3,4654564,65,9,78)"
   ]
  },
  {
   "cell_type": "code",
   "execution_count": 23,
   "id": "7f100b58",
   "metadata": {},
   "outputs": [],
   "source": [
    "def test5(*args):\n",
    "    '''This is the function which can convert the input in to a list'''\n",
    "    l=[]\n",
    "    for i in args:\n",
    "        l.append(i)\n",
    "    return l\n",
    "        "
   ]
  },
  {
   "cell_type": "code",
   "execution_count": 22,
   "id": "dd3c30b8",
   "metadata": {},
   "outputs": [
    {
     "data": {
      "text/plain": [
       "[5, 8, 3, 6, 9, 'Jimmy']"
      ]
     },
     "execution_count": 22,
     "metadata": {},
     "output_type": "execute_result"
    }
   ],
   "source": [
    "test5(5,8,3,6,9,\"Jimmy\")"
   ]
  },
  {
   "cell_type": "code",
   "execution_count": 24,
   "id": "8ca0d25c",
   "metadata": {},
   "outputs": [],
   "source": [
    "def test6(a,b,c,d,*args):\n",
    "    '''this is '''\n",
    "    return a,b,c,d,args"
   ]
  },
  {
   "cell_type": "code",
   "execution_count": 25,
   "id": "86fdc12f",
   "metadata": {},
   "outputs": [
    {
     "data": {
      "text/plain": [
       "(3, 4, 5, 6, (9, 7, 77, 88, 99, 66, 33, 44))"
      ]
     },
     "execution_count": 25,
     "metadata": {},
     "output_type": "execute_result"
    }
   ],
   "source": [
    "test6(3,4,5,6,9,7,77,88,99,66,33,44)"
   ]
  },
  {
   "cell_type": "code",
   "execution_count": 26,
   "id": "0c06d943",
   "metadata": {},
   "outputs": [],
   "source": [
    "def test7(*args,a,b,c,d,e):\n",
    "    return args,a,b,c,d,e"
   ]
  },
  {
   "cell_type": "code",
   "execution_count": 27,
   "id": "500d7263",
   "metadata": {},
   "outputs": [
    {
     "ename": "TypeError",
     "evalue": "test7() missing 5 required keyword-only arguments: 'a', 'b', 'c', 'd', and 'e'",
     "output_type": "error",
     "traceback": [
      "\u001b[1;31m---------------------------------------------------------------------------\u001b[0m",
      "\u001b[1;31mTypeError\u001b[0m                                 Traceback (most recent call last)",
      "Input \u001b[1;32mIn [27]\u001b[0m, in \u001b[0;36m<cell line: 1>\u001b[1;34m()\u001b[0m\n\u001b[1;32m----> 1\u001b[0m \u001b[43mtest7\u001b[49m\u001b[43m(\u001b[49m\u001b[38;5;241;43m55\u001b[39;49m\u001b[43m,\u001b[49m\u001b[38;5;241;43m88\u001b[39;49m\u001b[43m,\u001b[49m\u001b[38;5;241;43m66\u001b[39;49m\u001b[43m,\u001b[49m\u001b[38;5;241;43m99\u001b[39;49m\u001b[43m,\u001b[49m\u001b[38;5;241;43m2\u001b[39;49m\u001b[43m,\u001b[49m\u001b[38;5;241;43m5\u001b[39;49m\u001b[43m,\u001b[49m\u001b[38;5;241;43m7\u001b[39;49m\u001b[43m,\u001b[49m\u001b[38;5;241;43m8\u001b[39;49m\u001b[43m,\u001b[49m\u001b[38;5;241;43m9\u001b[39;49m\u001b[43m,\u001b[49m\u001b[38;5;241;43m6\u001b[39;49m\u001b[43m,\u001b[49m\u001b[38;5;241;43m3\u001b[39;49m\u001b[43m,\u001b[49m\u001b[38;5;241;43m1\u001b[39;49m\u001b[43m,\u001b[49m\u001b[38;5;241;43m0\u001b[39;49m\u001b[43m)\u001b[49m\n",
      "\u001b[1;31mTypeError\u001b[0m: test7() missing 5 required keyword-only arguments: 'a', 'b', 'c', 'd', and 'e'"
     ]
    }
   ],
   "source": [
    "test7(55,88,66,99,2,5,7,8,9,6,3,1,0)"
   ]
  },
  {
   "cell_type": "code",
   "execution_count": 29,
   "id": "7f3449df",
   "metadata": {},
   "outputs": [
    {
     "data": {
      "text/plain": [
       "((55, 88, 66, 99, 2, 5, 7, 8), 9, 6, 3, 1, 0)"
      ]
     },
     "execution_count": 29,
     "metadata": {},
     "output_type": "execute_result"
    }
   ],
   "source": [
    "test7(55,88,66,99,2,5,7,8,a=9,b=6,c=3,d=1,e=0)"
   ]
  },
  {
   "cell_type": "code",
   "execution_count": 33,
   "id": "ed4198a2",
   "metadata": {},
   "outputs": [],
   "source": [
    "def test8(**kwargs):\n",
    "    '''this is my dictionary function'''\n",
    "    return kwargs"
   ]
  },
  {
   "cell_type": "code",
   "execution_count": 31,
   "id": "c30f28df",
   "metadata": {},
   "outputs": [
    {
     "ename": "TypeError",
     "evalue": "test8() takes 0 positional arguments but 7 were given",
     "output_type": "error",
     "traceback": [
      "\u001b[1;31m---------------------------------------------------------------------------\u001b[0m",
      "\u001b[1;31mTypeError\u001b[0m                                 Traceback (most recent call last)",
      "Input \u001b[1;32mIn [31]\u001b[0m, in \u001b[0;36m<cell line: 1>\u001b[1;34m()\u001b[0m\n\u001b[1;32m----> 1\u001b[0m \u001b[43mtest8\u001b[49m\u001b[43m(\u001b[49m\u001b[38;5;241;43m5\u001b[39;49m\u001b[43m,\u001b[49m\u001b[38;5;241;43m4\u001b[39;49m\u001b[43m,\u001b[49m\u001b[38;5;241;43m6\u001b[39;49m\u001b[43m,\u001b[49m\u001b[38;5;241;43m9\u001b[39;49m\u001b[43m,\u001b[49m\u001b[38;5;241;43m8\u001b[39;49m\u001b[43m,\u001b[49m\u001b[38;5;241;43m7\u001b[39;49m\u001b[43m,\u001b[49m\u001b[38;5;241;43m9\u001b[39;49m\u001b[43m)\u001b[49m\n",
      "\u001b[1;31mTypeError\u001b[0m: test8() takes 0 positional arguments but 7 were given"
     ]
    }
   ],
   "source": [
    "test8(5,4,6,9,8,7,9)"
   ]
  },
  {
   "cell_type": "code",
   "execution_count": 34,
   "id": "bd02389e",
   "metadata": {},
   "outputs": [
    {
     "data": {
      "text/plain": [
       "{'a': 4, 'b': 5, 'c': 99, 'd': 99, 'e': 98}"
      ]
     },
     "execution_count": 34,
     "metadata": {},
     "output_type": "execute_result"
    }
   ],
   "source": [
    "test8(a=4,b=5,c=99,d=99,e=98)"
   ]
  },
  {
   "cell_type": "code",
   "execution_count": 35,
   "id": "7705c2b6",
   "metadata": {},
   "outputs": [],
   "source": [
    "d={'a': 4, 'b': 5, 'c': 99, 'd': 99, 'e': 98}"
   ]
  },
  {
   "cell_type": "code",
   "execution_count": 36,
   "id": "e4735366",
   "metadata": {},
   "outputs": [
    {
     "ename": "TypeError",
     "evalue": "test8() takes 0 positional arguments but 1 was given",
     "output_type": "error",
     "traceback": [
      "\u001b[1;31m---------------------------------------------------------------------------\u001b[0m",
      "\u001b[1;31mTypeError\u001b[0m                                 Traceback (most recent call last)",
      "Input \u001b[1;32mIn [36]\u001b[0m, in \u001b[0;36m<cell line: 1>\u001b[1;34m()\u001b[0m\n\u001b[1;32m----> 1\u001b[0m \u001b[43mtest8\u001b[49m\u001b[43m(\u001b[49m\u001b[43md\u001b[49m\u001b[43m)\u001b[49m\n",
      "\u001b[1;31mTypeError\u001b[0m: test8() takes 0 positional arguments but 1 was given"
     ]
    }
   ],
   "source": [
    "test8(d)"
   ]
  },
  {
   "cell_type": "code",
   "execution_count": 37,
   "id": "1d4828ed",
   "metadata": {},
   "outputs": [],
   "source": [
    "def test9(*args,**kwargs):\n",
    "    return args,kwargs"
   ]
  },
  {
   "cell_type": "code",
   "execution_count": 39,
   "id": "b4f6e317",
   "metadata": {},
   "outputs": [
    {
     "data": {
      "text/plain": [
       "((456, 789, 132, 5, 6, 4, 7), {'a': 8, 'b': 9})"
      ]
     },
     "execution_count": 39,
     "metadata": {},
     "output_type": "execute_result"
    }
   ],
   "source": [
    "test9(456,789,132,5,6,4,7,a=8,b=9)"
   ]
  },
  {
   "cell_type": "code",
   "execution_count": 47,
   "id": "f2674997",
   "metadata": {},
   "outputs": [],
   "source": [
    "def test10(*args):\n",
    "    n=1\n",
    "    for i in args:\n",
    "        if type(i)==int:\n",
    "            n=n*i\n",
    "    return n"
   ]
  },
  {
   "cell_type": "code",
   "execution_count": 50,
   "id": "61076a3a",
   "metadata": {},
   "outputs": [
    {
     "data": {
      "text/plain": [
       "24"
      ]
     },
     "execution_count": 50,
     "metadata": {},
     "output_type": "execute_result"
    }
   ],
   "source": [
    "test10(1,2,3,4)"
   ]
  },
  {
   "cell_type": "code",
   "execution_count": 52,
   "id": "de3eb273",
   "metadata": {},
   "outputs": [],
   "source": [
    "n=lambda a,b:a+b"
   ]
  },
  {
   "cell_type": "code",
   "execution_count": 53,
   "id": "b7387a53",
   "metadata": {},
   "outputs": [
    {
     "data": {
      "text/plain": [
       "<function __main__.<lambda>(a, b)>"
      ]
     },
     "execution_count": 53,
     "metadata": {},
     "output_type": "execute_result"
    }
   ],
   "source": [
    "n"
   ]
  },
  {
   "cell_type": "code",
   "execution_count": 54,
   "id": "640648e3",
   "metadata": {},
   "outputs": [
    {
     "data": {
      "text/plain": [
       "9"
      ]
     },
     "execution_count": 54,
     "metadata": {},
     "output_type": "execute_result"
    }
   ],
   "source": [
    "n(4,5)"
   ]
  },
  {
   "cell_type": "code",
   "execution_count": 55,
   "id": "392606c9",
   "metadata": {},
   "outputs": [],
   "source": [
    "def test12(a,b):\n",
    "    return a+b"
   ]
  },
  {
   "cell_type": "code",
   "execution_count": 56,
   "id": "61a9989a",
   "metadata": {},
   "outputs": [
    {
     "data": {
      "text/plain": [
       "9"
      ]
     },
     "execution_count": 56,
     "metadata": {},
     "output_type": "execute_result"
    }
   ],
   "source": [
    "test12(4,5)"
   ]
  },
  {
   "cell_type": "code",
   "execution_count": 61,
   "id": "67d65829",
   "metadata": {},
   "outputs": [
    {
     "data": {
      "text/plain": [
       "559"
      ]
     },
     "execution_count": 61,
     "metadata": {},
     "output_type": "execute_result"
    }
   ],
   "source": [
    "n(4,555)"
   ]
  },
  {
   "cell_type": "code",
   "execution_count": 70,
   "id": "49586e8e",
   "metadata": {},
   "outputs": [],
   "source": [
    "b=lambda *Jimmy : Jimmy"
   ]
  },
  {
   "cell_type": "code",
   "execution_count": 71,
   "id": "234fc4ce",
   "metadata": {},
   "outputs": [
    {
     "data": {
      "text/plain": [
       "(45, 4, 66, 99, 8)"
      ]
     },
     "execution_count": 71,
     "metadata": {},
     "output_type": "execute_result"
    }
   ],
   "source": [
    "b(45,4,66,99,8)"
   ]
  },
  {
   "cell_type": "code",
   "execution_count": 73,
   "id": "81ba8451",
   "metadata": {},
   "outputs": [],
   "source": [
    "t=(2,5,0,23,45,89,87,54)\n",
    "l=[]\n",
    "for i in t:\n",
    "   l.append(i)\n",
    "   "
   ]
  },
  {
   "cell_type": "code",
   "execution_count": 74,
   "id": "3f4fcf7b",
   "metadata": {},
   "outputs": [
    {
     "data": {
      "text/plain": [
       "[2, 5, 0, 23, 45, 89, 87, 54]"
      ]
     },
     "execution_count": 74,
     "metadata": {},
     "output_type": "execute_result"
    }
   ],
   "source": [
    "l"
   ]
  },
  {
   "cell_type": "code",
   "execution_count": 75,
   "id": "bac1dea9",
   "metadata": {},
   "outputs": [
    {
     "data": {
      "text/plain": [
       "[2, 5, 0, 23, 45, 89, 87, 54]"
      ]
     },
     "execution_count": 75,
     "metadata": {},
     "output_type": "execute_result"
    }
   ],
   "source": [
    "[i for i in t]"
   ]
  },
  {
   "cell_type": "code",
   "execution_count": 76,
   "id": "9e04827c",
   "metadata": {},
   "outputs": [],
   "source": [
    "J=\"Jimmy\""
   ]
  },
  {
   "cell_type": "code",
   "execution_count": 77,
   "id": "7dbf9642",
   "metadata": {},
   "outputs": [
    {
     "data": {
      "text/plain": [
       "['J', 'i', 'm', 'm', 'y']"
      ]
     },
     "execution_count": 77,
     "metadata": {},
     "output_type": "execute_result"
    }
   ],
   "source": [
    "[i for i in J]"
   ]
  },
  {
   "cell_type": "code",
   "execution_count": 78,
   "id": "f82b80d3",
   "metadata": {},
   "outputs": [
    {
     "data": {
      "text/plain": [
       "[0, 1, 4, 9, 16, 25, 36, 49, 64, 81]"
      ]
     },
     "execution_count": 78,
     "metadata": {},
     "output_type": "execute_result"
    }
   ],
   "source": [
    "[i*i for i in range(10)]"
   ]
  },
  {
   "cell_type": "code",
   "execution_count": 79,
   "id": "2a583bf8",
   "metadata": {},
   "outputs": [],
   "source": [
    "l=[]\n",
    "for i in range(10):\n",
    "    l.append(i*i)"
   ]
  },
  {
   "cell_type": "code",
   "execution_count": 80,
   "id": "dbb820a7",
   "metadata": {},
   "outputs": [
    {
     "data": {
      "text/plain": [
       "[0, 1, 4, 9, 16, 25, 36, 49, 64, 81]"
      ]
     },
     "execution_count": 80,
     "metadata": {},
     "output_type": "execute_result"
    }
   ],
   "source": [
    "l"
   ]
  },
  {
   "cell_type": "code",
   "execution_count": 81,
   "id": "f0d89fcc",
   "metadata": {},
   "outputs": [],
   "source": [
    "l=lambda *x: [i for i in x]"
   ]
  },
  {
   "cell_type": "code",
   "execution_count": 82,
   "id": "caa3ef9e",
   "metadata": {},
   "outputs": [
    {
     "data": {
      "text/plain": [
       "[4, 45, 6, 89, 7, 65]"
      ]
     },
     "execution_count": 82,
     "metadata": {},
     "output_type": "execute_result"
    }
   ],
   "source": [
    "l(4,45,6,89,7,65)"
   ]
  },
  {
   "cell_type": "code",
   "execution_count": 83,
   "id": "2476a62b",
   "metadata": {},
   "outputs": [],
   "source": [
    "l=lambda *x: [i**2 for i in x]"
   ]
  },
  {
   "cell_type": "code",
   "execution_count": 85,
   "id": "66be0b49",
   "metadata": {},
   "outputs": [
    {
     "data": {
      "text/plain": [
       "[16, 2025, 36, 7921, 49, 4225]"
      ]
     },
     "execution_count": 85,
     "metadata": {},
     "output_type": "execute_result"
    }
   ],
   "source": [
    "l(4,45,6,89,7,65)"
   ]
  },
  {
   "cell_type": "code",
   "execution_count": 86,
   "id": "6371e1b0",
   "metadata": {},
   "outputs": [],
   "source": [
    "l=lambda *args: [i-1 for i in args]"
   ]
  },
  {
   "cell_type": "code",
   "execution_count": 87,
   "id": "4fd05252",
   "metadata": {},
   "outputs": [
    {
     "data": {
      "text/plain": [
       "[3, 4, 5, 7, 8, 21]"
      ]
     },
     "execution_count": 87,
     "metadata": {},
     "output_type": "execute_result"
    }
   ],
   "source": [
    "l(4,5,6,8,9,22)"
   ]
  },
  {
   "cell_type": "code",
   "execution_count": 89,
   "id": "666599bd",
   "metadata": {},
   "outputs": [
    {
     "ename": "NameError",
     "evalue": "name 'test14' is not defined",
     "output_type": "error",
     "traceback": [
      "\u001b[1;31m---------------------------------------------------------------------------\u001b[0m",
      "\u001b[1;31mNameError\u001b[0m                                 Traceback (most recent call last)",
      "Input \u001b[1;32mIn [89]\u001b[0m, in \u001b[0;36m<cell line: 1>\u001b[1;34m()\u001b[0m\n\u001b[1;32m----> 1\u001b[0m \u001b[43mtest14\u001b[49m(a\u001b[38;5;241m=\u001b[39m\u001b[38;5;241m7\u001b[39m,b\u001b[38;5;241m=\u001b[39m\u001b[38;5;124m\"\u001b[39m\u001b[38;5;124mJimmy\u001b[39m\u001b[38;5;124m\"\u001b[39m,c\u001b[38;5;241m=\u001b[39m\u001b[38;5;241m654\u001b[39m,d\u001b[38;5;241m=\u001b[39m\u001b[38;5;124m\"\u001b[39m\u001b[38;5;124mVyas\u001b[39m\u001b[38;5;124m\"\u001b[39m,e\u001b[38;5;241m=\u001b[39m[\u001b[38;5;241m2\u001b[39m,\u001b[38;5;241m3\u001b[39m,\u001b[38;5;241m4\u001b[39m,\u001b[38;5;241m5\u001b[39m,\u001b[38;5;124m\"\u001b[39m\u001b[38;5;124mJaymil\u001b[39m\u001b[38;5;124m\"\u001b[39m])\n",
      "\u001b[1;31mNameError\u001b[0m: name 'test14' is not defined"
     ]
    }
   ],
   "source": [
    "test14(a=7,b=\"Jimmy\",c=654,d=\"Vyas\",e=[2,3,4,5,\"Jaymil\"])"
   ]
  },
  {
   "cell_type": "code",
   "execution_count": 112,
   "id": "b8cd2720",
   "metadata": {},
   "outputs": [],
   "source": [
    "def test14(**kwargs):\n",
    "    n=0\n",
    "    for i in kwargs.values():\n",
    "        if type(i)==str or type(i)==list:\n",
    "            n=n+1\n",
    "    return n"
   ]
  },
  {
   "cell_type": "code",
   "execution_count": 113,
   "id": "5400e6b5",
   "metadata": {},
   "outputs": [
    {
     "data": {
      "text/plain": [
       "3"
      ]
     },
     "execution_count": 113,
     "metadata": {},
     "output_type": "execute_result"
    }
   ],
   "source": [
    "test14(a=7,b=\"Jimmy\",c=654,d=\"Vyas\",e=[2,3,4,5,\"Jaymil\"])"
   ]
  },
  {
   "cell_type": "code",
   "execution_count": 114,
   "id": "a21ecf55",
   "metadata": {},
   "outputs": [],
   "source": [
    "def test15(**kwargs):\n",
    "    return list(kwargs.values())"
   ]
  },
  {
   "cell_type": "code",
   "execution_count": 115,
   "id": "f09fb854",
   "metadata": {},
   "outputs": [
    {
     "data": {
      "text/plain": [
       "[7, 'Jimmy', 654, 'Vyas', [2, 3, 4, 5, 'Jaymil']]"
      ]
     },
     "execution_count": 115,
     "metadata": {},
     "output_type": "execute_result"
    }
   ],
   "source": [
    "test15(a=7,b=\"Jimmy\",c=654,d=\"Vyas\",e=[2,3,4,5,\"Jaymil\"])"
   ]
  },
  {
   "cell_type": "code",
   "execution_count": null,
   "id": "77a2f94f",
   "metadata": {},
   "outputs": [],
   "source": []
  }
 ],
 "metadata": {
  "kernelspec": {
   "display_name": "Python 3 (ipykernel)",
   "language": "python",
   "name": "python3"
  },
  "language_info": {
   "codemirror_mode": {
    "name": "ipython",
    "version": 3
   },
   "file_extension": ".py",
   "mimetype": "text/x-python",
   "name": "python",
   "nbconvert_exporter": "python",
   "pygments_lexer": "ipython3",
   "version": "3.9.12"
  }
 },
 "nbformat": 4,
 "nbformat_minor": 5
}
