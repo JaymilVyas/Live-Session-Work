{
 "cells": [
  {
   "cell_type": "code",
   "execution_count": 7,
   "id": "4ab4e8b5",
   "metadata": {},
   "outputs": [],
   "source": [
    "a=10\n",
    "if a == 11 :\n",
    "    print(\"This Is My First Condition\")"
   ]
  },
  {
   "cell_type": "code",
   "execution_count": 9,
   "id": "74fc3751",
   "metadata": {},
   "outputs": [],
   "source": [
    "a=20\n",
    "if a>5:\n",
    "    pass\n",
    "    "
   ]
  },
  {
   "cell_type": "code",
   "execution_count": 12,
   "id": "1691bab6",
   "metadata": {},
   "outputs": [
    {
     "name": "stdout",
     "output_type": "stream",
     "text": [
      "Success\n"
     ]
    }
   ],
   "source": [
    "a=40\n",
    "if a>25:\n",
    "    print(\"Success\")"
   ]
  },
  {
   "cell_type": "code",
   "execution_count": 16,
   "id": "81cc1aff",
   "metadata": {},
   "outputs": [
    {
     "name": "stdout",
     "output_type": "stream",
     "text": [
      "Failure\n"
     ]
    }
   ],
   "source": [
    "a=50\n",
    "if a!=11:\n",
    "    print(\"Failure\")\n",
    "else:\n",
    "    print(\"Success\")"
   ]
  },
  {
   "cell_type": "code",
   "execution_count": 25,
   "id": "8aa16074",
   "metadata": {},
   "outputs": [
    {
     "name": "stdout",
     "output_type": "stream",
     "text": [
      "If all conditions fail then use this as final result\n"
     ]
    }
   ],
   "source": [
    "a=10\n",
    "if a==12:\n",
    "    print(\"Here we are trying to compare 10 with 12\")\n",
    "elif a==14:\n",
    "    print(\"Here we are trying to compare 10 with 14\")\n",
    "else:\n",
    "    print(\"If all conditions fail then use this as final result\")"
   ]
  },
  {
   "cell_type": "code",
   "execution_count": 35,
   "id": "08c11c80",
   "metadata": {},
   "outputs": [
    {
     "name": "stdout",
     "output_type": "stream",
     "text": [
      "EXACTLY PRICED PRODUCT\n"
     ]
    }
   ],
   "source": [
    "price=500\n",
    "if price>500:\n",
    "    print(\"Too Costly\")\n",
    "elif price<=200:\n",
    "    print(\"Too cheap, we might have quality issues\")\n",
    "elif price>200 and price<500:\n",
    "    print(\"reasonable amount\")\n",
    "else:\n",
    "    print(\"EXACTLY PRICED PRODUCT\")"
   ]
  },
  {
   "cell_type": "code",
   "execution_count": 38,
   "id": "5d9b42e3",
   "metadata": {},
   "outputs": [
    {
     "name": "stdout",
     "output_type": "stream",
     "text": [
      "2 is available\n"
     ]
    }
   ],
   "source": [
    "l=[1,2,3,4,5,6,7]\n",
    "if 2 in l:\n",
    "    print(\"2 is available\")\n",
    "else:\n",
    "    print(\"2 unavailable\")"
   ]
  },
  {
   "cell_type": "code",
   "execution_count": 39,
   "id": "953ce51f",
   "metadata": {},
   "outputs": [
    {
     "data": {
      "text/plain": [
       "[1, 2, 3, 4, 5, 6, 7]"
      ]
     },
     "execution_count": 39,
     "metadata": {},
     "output_type": "execute_result"
    }
   ],
   "source": [
    "l"
   ]
  },
  {
   "cell_type": "code",
   "execution_count": 40,
   "id": "c0515f72",
   "metadata": {},
   "outputs": [],
   "source": [
    "if 1 in l:\n",
    "    l.append(\"condition 1 successful\")\n",
    "else:\n",
    "    l.pop()"
   ]
  },
  {
   "cell_type": "code",
   "execution_count": 41,
   "id": "7ce993e5",
   "metadata": {},
   "outputs": [
    {
     "data": {
      "text/plain": [
       "[1, 2, 3, 4, 5, 6, 7, 'condition 1 successful']"
      ]
     },
     "execution_count": 41,
     "metadata": {},
     "output_type": "execute_result"
    }
   ],
   "source": [
    "l"
   ]
  },
  {
   "cell_type": "code",
   "execution_count": 44,
   "id": "81623862",
   "metadata": {},
   "outputs": [],
   "source": [
    "s=\"Jaymil Vyas's Mobile Number is 9510181016.\""
   ]
  },
  {
   "cell_type": "code",
   "execution_count": 45,
   "id": "86b0fdaf",
   "metadata": {},
   "outputs": [
    {
     "name": "stdout",
     "output_type": "stream",
     "text": [
      "Jordar\n"
     ]
    }
   ],
   "source": [
    "b=input()"
   ]
  },
  {
   "cell_type": "code",
   "execution_count": 46,
   "id": "b383b34a",
   "metadata": {},
   "outputs": [
    {
     "data": {
      "text/plain": [
       "'Jordar'"
      ]
     },
     "execution_count": 46,
     "metadata": {},
     "output_type": "execute_result"
    }
   ],
   "source": [
    "b"
   ]
  },
  {
   "cell_type": "code",
   "execution_count": 47,
   "id": "829eca5f",
   "metadata": {},
   "outputs": [
    {
     "name": "stdout",
     "output_type": "stream",
     "text": [
      "400\n"
     ]
    }
   ],
   "source": [
    "b1=input()"
   ]
  },
  {
   "cell_type": "code",
   "execution_count": 48,
   "id": "e69f0a3f",
   "metadata": {},
   "outputs": [
    {
     "data": {
      "text/plain": [
       "'400'"
      ]
     },
     "execution_count": 48,
     "metadata": {},
     "output_type": "execute_result"
    }
   ],
   "source": [
    "b1"
   ]
  },
  {
   "cell_type": "code",
   "execution_count": 49,
   "id": "fcf8ad27",
   "metadata": {},
   "outputs": [
    {
     "name": "stdout",
     "output_type": "stream",
     "text": [
      "786\n"
     ]
    }
   ],
   "source": [
    "b1=int(input())"
   ]
  },
  {
   "cell_type": "code",
   "execution_count": 50,
   "id": "90a73698",
   "metadata": {},
   "outputs": [
    {
     "data": {
      "text/plain": [
       "786"
      ]
     },
     "execution_count": 50,
     "metadata": {},
     "output_type": "execute_result"
    }
   ],
   "source": [
    "b1"
   ]
  },
  {
   "cell_type": "code",
   "execution_count": 51,
   "id": "6ac9728d",
   "metadata": {},
   "outputs": [
    {
     "data": {
      "text/plain": [
       "int"
      ]
     },
     "execution_count": 51,
     "metadata": {},
     "output_type": "execute_result"
    }
   ],
   "source": [
    "type(b1)"
   ]
  },
  {
   "cell_type": "code",
   "execution_count": 55,
   "id": "13afe420",
   "metadata": {},
   "outputs": [
    {
     "name": "stdout",
     "output_type": "stream",
     "text": [
      "499\n",
      "It is less than my given value\n",
      "Buy Nothing\n"
     ]
    }
   ],
   "source": [
    "c=int(input())\n",
    "if c<500:\n",
    "    print(\"It is less than my given value\")\n",
    "    if c<400:\n",
    "        print(\"Buy the product\")\n",
    "    elif c<300:\n",
    "        print(\"Buy shirt\")\n",
    "    else:\n",
    "        print(\"Buy Nothing\")\n",
    "else:\n",
    "    print(\"all conditions passed\")"
   ]
  },
  {
   "cell_type": "code",
   "execution_count": null,
   "id": "f25cc6f4",
   "metadata": {},
   "outputs": [],
   "source": [
    "Budget=int(input())\n",
    "if Budget<=100:\n",
    "    print(\"You can buy only FMCG with less than or equal to 100 budget\")\n",
    "    if Budget<=30:\n",
    "        Print(\"You can buy Soap and shampoo\")\n",
    "    elif Budget>30 and Budget<70:\n",
    "        Print(\"You can buy Soap, Shampoo and Toothpast\")\n",
    "    else:\n",
    "        print(\"You can buy Soap, Shampoo, Toothpaste and Harpic\")\n",
    "elif Budget>100 and Budget <900:\n",
    "    print(\"You can buy FMCG & Clothes\")\n",
    "    if Budget>=101 and Budget<500:\n",
    "        print(\"You can buy FMCG and Shirt\")\n",
    "    elif Budget>=501 and Budget<=800:\n",
    "        print(\"You can buy FMCG, Shirt and T-Shirt\")\n",
    "    else:\n",
    "        Print(\"You can buy FMCG and ANy 4 Clothes\")\n",
    "else:\n",
    "    Print(\"You have good budget, and you can buy anything in Supermart\")"
   ]
  },
  {
   "cell_type": "code",
   "execution_count": 62,
   "id": "a881c219",
   "metadata": {},
   "outputs": [
    {
     "name": "stdout",
     "output_type": "stream",
     "text": [
      "Enter a floating point number-345\n",
      "It is negetive number\n"
     ]
    }
   ],
   "source": [
    "val=float(input(\"Enter a floating point number\"))\n",
    "if val ==0:\n",
    "    if val==0:\n",
    "        print(\"entered value is zero\")\n",
    "    else:\n",
    "        peint(\"It is positive number\")\n",
    "else:\n",
    "    print(\"It is negetive number\")"
   ]
  },
  {
   "cell_type": "code",
   "execution_count": 18,
   "id": "b345bee6",
   "metadata": {},
   "outputs": [
    {
     "name": "stdout",
     "output_type": "stream",
     "text": [
      "900\n",
      "You have good budget, and you can buy anything in Supermart\n"
     ]
    }
   ],
   "source": [
    "c=int(input())\n",
    "if c<100:\n",
    "    if c>1 and c<31:\n",
    "        print(\"You can buy Soap and shampoo\")\n",
    "    elif c>=31 and c<70:\n",
    "        print(\"You can buy Soap, Shampoo and Toothpast\")\n",
    "    else:\n",
    "        print(\"You can buy Soap, Shampoo, Toothpaste and Harpic\")\n",
    "elif c>100 and c<900:\n",
    "    print(\"You can buy FMCG & Clothes\")\n",
    "    if c>100 and c<500:\n",
    "        print(\"You can buy FMCG and Shirt\")\n",
    "    elif c>500 and c<800:\n",
    "        print(\"You can buy FMCG, Shirt and T-Shirt\")\n",
    "    else:\n",
    "        print(\"You can buy FMCG and ANy 4 Clothes\")\n",
    "else:\n",
    "    print(\"You have good budget, and you can buy anything in Supermart\")"
   ]
  },
  {
   "cell_type": "code",
   "execution_count": null,
   "id": "7d4ed272",
   "metadata": {},
   "outputs": [],
   "source": [
    "500"
   ]
  },
  {
   "cell_type": "code",
   "execution_count": 22,
   "id": "54d15df7",
   "metadata": {},
   "outputs": [
    {
     "name": "stdout",
     "output_type": "stream",
     "text": [
      "try to do something\n"
     ]
    }
   ],
   "source": [
    "a=10\n",
    "if a<10 or a==10:\n",
    "    print(\"try to do something\")"
   ]
  },
  {
   "cell_type": "code",
   "execution_count": 24,
   "id": "40061dc4",
   "metadata": {},
   "outputs": [
    {
     "name": "stdout",
     "output_type": "stream",
     "text": [
      "try to do something\n"
     ]
    }
   ],
   "source": [
    "a=10\n",
    "if a<11 and a==10:\n",
    "    print(\"try to do something\")"
   ]
  },
  {
   "cell_type": "code",
   "execution_count": 28,
   "id": "7c8328c9",
   "metadata": {},
   "outputs": [
    {
     "name": "stdout",
     "output_type": "stream",
     "text": [
      "This is Jaymil or jaymil\n"
     ]
    }
   ],
   "source": [
    "a=\"Jaymil\"\n",
    "if a==\"Jaymil\" or a==\"jaymil\":\n",
    "    print(\"This is Jaymil or jaymil\")"
   ]
  },
  {
   "cell_type": "code",
   "execution_count": 31,
   "id": "52237b5e",
   "metadata": {},
   "outputs": [
    {
     "name": "stdout",
     "output_type": "stream",
     "text": [
      "All conditions met\n"
     ]
    }
   ],
   "source": [
    "a=10\n",
    "b=11\n",
    "c=12\n",
    "d=13\n",
    "if a==9 or b==11 and c==12 and d==13:\n",
    "    print(\"All conditions met\")"
   ]
  },
  {
   "cell_type": "code",
   "execution_count": 32,
   "id": "ce2b640b",
   "metadata": {},
   "outputs": [],
   "source": [
    "d={'Key1':'Value', 'Key2':'Jimmy','Key3':'1989'}"
   ]
  },
  {
   "cell_type": "code",
   "execution_count": 33,
   "id": "4343bf77",
   "metadata": {},
   "outputs": [
    {
     "data": {
      "text/plain": [
       "{'Key1': 'Value', 'Key2': 'Jimmy', 'Key3': '1989'}"
      ]
     },
     "execution_count": 33,
     "metadata": {},
     "output_type": "execute_result"
    }
   ],
   "source": [
    "d"
   ]
  },
  {
   "cell_type": "code",
   "execution_count": 36,
   "id": "455b86f0",
   "metadata": {},
   "outputs": [
    {
     "name": "stdout",
     "output_type": "stream",
     "text": [
      "All conditions are perfect\n",
      "dict_values(['Value', 'Jimmy', '1989'])\n"
     ]
    }
   ],
   "source": [
    "if d['Key1']=='Value' and d['Key2']=='Jimmy' and d['Key3']=='1989':\n",
    "    print(\"All conditions are perfect\")\n",
    "    print(d.values())"
   ]
  },
  {
   "cell_type": "code",
   "execution_count": 38,
   "id": "09eb1868",
   "metadata": {},
   "outputs": [
    {
     "name": "stdout",
     "output_type": "stream",
     "text": [
      "All conditions are not meeting\n"
     ]
    }
   ],
   "source": [
    "if d['Key1']=='Value' and d['Key2']=='jimmy' and d['Key3']=='1989':\n",
    "    print(\"All conditions are perfect\")\n",
    "    print(d.values())\n",
    "else:\n",
    "    print(\"All conditions are not meeting\")"
   ]
  },
  {
   "cell_type": "code",
   "execution_count": 39,
   "id": "f8c16bef",
   "metadata": {},
   "outputs": [],
   "source": [
    "l=[1,2,3,4,5,6,7,\"Jaymil\",19.89]"
   ]
  },
  {
   "cell_type": "code",
   "execution_count": 40,
   "id": "4d56f0b4",
   "metadata": {},
   "outputs": [
    {
     "data": {
      "text/plain": [
       "[1, 2, 3, 4, 5, 6, 7, 'Jaymil', 19.89]"
      ]
     },
     "execution_count": 40,
     "metadata": {},
     "output_type": "execute_result"
    }
   ],
   "source": [
    "l"
   ]
  },
  {
   "cell_type": "code",
   "execution_count": 41,
   "id": "7792c88b",
   "metadata": {},
   "outputs": [
    {
     "data": {
      "text/plain": [
       "1"
      ]
     },
     "execution_count": 41,
     "metadata": {},
     "output_type": "execute_result"
    }
   ],
   "source": [
    "l[0]"
   ]
  },
  {
   "cell_type": "code",
   "execution_count": 42,
   "id": "7286b6ac",
   "metadata": {},
   "outputs": [
    {
     "data": {
      "text/plain": [
       "[3, 4, 5]"
      ]
     },
     "execution_count": 42,
     "metadata": {},
     "output_type": "execute_result"
    }
   ],
   "source": [
    "l[2:5]"
   ]
  },
  {
   "cell_type": "code",
   "execution_count": 43,
   "id": "cf66aa11",
   "metadata": {},
   "outputs": [
    {
     "name": "stdout",
     "output_type": "stream",
     "text": [
      "1\n",
      "2\n",
      "3\n",
      "4\n",
      "5\n",
      "6\n",
      "7\n",
      "Jaymil\n",
      "19.89\n"
     ]
    }
   ],
   "source": [
    "for i in l:\n",
    "    print(i)"
   ]
  },
  {
   "cell_type": "code",
   "execution_count": 44,
   "id": "046f0b35",
   "metadata": {},
   "outputs": [
    {
     "data": {
      "text/plain": [
       "[1, 2, 3, 4, 5, 6, 7, 'Jaymil', 19.89]"
      ]
     },
     "execution_count": 44,
     "metadata": {},
     "output_type": "execute_result"
    }
   ],
   "source": [
    "l"
   ]
  },
  {
   "cell_type": "code",
   "execution_count": 49,
   "id": "3972b7bd",
   "metadata": {},
   "outputs": [
    {
     "name": "stdout",
     "output_type": "stream",
     "text": [
      "2\n",
      "3\n",
      "4\n",
      "5\n",
      "6\n",
      "7\n",
      "8\n",
      "Jaymil1\n",
      "20.89\n"
     ]
    }
   ],
   "source": [
    "for i in l:\n",
    "    if type(i)==int or type(i)==float:\n",
    "        print(i+1)\n",
    "    elif type(i)==str:\n",
    "        print(i+str(1))"
   ]
  },
  {
   "cell_type": "code",
   "execution_count": 69,
   "id": "423b3d1b",
   "metadata": {},
   "outputs": [
    {
     "data": {
      "text/plain": [
       "['ABC', '', 'EFFG']"
      ]
     },
     "execution_count": 69,
     "metadata": {},
     "output_type": "execute_result"
    }
   ],
   "source": [
    "d=\"ABCDDEFFG\"\n",
    "d.split('D')"
   ]
  },
  {
   "cell_type": "code",
   "execution_count": 62,
   "id": "da780868",
   "metadata": {},
   "outputs": [
    {
     "data": {
      "text/plain": [
       "str"
      ]
     },
     "execution_count": 62,
     "metadata": {},
     "output_type": "execute_result"
    }
   ],
   "source": [
    "type(d)"
   ]
  },
  {
   "cell_type": "code",
   "execution_count": null,
   "id": "c3b0c81f",
   "metadata": {},
   "outputs": [],
   "source": []
  }
 ],
 "metadata": {
  "kernelspec": {
   "display_name": "Python 3 (ipykernel)",
   "language": "python",
   "name": "python3"
  },
  "language_info": {
   "codemirror_mode": {
    "name": "ipython",
    "version": 3
   },
   "file_extension": ".py",
   "mimetype": "text/x-python",
   "name": "python",
   "nbconvert_exporter": "python",
   "pygments_lexer": "ipython3",
   "version": "3.9.12"
  }
 },
 "nbformat": 4,
 "nbformat_minor": 5
}
