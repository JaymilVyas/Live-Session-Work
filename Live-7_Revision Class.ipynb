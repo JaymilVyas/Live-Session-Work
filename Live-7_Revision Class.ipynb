{
 "cells": [
  {
   "cell_type": "code",
   "execution_count": 2,
   "id": "d37206cb",
   "metadata": {},
   "outputs": [
    {
     "data": {
      "text/plain": [
       "'tssyityopgmncsa alrnph rgni ni'"
      ]
     },
     "execution_count": 2,
     "metadata": {},
     "output_type": "execute_result"
    }
   ],
   "source": [
    "s=\"this is my first python programming class and i am learning python string and its function\"\n",
    "s[0:299:3]"
   ]
  },
  {
   "cell_type": "code",
   "execution_count": 7,
   "id": "db1d2c6f",
   "metadata": {},
   "outputs": [
    {
     "data": {
      "text/plain": [
       "['A  b  ', '', 'def  ']"
      ]
     },
     "execution_count": 7,
     "metadata": {},
     "output_type": "execute_result"
    }
   ],
   "source": [
    "s3='A  b  ccdef  '\n",
    "s3.split('c')"
   ]
  },
  {
   "cell_type": "code",
   "execution_count": 5,
   "id": "42c63993",
   "metadata": {},
   "outputs": [
    {
     "data": {
      "text/plain": [
       "0"
      ]
     },
     "execution_count": 5,
     "metadata": {},
     "output_type": "execute_result"
    }
   ],
   "source": [
    "s3.find(\"A\")"
   ]
  },
  {
   "cell_type": "code",
   "execution_count": 8,
   "id": "593a1e6b",
   "metadata": {},
   "outputs": [
    {
     "data": {
      "text/plain": [
       "'A  b  ccdef  '"
      ]
     },
     "execution_count": 8,
     "metadata": {},
     "output_type": "execute_result"
    }
   ],
   "source": [
    "s3.format()"
   ]
  },
  {
   "cell_type": "markdown",
   "id": "dd3cea17",
   "metadata": {},
   "source": [
    "# Task 3-Q1:"
   ]
  },
  {
   "cell_type": "code",
   "execution_count": 10,
   "id": "242e69b7",
   "metadata": {},
   "outputs": [
    {
     "name": "stdout",
     "output_type": "stream",
     "text": [
      "ineuron \n",
      "ineuron ineuron \n",
      "ineuron ineuron ineuron \n",
      "ineuron ineuron ineuron ineuron \n"
     ]
    }
   ],
   "source": [
    "n=4\n",
    "for i in range(4):\n",
    "    print(\"ineuron \"*(i+1))"
   ]
  },
  {
   "cell_type": "markdown",
   "id": "95e19e03",
   "metadata": {},
   "source": [
    "# Task 3-Q2:"
   ]
  },
  {
   "cell_type": "code",
   "execution_count": 19,
   "id": "9fa1a09e",
   "metadata": {},
   "outputs": [
    {
     "name": "stdout",
     "output_type": "stream",
     "text": [
      "                              \n",
      "           ineuron            \n",
      "       ineuron ineuron        \n",
      "   ineuron ineuron ineuron    \n",
      "       ineuron ineuron        \n",
      "           ineuron            \n"
     ]
    }
   ],
   "source": [
    "for i in range(6):\n",
    "    if i<=3:\n",
    "        n=i\n",
    "    else:\n",
    "        n=6-i\n",
    "    print((\"ineuron \"*n).center(30, ' '))"
   ]
  },
  {
   "cell_type": "markdown",
   "id": "b1593261",
   "metadata": {},
   "source": []
  },
  {
   "cell_type": "code",
   "execution_count": null,
   "id": "3575088d",
   "metadata": {},
   "outputs": [],
   "source": []
  }
 ],
 "metadata": {
  "kernelspec": {
   "display_name": "Python 3 (ipykernel)",
   "language": "python",
   "name": "python3"
  },
  "language_info": {
   "codemirror_mode": {
    "name": "ipython",
    "version": 3
   },
   "file_extension": ".py",
   "mimetype": "text/x-python",
   "name": "python",
   "nbconvert_exporter": "python",
   "pygments_lexer": "ipython3",
   "version": "3.9.12"
  }
 },
 "nbformat": 4,
 "nbformat_minor": 5
}
