{
 "cells": [
  {
   "cell_type": "code",
   "execution_count": 3,
   "id": "b60cb2ac",
   "metadata": {},
   "outputs": [
    {
     "name": "stdout",
     "output_type": "stream",
     "text": [
      "First Input Number: 10\n",
      "Second Input Number: 0\n"
     ]
    },
    {
     "ename": "ZeroDivisionError",
     "evalue": "division by zero",
     "output_type": "error",
     "traceback": [
      "\u001b[1;31m---------------------------------------------------------------------------\u001b[0m",
      "\u001b[1;31mZeroDivisionError\u001b[0m                         Traceback (most recent call last)",
      "Input \u001b[1;32mIn [3]\u001b[0m, in \u001b[0;36m<cell line: 3>\u001b[1;34m()\u001b[0m\n\u001b[0;32m      1\u001b[0m a\u001b[38;5;241m=\u001b[39m\u001b[38;5;28mint\u001b[39m(\u001b[38;5;28minput\u001b[39m(\u001b[38;5;124m\"\u001b[39m\u001b[38;5;124mFirst Input Number: \u001b[39m\u001b[38;5;124m\"\u001b[39m))\n\u001b[0;32m      2\u001b[0m b\u001b[38;5;241m=\u001b[39m\u001b[38;5;28mint\u001b[39m(\u001b[38;5;28minput\u001b[39m(\u001b[38;5;124m\"\u001b[39m\u001b[38;5;124mSecond Input Number: \u001b[39m\u001b[38;5;124m\"\u001b[39m))\n\u001b[1;32m----> 3\u001b[0m c\u001b[38;5;241m=\u001b[39m\u001b[43ma\u001b[49m\u001b[38;5;241;43m/\u001b[39;49m\u001b[43mb\u001b[49m\n\u001b[0;32m      4\u001b[0m \u001b[38;5;28mprint\u001b[39m(c)\n\u001b[0;32m      5\u001b[0m d\u001b[38;5;241m=\u001b[39ma\u001b[38;5;241m*\u001b[39mb\n",
      "\u001b[1;31mZeroDivisionError\u001b[0m: division by zero"
     ]
    }
   ],
   "source": [
    "a=int(input(\"First Input Number: \"))\n",
    "b=int(input(\"Second Input Number: \"))\n",
    "c=a/b\n",
    "print(c)\n",
    "d=a*b\n",
    "print(d)"
   ]
  },
  {
   "cell_type": "code",
   "execution_count": null,
   "id": "c6bdab24",
   "metadata": {},
   "outputs": [],
   "source": [
    "#Types of exception handeling commands as follows:\n",
    "#try\n",
    "#except\n",
    "#else\n",
    "#raise\n",
    "#finally"
   ]
  },
  {
   "cell_type": "code",
   "execution_count": 6,
   "id": "a8da9825",
   "metadata": {},
   "outputs": [
    {
     "name": "stdout",
     "output_type": "stream",
     "text": [
      "First Input Number: 10\n",
      "Second Input Number: 0\n",
      "b should not be a Zero\n"
     ]
    }
   ],
   "source": [
    "a=int(input(\"First Input Number: \"))\n",
    "b=int(input(\"Second Input Number: \"))\n",
    "try:\n",
    "    c=a/b\n",
    "    print(c)\n",
    "except ZeroDivisionError:\n",
    "    print(\"b should not be a Zero\")"
   ]
  },
  {
   "cell_type": "code",
   "execution_count": 7,
   "id": "04aaf694",
   "metadata": {},
   "outputs": [
    {
     "ename": "SyntaxError",
     "evalue": "unmatched ')' (1857295220.py, line 5)",
     "output_type": "error",
     "traceback": [
      "\u001b[1;36m  Input \u001b[1;32mIn [7]\u001b[1;36m\u001b[0m\n\u001b[1;33m    print(c))\u001b[0m\n\u001b[1;37m            ^\u001b[0m\n\u001b[1;31mSyntaxError\u001b[0m\u001b[1;31m:\u001b[0m unmatched ')'\n"
     ]
    }
   ],
   "source": [
    "a=int(input(\"First Input Number: \"))\n",
    "b=int(input(\"Second Input Number: \"))\n",
    "try:\n",
    "    c=a/b\n",
    "    print(c))\n",
    "except SyntaxError:\n",
    "    print(\"wrong syntax\")\n",
    "d=a+b"
   ]
  },
  {
   "cell_type": "code",
   "execution_count": 20,
   "id": "8b346ff8",
   "metadata": {},
   "outputs": [
    {
     "name": "stdout",
     "output_type": "stream",
     "text": [
      "Enter 1st Input10\n",
      "Enter 2nd Input\"Jimmy\"\n",
      "Please enter intiger value only\n"
     ]
    }
   ],
   "source": [
    "c=input(\"Enter 1st Input\")\n",
    "d=input(\"Enter 2nd Input\")\n",
    "try:\n",
    "    type(c)!=int or type(d)!=int\n",
    "    e=c*d\n",
    "    print(e)\n",
    "except:\n",
    "    print(\"Please enter integer value only\")"
   ]
  },
  {
   "cell_type": "code",
   "execution_count": 23,
   "id": "fb77845c",
   "metadata": {},
   "outputs": [
    {
     "name": "stdout",
     "output_type": "stream",
     "text": [
      "Enter First Numeric Value10\n",
      "Enter Second Numeric ValueJ\n"
     ]
    },
    {
     "ename": "ValueError",
     "evalue": "invalid literal for int() with base 10: 'J'",
     "output_type": "error",
     "traceback": [
      "\u001b[1;31m---------------------------------------------------------------------------\u001b[0m",
      "\u001b[1;31mValueError\u001b[0m                                Traceback (most recent call last)",
      "Input \u001b[1;32mIn [23]\u001b[0m, in \u001b[0;36m<cell line: 2>\u001b[1;34m()\u001b[0m\n\u001b[0;32m      1\u001b[0m a\u001b[38;5;241m=\u001b[39m\u001b[38;5;28mint\u001b[39m(\u001b[38;5;28minput\u001b[39m(\u001b[38;5;124m\"\u001b[39m\u001b[38;5;124mEnter First Numeric Value\u001b[39m\u001b[38;5;124m\"\u001b[39m))\n\u001b[1;32m----> 2\u001b[0m b\u001b[38;5;241m=\u001b[39m\u001b[38;5;28;43mint\u001b[39;49m\u001b[43m(\u001b[49m\u001b[38;5;28;43minput\u001b[39;49m\u001b[43m(\u001b[49m\u001b[38;5;124;43m\"\u001b[39;49m\u001b[38;5;124;43mEnter Second Numeric Value\u001b[39;49m\u001b[38;5;124;43m\"\u001b[39;49m\u001b[43m)\u001b[49m\u001b[43m)\u001b[49m\n\u001b[0;32m      3\u001b[0m \u001b[38;5;28;01mtry\u001b[39;00m:\n\u001b[0;32m      4\u001b[0m     c\u001b[38;5;241m=\u001b[39ma\u001b[38;5;241m/\u001b[39mb\n",
      "\u001b[1;31mValueError\u001b[0m: invalid literal for int() with base 10: 'J'"
     ]
    }
   ],
   "source": [
    "a=int(input(\"Enter First Numeric Value\"))\n",
    "b=int(input(\"Enter Second Numeric Value\"))\n",
    "try:\n",
    "    c=a/b\n",
    "    print(c)\n",
    "    d=a+b\n",
    "    print(d)\n",
    "except ZeroDivisionError:\n",
    "    print(\"b should not be 0\")\n",
    "except ValueError:\n",
    "    print(\"Please Input Numeric Values Only\") "
   ]
  },
  {
   "cell_type": "code",
   "execution_count": 22,
   "id": "6db7ab12",
   "metadata": {},
   "outputs": [
    {
     "name": "stdout",
     "output_type": "stream",
     "text": [
      "Enter First Numeric Value10\n",
      "Enter Second Numeric Value0\n",
      "b should not be 0\n"
     ]
    }
   ],
   "source": [
    "a=int(input(\"Enter First Numeric Value\"))\n",
    "b=int(input(\"Enter Second Numeric Value\"))\n",
    "try:\n",
    "    c=a/b\n",
    "    print(c)\n",
    "    d=a+str(b)\n",
    "    print(d)\n",
    "except ZeroDivisionError:\n",
    "    print(\"b should not be 0\")"
   ]
  },
  {
   "cell_type": "code",
   "execution_count": 21,
   "id": "1d2d9b83",
   "metadata": {},
   "outputs": [
    {
     "name": "stdout",
     "output_type": "stream",
     "text": [
      "Enter First Numeric Value10\n",
      "Enter Second Numeric Value0\n",
      "b should not be 0\n"
     ]
    }
   ],
   "source": [
    "a=int(input(\"Enter First Numeric Value\"))\n",
    "b=int(input(\"Enter Second Numeric Value\"))\n",
    "try:\n",
    "    c=a/b\n",
    "    print(c)\n",
    "    d=a+str(b)\n",
    "    print(d)\n",
    "except:\n",
    "    print(\"b should not be 0\")"
   ]
  },
  {
   "cell_type": "code",
   "execution_count": 26,
   "id": "74c9d412",
   "metadata": {},
   "outputs": [
    {
     "name": "stdout",
     "output_type": "stream",
     "text": [
      "Enter First Numeric Value10\n",
      "Enter Second Numeric Valueh\n"
     ]
    },
    {
     "ename": "ValueError",
     "evalue": "invalid literal for int() with base 10: 'h'",
     "output_type": "error",
     "traceback": [
      "\u001b[1;31m---------------------------------------------------------------------------\u001b[0m",
      "\u001b[1;31mValueError\u001b[0m                                Traceback (most recent call last)",
      "Input \u001b[1;32mIn [26]\u001b[0m, in \u001b[0;36m<cell line: 2>\u001b[1;34m()\u001b[0m\n\u001b[0;32m      1\u001b[0m a\u001b[38;5;241m=\u001b[39m\u001b[38;5;28mint\u001b[39m(\u001b[38;5;28minput\u001b[39m(\u001b[38;5;124m\"\u001b[39m\u001b[38;5;124mEnter First Numeric Value\u001b[39m\u001b[38;5;124m\"\u001b[39m))\n\u001b[1;32m----> 2\u001b[0m b\u001b[38;5;241m=\u001b[39m\u001b[38;5;28;43mint\u001b[39;49m\u001b[43m(\u001b[49m\u001b[38;5;28;43minput\u001b[39;49m\u001b[43m(\u001b[49m\u001b[38;5;124;43m\"\u001b[39;49m\u001b[38;5;124;43mEnter Second Numeric Value\u001b[39;49m\u001b[38;5;124;43m\"\u001b[39;49m\u001b[43m)\u001b[49m\u001b[43m)\u001b[49m\n\u001b[0;32m      3\u001b[0m \u001b[38;5;28;01mtry\u001b[39;00m:\n\u001b[0;32m      4\u001b[0m     c\u001b[38;5;241m=\u001b[39ma\u001b[38;5;241m/\u001b[39mb\n",
      "\u001b[1;31mValueError\u001b[0m: invalid literal for int() with base 10: 'h'"
     ]
    }
   ],
   "source": [
    "a=int(input(\"Enter First Numeric Value\"))\n",
    "b=int(input(\"Enter Second Numeric Value\"))\n",
    "try:\n",
    "    c=a/b\n",
    "    print(c)\n",
    "    d=a+b\n",
    "    print(d)\n",
    "except (ZeroDivisionError, TypeError):\n",
    "    print(\"b should not be 0 OR Please Input Numeric Values Only\")"
   ]
  },
  {
   "cell_type": "code",
   "execution_count": null,
   "id": "3646900b",
   "metadata": {},
   "outputs": [
    {
     "name": "stdout",
     "output_type": "stream",
     "text": [
      "enter first number10\n",
      "enter second number0\n",
      "pleas inter numer\n",
      "enter first number0\n",
      "enter second number0\n",
      "pleas inter numer\n",
      "enter first number0\n",
      "enter second number0\n",
      "pleas inter numer\n",
      "enter first number10\n",
      "enter second number20\n",
      "pleas inter numer\n"
     ]
    }
   ],
   "source": [
    "l=0\n",
    "while l<=0:\n",
    "    a=input('enter first number')\n",
    "    b=input('enter second number')\n",
    "    #if type (a)!=int or type(b)!=int:\n",
    "        #print('enter integer value')\n",
    "    try:\n",
    "        c=a/b\n",
    "        print(c)\n",
    "        break\n",
    "       \n",
    "    except ZeroDivisionError:\n",
    "        print('b should not be 0')\n",
    "        \n",
    "    except TypeError:\n",
    "        print('pleas inter numer')"
   ]
  },
  {
   "cell_type": "code",
   "execution_count": 3,
   "id": "6a5000e1",
   "metadata": {},
   "outputs": [
    {
     "name": "stdout",
     "output_type": "stream",
     "text": [
      "Enter a string: hi\n",
      "Value not allow\n"
     ]
    }
   ],
   "source": [
    "try:\n",
    "    int(input(\"Enter a string: \"))\n",
    "except:\n",
    "    print(\"Value not allow\")"
   ]
  },
  {
   "cell_type": "code",
   "execution_count": null,
   "id": "10c08661",
   "metadata": {},
   "outputs": [],
   "source": []
  }
 ],
 "metadata": {
  "kernelspec": {
   "display_name": "Python 3 (ipykernel)",
   "language": "python",
   "name": "python3"
  },
  "language_info": {
   "codemirror_mode": {
    "name": "ipython",
    "version": 3
   },
   "file_extension": ".py",
   "mimetype": "text/x-python",
   "name": "python",
   "nbconvert_exporter": "python",
   "pygments_lexer": "ipython3",
   "version": "3.9.12"
  }
 },
 "nbformat": 4,
 "nbformat_minor": 5
}
