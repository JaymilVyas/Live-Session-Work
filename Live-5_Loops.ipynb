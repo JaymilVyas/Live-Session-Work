{
 "cells": [
  {
   "cell_type": "code",
   "execution_count": 7,
   "id": "87239cab",
   "metadata": {},
   "outputs": [
    {
     "name": "stdout",
     "output_type": "stream",
     "text": [
      "********************\n",
      "********    ********\n",
      "       *    *\n",
      "       *    *\n",
      "       *    *\n",
      "       *    *\n",
      "********    ********\n",
      "********************\n",
      "\n",
      "\n",
      "\n",
      "\n",
      "\n",
      "\n",
      "\n",
      "\n",
      "\n",
      "\n",
      "\n",
      "\n",
      "\n",
      "\n",
      "\n",
      "\n",
      "\n",
      "\n",
      "\n",
      "\n"
     ]
    }
   ],
   "source": [
    "a=20\n",
    "b=19\n",
    "for i in range(a,0,-1):\n",
    "    for j in range(i-b):\n",
    "        print('*'*(a-10)+'*'*(a-10))\n",
    "        print('*'*(a-12)+(' '*4) +'*'*(a-12))\n",
    "        print(' '*(a-13)+'*'+' '*4+'*')\n",
    "        print(' '*(a-13)+'*'+' '*4+'*')\n",
    "        print(' '*(a-13)+'*'+' '*4+'*')\n",
    "        print(' '*(a-13)+'*'+' '*4+'*')\n",
    "    for j in range(i-b):\n",
    "        print('*'*(a-12)+(' '*4) +'*'*(a-12))\n",
    "        print('*'*(a-10)+'*'*(a-10))\n",
    "    print()"
   ]
  },
  {
   "cell_type": "code",
   "execution_count": 6,
   "id": "b3fd887a",
   "metadata": {},
   "outputs": [
    {
     "name": "stdout",
     "output_type": "stream",
     "text": [
      "********************\n",
      "********    ********\n",
      "       *    *\n",
      "       *    *\n",
      "       *    *\n",
      "       *    *\n",
      "       *    *\n",
      "********    ********\n",
      "********************\n",
      "\n",
      "       *    *\n",
      "       *    *\n",
      "       *    *\n",
      "       *    *\n",
      "       *    *\n",
      "\n",
      "       *    *\n",
      "       *    *\n",
      "       *    *\n",
      "       *    *\n",
      "       *    *\n",
      "\n",
      "       *    *\n",
      "       *    *\n",
      "       *    *\n",
      "       *    *\n",
      "       *    *\n",
      "\n",
      "       *    *\n",
      "       *    *\n",
      "       *    *\n",
      "       *    *\n",
      "       *    *\n",
      "\n",
      "       *    *\n",
      "       *    *\n",
      "       *    *\n",
      "       *    *\n",
      "       *    *\n",
      "\n",
      "       *    *\n",
      "       *    *\n",
      "       *    *\n",
      "       *    *\n",
      "       *    *\n",
      "\n",
      "       *    *\n",
      "       *    *\n",
      "       *    *\n",
      "       *    *\n",
      "       *    *\n",
      "\n",
      "       *    *\n",
      "       *    *\n",
      "       *    *\n",
      "       *    *\n",
      "       *    *\n",
      "\n",
      "       *    *\n",
      "       *    *\n",
      "       *    *\n",
      "       *    *\n",
      "       *    *\n",
      "\n",
      "       *    *\n",
      "       *    *\n",
      "       *    *\n",
      "       *    *\n",
      "       *    *\n",
      "\n",
      "       *    *\n",
      "       *    *\n",
      "       *    *\n",
      "       *    *\n",
      "       *    *\n",
      "\n",
      "       *    *\n",
      "       *    *\n",
      "       *    *\n",
      "       *    *\n",
      "       *    *\n",
      "\n",
      "       *    *\n",
      "       *    *\n",
      "       *    *\n",
      "       *    *\n",
      "       *    *\n",
      "\n",
      "       *    *\n",
      "       *    *\n",
      "       *    *\n",
      "       *    *\n",
      "       *    *\n",
      "\n",
      "       *    *\n",
      "       *    *\n",
      "       *    *\n",
      "       *    *\n",
      "       *    *\n",
      "\n",
      "       *    *\n",
      "       *    *\n",
      "       *    *\n",
      "       *    *\n",
      "       *    *\n",
      "\n",
      "       *    *\n",
      "       *    *\n",
      "       *    *\n",
      "       *    *\n",
      "       *    *\n",
      "\n",
      "       *    *\n",
      "       *    *\n",
      "       *    *\n",
      "       *    *\n",
      "       *    *\n",
      "\n",
      "       *    *\n",
      "       *    *\n",
      "       *    *\n",
      "       *    *\n",
      "       *    *\n",
      "\n"
     ]
    }
   ],
   "source": [
    "a=20\n",
    "b=19\n",
    "for i in range(a,0,-1):\n",
    "    for j in range(i-b):\n",
    "        print('*'*(a-10)+'*'*(a-10))\n",
    "        print('*'*(a-12)+(' '*4) +'*'*(a-12))\n",
    "    for j in range(30,25,-1):\n",
    "        print(' '*(a-13)+'*'+' '*4+'*')\n",
    "    for j in range(i-b):\n",
    "        print('*'*(a-12)+(' '*4) +'*'*(a-12))\n",
    "        print('*'*(a-10)+'*'*(a-10))\n",
    "    print()"
   ]
  },
  {
   "cell_type": "code",
   "execution_count": 9,
   "id": "b8bd4982",
   "metadata": {},
   "outputs": [],
   "source": [
    "l=[1,2,3,4,\"Jimmy\",\"Vyas\",19.89]"
   ]
  },
  {
   "cell_type": "code",
   "execution_count": 12,
   "id": "ff2b1b14",
   "metadata": {},
   "outputs": [
    {
     "name": "stdout",
     "output_type": "stream",
     "text": [
      "1\n",
      "2\n",
      "3\n",
      "4\n",
      "Jimmy\n",
      "Vyas\n",
      "19.89\n"
     ]
    }
   ],
   "source": [
    "for i in l:\n",
    "    print(i)"
   ]
  },
  {
   "cell_type": "code",
   "execution_count": 13,
   "id": "eb22caa6",
   "metadata": {},
   "outputs": [],
   "source": [
    "for i in l:\n",
    "    pass"
   ]
  },
  {
   "cell_type": "code",
   "execution_count": 14,
   "id": "088e7cad",
   "metadata": {},
   "outputs": [
    {
     "name": "stdout",
     "output_type": "stream",
     "text": [
      "J\n",
      "i\n",
      "m\n",
      "m\n",
      "y\n"
     ]
    }
   ],
   "source": [
    "j=\"Jimmy\"\n",
    "for i in j:\n",
    "    print(i)"
   ]
  },
  {
   "cell_type": "code",
   "execution_count": 15,
   "id": "8422bfd3",
   "metadata": {},
   "outputs": [
    {
     "name": "stdout",
     "output_type": "stream",
     "text": [
      "Jumbo\n",
      "1\n",
      "2\n",
      "3\n",
      "Gardenia\n"
     ]
    }
   ],
   "source": [
    "t=(\"Jumbo\",1,2,3,\"Gardenia\")\n",
    "for i in t:\n",
    "    print(i)"
   ]
  },
  {
   "cell_type": "code",
   "execution_count": 18,
   "id": "214f5219",
   "metadata": {},
   "outputs": [
    {
     "name": "stdout",
     "output_type": "stream",
     "text": [
      "1\n",
      "2\n",
      "3\n",
      "4\n",
      "Jimmy\n",
      "Vyas\n",
      "19.89\n",
      "If for loop is going to complete itself the list will execute else\n"
     ]
    }
   ],
   "source": [
    "for i in l:\n",
    "    print(i)\n",
    "else:\n",
    "    print(\"If for loop is going to complete itself the list will execute else\")"
   ]
  },
  {
   "cell_type": "code",
   "execution_count": 23,
   "id": "65f14356",
   "metadata": {},
   "outputs": [
    {
     "name": "stdout",
     "output_type": "stream",
     "text": [
      "1\n",
      "2\n",
      "3\n"
     ]
    }
   ],
   "source": [
    "for i in l:\n",
    "    if i==4:\n",
    "        break\n",
    "    print(i)\n",
    "else:\n",
    "    print(\"This will execute only if for is going to complete itself\")"
   ]
  },
  {
   "cell_type": "code",
   "execution_count": 25,
   "id": "e4b9f1d2",
   "metadata": {},
   "outputs": [
    {
     "name": "stdout",
     "output_type": "stream",
     "text": [
      "J\n",
      "a\n",
      "y\n",
      "m\n",
      "i\n",
      "l\n",
      "\r\n",
      " \n",
      "V\n",
      "y\n",
      "a\n",
      "s\n",
      "print string Jaymil Vyas\n"
     ]
    }
   ],
   "source": [
    "j=\"Jaymil Vyas\"\n",
    "for i in j:\n",
    "    if i==\" \":\n",
    "        print(\"\\r\")\n",
    "    print(i)\n",
    "else:\n",
    "    print(\"print string\", j)"
   ]
  },
  {
   "cell_type": "code",
   "execution_count": 27,
   "id": "c536f013",
   "metadata": {},
   "outputs": [
    {
     "name": "stdout",
     "output_type": "stream",
     "text": [
      "1\n",
      "2\n",
      "3\n",
      "4\n",
      "5\n",
      "Jimmy\n"
     ]
    }
   ],
   "source": [
    "t=(1,2,3,4,5,\"Jimmy\")\n",
    "for i in t:\n",
    "    print(i)"
   ]
  },
  {
   "cell_type": "code",
   "execution_count": 33,
   "id": "368764d9",
   "metadata": {},
   "outputs": [
    {
     "name": "stdout",
     "output_type": "stream",
     "text": [
      "1 <class 'set'>\n",
      "2 <class 'set'>\n",
      "66 <class 'set'>\n",
      "4 <class 'set'>\n",
      "5 <class 'set'>\n",
      "8 <class 'set'>\n",
      "9 <class 'set'>\n",
      "55 <class 'set'>\n",
      "88 <class 'set'>\n"
     ]
    }
   ],
   "source": [
    "s={1,2,4,5,9,8,9,88,66,55,55,55}\n",
    "for i in s:\n",
    "    print(i,type(s))"
   ]
  },
  {
   "cell_type": "code",
   "execution_count": 43,
   "id": "35e058d5",
   "metadata": {},
   "outputs": [
    {
     "name": "stdout",
     "output_type": "stream",
     "text": [
      "d1 : Name\n",
      "d2 : Address\n",
      "d3 : Number\n",
      "d4 : EmailID\n"
     ]
    }
   ],
   "source": [
    "d={'d1':\"Name\",'d2':\"Address\",'d3':\"Number\",'d4':\"EmailID\"}\n",
    "for i in d:\n",
    "    print(i,\":\",d[i])"
   ]
  },
  {
   "cell_type": "code",
   "execution_count": 45,
   "id": "dfb30a75",
   "metadata": {},
   "outputs": [
    {
     "data": {
      "text/plain": [
       "range(0, 9)"
      ]
     },
     "execution_count": 45,
     "metadata": {},
     "output_type": "execute_result"
    }
   ],
   "source": [
    "range(9)"
   ]
  },
  {
   "cell_type": "code",
   "execution_count": 46,
   "id": "fa7d12c0",
   "metadata": {},
   "outputs": [
    {
     "data": {
      "text/plain": [
       "[0, 1, 2, 3, 4, 5, 6, 7, 8]"
      ]
     },
     "execution_count": 46,
     "metadata": {},
     "output_type": "execute_result"
    }
   ],
   "source": [
    "list(range(9))"
   ]
  },
  {
   "cell_type": "code",
   "execution_count": 47,
   "id": "e9762766",
   "metadata": {},
   "outputs": [
    {
     "name": "stdout",
     "output_type": "stream",
     "text": [
      "0\n",
      "1\n",
      "2\n",
      "3\n",
      "4\n",
      "5\n",
      "6\n",
      "7\n",
      "8\n"
     ]
    }
   ],
   "source": [
    "for i in range(9):\n",
    "    print(i)"
   ]
  },
  {
   "cell_type": "code",
   "execution_count": 48,
   "id": "2e458789",
   "metadata": {},
   "outputs": [
    {
     "data": {
      "text/plain": [
       "range(0, 9)"
      ]
     },
     "execution_count": 48,
     "metadata": {},
     "output_type": "execute_result"
    }
   ],
   "source": [
    "range(0,9)"
   ]
  },
  {
   "cell_type": "code",
   "execution_count": 49,
   "id": "827d20ff",
   "metadata": {},
   "outputs": [
    {
     "data": {
      "text/plain": [
       "[0, 1, 2, 3, 4, 5, 6, 7, 8]"
      ]
     },
     "execution_count": 49,
     "metadata": {},
     "output_type": "execute_result"
    }
   ],
   "source": [
    "list(range(0,9))"
   ]
  },
  {
   "cell_type": "code",
   "execution_count": 53,
   "id": "7a565c3b",
   "metadata": {},
   "outputs": [
    {
     "data": {
      "text/plain": [
       "[]"
      ]
     },
     "execution_count": 53,
     "metadata": {},
     "output_type": "execute_result"
    }
   ],
   "source": [
    "list(range(0,9,-1))"
   ]
  },
  {
   "cell_type": "code",
   "execution_count": 54,
   "id": "c76cfbe0",
   "metadata": {},
   "outputs": [
    {
     "data": {
      "text/plain": [
       "[9, 8, 7, 6, 5, 4, 3, 2, 1]"
      ]
     },
     "execution_count": 54,
     "metadata": {},
     "output_type": "execute_result"
    }
   ],
   "source": [
    "list(range(9,0,-1))"
   ]
  },
  {
   "cell_type": "code",
   "execution_count": 61,
   "id": "4aba4b85",
   "metadata": {},
   "outputs": [
    {
     "name": "stdout",
     "output_type": "stream",
     "text": [
      "* \n",
      "\n",
      "* * \n",
      "\n",
      "* * * \n",
      "\n",
      "* * * * \n",
      "\n"
     ]
    }
   ],
   "source": [
    "n=4\n",
    "for i in range(4):\n",
    "    for j in range(0,i+1):\n",
    "        print(\"*\",end=\" \")\n",
    "    print(\"\\n\")"
   ]
  },
  {
   "cell_type": "code",
   "execution_count": 74,
   "id": "b0f4ab56",
   "metadata": {},
   "outputs": [
    {
     "name": "stdout",
     "output_type": "stream",
     "text": [
      "            Jimmy \n",
      "      Jimmy Jimmy Jimmy \n",
      "Jimmy Jimmy Jimmy Jimmy Jimmy \n"
     ]
    }
   ],
   "source": [
    "n=3\n",
    "for i in range(n):\n",
    "    for j in range(i,n-1):\n",
    "        print(\" \"*len(\"Jimmy\"),end=\" \")\n",
    "    for j in range(i+1):\n",
    "        print(\"Jimmy\",end=\" \")\n",
    "    for j in range(i):\n",
    "        print(\"Jimmy\",end=\" \")\n",
    "    print()"
   ]
  },
  {
   "cell_type": "code",
   "execution_count": 75,
   "id": "a51c8af0",
   "metadata": {},
   "outputs": [],
   "source": [
    "t=(3,23,45,67,2,4,5,6)"
   ]
  },
  {
   "cell_type": "code",
   "execution_count": 78,
   "id": "a7ca6e1b",
   "metadata": {},
   "outputs": [
    {
     "name": "stdout",
     "output_type": "stream",
     "text": [
      "0 3\n",
      "1 23\n",
      "2 45\n",
      "3 67\n",
      "4 2\n",
      "5 4\n",
      "6 5\n",
      "7 6\n"
     ]
    }
   ],
   "source": [
    "for i in t:\n",
    "    print(t.index(i),i)"
   ]
  },
  {
   "cell_type": "code",
   "execution_count": 81,
   "id": "d0a51a0d",
   "metadata": {},
   "outputs": [
    {
     "name": "stdout",
     "output_type": "stream",
     "text": [
      "0 3\n",
      "1 23\n",
      "2 45\n",
      "3 67\n",
      "4 2\n",
      "5 4\n",
      "6 5\n",
      "7 6\n"
     ]
    }
   ],
   "source": [
    "for i in range(len(t)):\n",
    "    print(i,t[i])"
   ]
  },
  {
   "cell_type": "code",
   "execution_count": 85,
   "id": "13b20a44",
   "metadata": {},
   "outputs": [
    {
     "ename": "TypeError",
     "evalue": "'str' object cannot be interpreted as an integer",
     "output_type": "error",
     "traceback": [
      "\u001b[1;31m---------------------------------------------------------------------------\u001b[0m",
      "\u001b[1;31mTypeError\u001b[0m                                 Traceback (most recent call last)",
      "Input \u001b[1;32mIn [85]\u001b[0m, in \u001b[0;36m<cell line: 2>\u001b[1;34m()\u001b[0m\n\u001b[0;32m      1\u001b[0m j\u001b[38;5;241m=\u001b[39m\u001b[38;5;124m\"\u001b[39m\u001b[38;5;124mJimmy\u001b[39m\u001b[38;5;124m\"\u001b[39m\n\u001b[1;32m----> 2\u001b[0m \u001b[38;5;28;01mfor\u001b[39;00m i \u001b[38;5;129;01min\u001b[39;00m \u001b[38;5;28;43mrange\u001b[39;49m\u001b[43m(\u001b[49m\u001b[43mj\u001b[49m\u001b[43m)\u001b[49m:\n\u001b[0;32m      3\u001b[0m     \u001b[38;5;28mprint\u001b[39m(i)\n",
      "\u001b[1;31mTypeError\u001b[0m: 'str' object cannot be interpreted as an integer"
     ]
    }
   ],
   "source": [
    "j=\"Jimmy\"\n",
    "for i in range(j):\n",
    "    print(i)"
   ]
  },
  {
   "cell_type": "code",
   "execution_count": 101,
   "id": "eef70f19",
   "metadata": {},
   "outputs": [
    {
     "name": "stdout",
     "output_type": "stream",
     "text": [
      "4 y\n",
      "3 m\n",
      "2 m\n",
      "1 i\n",
      "0 J\n"
     ]
    }
   ],
   "source": [
    "j=\"Jimmy\"\n",
    "for i in range(len(j)-1,-1,-1):\n",
    "    print(i,j[i])"
   ]
  },
  {
   "cell_type": "code",
   "execution_count": 102,
   "id": "ffc11492",
   "metadata": {},
   "outputs": [
    {
     "data": {
      "text/plain": [
       "{'d1': 'Name', 'd2': 'Address', 'd3': 'Number', 'd4': 'EmailID'}"
      ]
     },
     "execution_count": 102,
     "metadata": {},
     "output_type": "execute_result"
    }
   ],
   "source": [
    "d"
   ]
  },
  {
   "cell_type": "code",
   "execution_count": 104,
   "id": "5496f838",
   "metadata": {},
   "outputs": [
    {
     "data": {
      "text/plain": [
       "dict_items([('d1', 'Name'), ('d2', 'Address'), ('d3', 'Number'), ('d4', 'EmailID')])"
      ]
     },
     "execution_count": 104,
     "metadata": {},
     "output_type": "execute_result"
    }
   ],
   "source": [
    "d.items()"
   ]
  },
  {
   "cell_type": "code",
   "execution_count": 107,
   "id": "d55a848e",
   "metadata": {},
   "outputs": [
    {
     "name": "stdout",
     "output_type": "stream",
     "text": [
      "('d1', 'Name') <class 'tuple'> <class 'str'>\n",
      "('d2', 'Address') <class 'tuple'> <class 'str'>\n",
      "('d3', 'Number') <class 'tuple'> <class 'str'>\n",
      "('d4', 'EmailID') <class 'tuple'> <class 'str'>\n"
     ]
    }
   ],
   "source": [
    "for i in d.items():\n",
    "    print(i,type(i),type(i[1]))"
   ]
  },
  {
   "cell_type": "code",
   "execution_count": 108,
   "id": "8f70c71a",
   "metadata": {},
   "outputs": [],
   "source": [
    "l=[\"Jimmy\",\"@gmail.com\",123456,65.23,8899,\"Vyas\"]"
   ]
  },
  {
   "cell_type": "code",
   "execution_count": 109,
   "id": "0f047420",
   "metadata": {},
   "outputs": [
    {
     "ename": "NameError",
     "evalue": "name 'isnumeric' is not defined",
     "output_type": "error",
     "traceback": [
      "\u001b[1;31m---------------------------------------------------------------------------\u001b[0m",
      "\u001b[1;31mNameError\u001b[0m                                 Traceback (most recent call last)",
      "Input \u001b[1;32mIn [109]\u001b[0m, in \u001b[0;36m<cell line: 1>\u001b[1;34m()\u001b[0m\n\u001b[1;32m----> 1\u001b[0m \u001b[43misnumeric\u001b[49m(l)\n",
      "\u001b[1;31mNameError\u001b[0m: name 'isnumeric' is not defined"
     ]
    }
   ],
   "source": [
    "isnumeric(l)"
   ]
  },
  {
   "cell_type": "code",
   "execution_count": 128,
   "id": "311d3547",
   "metadata": {},
   "outputs": [
    {
     "name": "stdout",
     "output_type": "stream",
     "text": [
      "123456\n",
      "8899\n"
     ]
    }
   ],
   "source": [
    "for i in l:\n",
    "    if type(i)==int:\n",
    "        print(i)"
   ]
  },
  {
   "cell_type": "code",
   "execution_count": 112,
   "id": "b031d2f8",
   "metadata": {},
   "outputs": [
    {
     "data": {
      "text/plain": [
       "str"
      ]
     },
     "execution_count": 112,
     "metadata": {},
     "output_type": "execute_result"
    }
   ],
   "source": [
    "type(i)"
   ]
  },
  {
   "cell_type": "code",
   "execution_count": 119,
   "id": "7c197c7d",
   "metadata": {},
   "outputs": [],
   "source": [
    "d={1:4455,\"Name\":\"Jaymil\",\"EmailID\":\"jaymilvyas@gmail.com\",123:\"abcdefg\",\"1989\":456}"
   ]
  },
  {
   "cell_type": "code",
   "execution_count": 120,
   "id": "e554fd9f",
   "metadata": {},
   "outputs": [
    {
     "data": {
      "text/plain": [
       "{1: 4455,\n",
       " 'Name': 'Jaymil',\n",
       " 'EmailID': 'jaymilvyas@gmail.com',\n",
       " 123: 'abcdefg',\n",
       " '1989': 456}"
      ]
     },
     "execution_count": 120,
     "metadata": {},
     "output_type": "execute_result"
    }
   ],
   "source": [
    "d"
   ]
  },
  {
   "cell_type": "code",
   "execution_count": 130,
   "id": "1cf731d0",
   "metadata": {},
   "outputs": [
    {
     "name": "stdout",
     "output_type": "stream",
     "text": [
      "1 : 4455\n",
      "123 : abcdefg\n"
     ]
    }
   ],
   "source": [
    "for i in d:\n",
    "    if type(i)==int:\n",
    "        print(i,\":\",d[i])"
   ]
  },
  {
   "cell_type": "code",
   "execution_count": 141,
   "id": "323a2db4",
   "metadata": {},
   "outputs": [
    {
     "name": "stdout",
     "output_type": "stream",
     "text": [
      "d : 1\n",
      "b : 2\n",
      "a : 4\n",
      "c : 2\n"
     ]
    }
   ],
   "source": [
    "s=\"aaaabbccd\"\n",
    "for i in set(s):\n",
    "    print(i,\":\",s.count(i))"
   ]
  },
  {
   "cell_type": "code",
   "execution_count": 137,
   "id": "87623a59",
   "metadata": {},
   "outputs": [
    {
     "ename": "NameError",
     "evalue": "name 'count' is not defined",
     "output_type": "error",
     "traceback": [
      "\u001b[1;31m---------------------------------------------------------------------------\u001b[0m",
      "\u001b[1;31mNameError\u001b[0m                                 Traceback (most recent call last)",
      "Input \u001b[1;32mIn [137]\u001b[0m, in \u001b[0;36m<cell line: 1>\u001b[1;34m()\u001b[0m\n\u001b[1;32m----> 1\u001b[0m \u001b[43mcount\u001b[49m(s)\n",
      "\u001b[1;31mNameError\u001b[0m: name 'count' is not defined"
     ]
    }
   ],
   "source": []
  },
  {
   "cell_type": "code",
   "execution_count": 143,
   "id": "d1f48cfd",
   "metadata": {},
   "outputs": [
    {
     "ename": "TypeError",
     "evalue": "'int' object is not iterable",
     "output_type": "error",
     "traceback": [
      "\u001b[1;31m---------------------------------------------------------------------------\u001b[0m",
      "\u001b[1;31mTypeError\u001b[0m                                 Traceback (most recent call last)",
      "Input \u001b[1;32mIn [143]\u001b[0m, in \u001b[0;36m<cell line: 2>\u001b[1;34m()\u001b[0m\n\u001b[0;32m      1\u001b[0m i\u001b[38;5;241m=\u001b[39m\u001b[38;5;241m3453454646435\u001b[39m\n\u001b[1;32m----> 2\u001b[0m \u001b[38;5;28;01mfor\u001b[39;00m j \u001b[38;5;129;01min\u001b[39;00m i:\n\u001b[0;32m      3\u001b[0m     \u001b[38;5;28mprint\u001b[39m(j)\n",
      "\u001b[1;31mTypeError\u001b[0m: 'int' object is not iterable"
     ]
    }
   ],
   "source": [
    "i=3453454646435\n",
    "for j in i:\n",
    "    print(j)"
   ]
  },
  {
   "cell_type": "code",
   "execution_count": 149,
   "id": "37b35502",
   "metadata": {},
   "outputs": [
    {
     "name": "stdout",
     "output_type": "stream",
     "text": [
      "3 <class 'int'>\n",
      "4 <class 'int'>\n",
      "5 <class 'int'>\n",
      "3 <class 'int'>\n",
      "4 <class 'int'>\n",
      "5 <class 'int'>\n",
      "4 <class 'int'>\n",
      "6 <class 'int'>\n",
      "4 <class 'int'>\n",
      "6 <class 'int'>\n",
      "4 <class 'int'>\n",
      "3 <class 'int'>\n",
      "5 <class 'int'>\n"
     ]
    }
   ],
   "source": [
    "for j in list(str(i)):\n",
    "    print(int(j),type(int(j)))"
   ]
  },
  {
   "cell_type": "code",
   "execution_count": 164,
   "id": "3bf15f91",
   "metadata": {},
   "outputs": [
    {
     "data": {
      "text/plain": [
       "('Jaymil', 'Vyas', [3, 5, 6], (3, 49), {'Key1': 'One', 'Key2': 'Two', 3: 3})"
      ]
     },
     "execution_count": 164,
     "metadata": {},
     "output_type": "execute_result"
    }
   ],
   "source": [
    "t = (\"Jaymil\",\"Vyas\",[3,5,6],(3,49),{'Key1':\"One\",\"Key2\":\"Two\",3:3})\n",
    "t"
   ]
  },
  {
   "cell_type": "code",
   "execution_count": 171,
   "id": "4388cdab",
   "metadata": {},
   "outputs": [
    {
     "name": "stdout",
     "output_type": "stream",
     "text": [
      "3\n",
      "3\n",
      "3\n",
      "3\n",
      "3\n"
     ]
    }
   ],
   "source": [
    "for i in t:\n",
    "    if type(i)==list or type(i)==tuple or type(i)==dict:\n",
    "        for j in i:\n",
    "            if j ==3:\n",
    "                print(j)\n",
    "    if type(i)==dict:\n",
    "        for k,v in i.items():\n",
    "            if k==3 or v==3:\n",
    "                print(k)\n",
    "                print(v)"
   ]
  },
  {
   "cell_type": "code",
   "execution_count": 172,
   "id": "32cc50ad",
   "metadata": {},
   "outputs": [],
   "source": [
    "d={4:5,\"Key1\":\"Jaymil\",\"Key2\":\"JV\"}"
   ]
  },
  {
   "cell_type": "code",
   "execution_count": 173,
   "id": "9e18a807",
   "metadata": {},
   "outputs": [
    {
     "data": {
      "text/plain": [
       "{4: 5, 'Key1': 'Jaymil', 'Key2': 'JV'}"
      ]
     },
     "execution_count": 173,
     "metadata": {},
     "output_type": "execute_result"
    }
   ],
   "source": [
    "d"
   ]
  },
  {
   "cell_type": "code",
   "execution_count": 176,
   "id": "6091720a",
   "metadata": {},
   "outputs": [
    {
     "name": "stdout",
     "output_type": "stream",
     "text": [
      "4 : 5\n",
      "Key1 : Jaymil\n",
      "Key2 : JV\n"
     ]
    }
   ],
   "source": [
    "for i,j in d.items():\n",
    "    print(i,\":\",j)"
   ]
  },
  {
   "cell_type": "code",
   "execution_count": 185,
   "id": "659a8241",
   "metadata": {},
   "outputs": [
    {
     "name": "stdout",
     "output_type": "stream",
     "text": [
      "ineuron \n",
      "ineuron ineuron \n",
      "ineuron ineuron ineuron \n",
      "ineuron ineuron ineuron ineuron \n"
     ]
    }
   ],
   "source": [
    "s=\"ineuron\"\n",
    "n=4\n",
    "for i in range(n):\n",
    "    for j in range(i+1):\n",
    "        print(s,end=\" \")\n",
    "    print()"
   ]
  },
  {
   "cell_type": "code",
   "execution_count": 203,
   "id": "b6a153f7",
   "metadata": {},
   "outputs": [
    {
     "name": "stdout",
     "output_type": "stream",
     "text": [
      "******* \n",
      "******* \n",
      "******* \n",
      "******* \n",
      "******* \n"
     ]
    }
   ],
   "source": [
    "s=\"ineuron\"\n",
    "n=5\n",
    "for i in range(n,0,-1):\n",
    "    for j in range(0,1):\n",
    "        print(\"*\"*len(s),end=\" \")\n",
    "    print()    "
   ]
  },
  {
   "cell_type": "code",
   "execution_count": 238,
   "id": "76c82546",
   "metadata": {},
   "outputs": [
    {
     "name": "stdout",
     "output_type": "stream",
     "text": [
      "\n",
      "\n",
      "\n",
      "\n",
      "\n"
     ]
    }
   ],
   "source": [
    "s=\"ineuron\"\n",
    "n=5\n",
    "for i in range(0,n):\n",
    "    for j in range(n,n-i):\n",
    "        print(\"*\"*len(s),end=\"\")\n",
    "    print()"
   ]
  },
  {
   "cell_type": "code",
   "execution_count": null,
   "id": "f234d021",
   "metadata": {},
   "outputs": [],
   "source": []
  }
 ],
 "metadata": {
  "kernelspec": {
   "display_name": "Python 3 (ipykernel)",
   "language": "python",
   "name": "python3"
  },
  "language_info": {
   "codemirror_mode": {
    "name": "ipython",
    "version": 3
   },
   "file_extension": ".py",
   "mimetype": "text/x-python",
   "name": "python",
   "nbconvert_exporter": "python",
   "pygments_lexer": "ipython3",
   "version": "3.9.12"
  }
 },
 "nbformat": 4,
 "nbformat_minor": 5
}
